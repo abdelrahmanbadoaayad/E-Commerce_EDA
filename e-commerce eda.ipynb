{
 "cells": [
  {
   "cell_type": "code",
   "execution_count": 1,
   "id": "5e5b75c7",
   "metadata": {},
   "outputs": [],
   "source": [
    "# preface\n",
    "#In this project i will analyze the data of e-commerce crm analytics merchant such as Amazon \n",
    "#here are the pre-project context:-\n",
    "   # 1- data set is about e-commerce crm analytics \n",
    "   # 2- type of analysis used is (descreptive/diagnostic)\n",
    "   # 3- what are the questions about the project ??\n",
    "    #  (what are the most sold products\n",
    "     # , from which products are the most revenue \n",
    "      #, what are the most countries purchased from us  \n",
    "      #, from which country are the most revenue\n",
    "      #, what is the ordering months trend\n",
    "      #, what is the ordering hours trend,..etc)\n",
    "      #here are the steps i made in this project\n",
    "# i got the dataset from kaggle (https://www.kaggle.com/code/sercanyesiloz/crm-analytics/input)\n",
    "# used pandas for data manipulation and cleaning ( discussed in the code )\n",
    "# finally get the insights in a cummulative report\n",
    "# the data set meta data are :-\n",
    "#1- file size +44 mbyte\n",
    "#2- 8 columns , 541909 rows\n",
    "#3- data ingeneral expressing the product(stock,price) , country of ordering , dates , customers_id\n"
   ]
  },
  {
   "cell_type": "markdown",
   "id": "65a86d4c",
   "metadata": {},
   "source": [
    "# importing_libraries"
   ]
  },
  {
   "cell_type": "code",
   "execution_count": 2,
   "id": "59ac7cb0",
   "metadata": {},
   "outputs": [],
   "source": [
    "import pandas as pd\n",
    "import matplotlib.pyplot as plt\n",
    "import seaborn as sns\n",
    "import numpy as np\n",
    "pd.set_option('display.width', 100)\n",
    "pd.set_option('display.max_columns', 100)\n",
    "pd.options.display.float_format = '{:.2f}'.format"
   ]
  },
  {
   "cell_type": "markdown",
   "id": "ce2f4755",
   "metadata": {},
   "source": [
    "# data_wrangling"
   ]
  },
  {
   "cell_type": "code",
   "execution_count": 3,
   "id": "3c5fed25",
   "metadata": {},
   "outputs": [],
   "source": [
    "df = pd.read_csv(r\"E:\\ecommerce_dataset\\data.csv\", encoding='unicode_escape',index_col=[0],parse_dates=[\"InvoiceDate\"]) # on premises"
   ]
  },
  {
   "cell_type": "markdown",
   "id": "c0cd2a62",
   "metadata": {},
   "source": [
    "# data_inspection"
   ]
  },
  {
   "cell_type": "code",
   "execution_count": 4,
   "id": "5a519b0e",
   "metadata": {},
   "outputs": [
    {
     "data": {
      "text/plain": [
       "(541909, 7)"
      ]
     },
     "execution_count": 4,
     "metadata": {},
     "output_type": "execute_result"
    }
   ],
   "source": [
    "df.shape"
   ]
  },
  {
   "cell_type": "code",
   "execution_count": 5,
   "id": "dad9e037",
   "metadata": {
    "scrolled": true
   },
   "outputs": [
    {
     "data": {
      "text/html": [
       "<div>\n",
       "<style scoped>\n",
       "    .dataframe tbody tr th:only-of-type {\n",
       "        vertical-align: middle;\n",
       "    }\n",
       "\n",
       "    .dataframe tbody tr th {\n",
       "        vertical-align: top;\n",
       "    }\n",
       "\n",
       "    .dataframe thead th {\n",
       "        text-align: right;\n",
       "    }\n",
       "</style>\n",
       "<table border=\"1\" class=\"dataframe\">\n",
       "  <thead>\n",
       "    <tr style=\"text-align: right;\">\n",
       "      <th></th>\n",
       "      <th>StockCode</th>\n",
       "      <th>Description</th>\n",
       "      <th>Quantity</th>\n",
       "      <th>InvoiceDate</th>\n",
       "      <th>UnitPrice</th>\n",
       "      <th>CustomerID</th>\n",
       "      <th>Country</th>\n",
       "    </tr>\n",
       "    <tr>\n",
       "      <th>InvoiceNo</th>\n",
       "      <th></th>\n",
       "      <th></th>\n",
       "      <th></th>\n",
       "      <th></th>\n",
       "      <th></th>\n",
       "      <th></th>\n",
       "      <th></th>\n",
       "    </tr>\n",
       "  </thead>\n",
       "  <tbody>\n",
       "    <tr>\n",
       "      <th>536365</th>\n",
       "      <td>85123A</td>\n",
       "      <td>WHITE HANGING HEART T-LIGHT HOLDER</td>\n",
       "      <td>6</td>\n",
       "      <td>2010-12-01 08:26:00</td>\n",
       "      <td>2.55</td>\n",
       "      <td>17850.00</td>\n",
       "      <td>United Kingdom</td>\n",
       "    </tr>\n",
       "    <tr>\n",
       "      <th>536365</th>\n",
       "      <td>71053</td>\n",
       "      <td>WHITE METAL LANTERN</td>\n",
       "      <td>6</td>\n",
       "      <td>2010-12-01 08:26:00</td>\n",
       "      <td>3.39</td>\n",
       "      <td>17850.00</td>\n",
       "      <td>United Kingdom</td>\n",
       "    </tr>\n",
       "    <tr>\n",
       "      <th>536365</th>\n",
       "      <td>84406B</td>\n",
       "      <td>CREAM CUPID HEARTS COAT HANGER</td>\n",
       "      <td>8</td>\n",
       "      <td>2010-12-01 08:26:00</td>\n",
       "      <td>2.75</td>\n",
       "      <td>17850.00</td>\n",
       "      <td>United Kingdom</td>\n",
       "    </tr>\n",
       "    <tr>\n",
       "      <th>536365</th>\n",
       "      <td>84029G</td>\n",
       "      <td>KNITTED UNION FLAG HOT WATER BOTTLE</td>\n",
       "      <td>6</td>\n",
       "      <td>2010-12-01 08:26:00</td>\n",
       "      <td>3.39</td>\n",
       "      <td>17850.00</td>\n",
       "      <td>United Kingdom</td>\n",
       "    </tr>\n",
       "    <tr>\n",
       "      <th>536365</th>\n",
       "      <td>84029E</td>\n",
       "      <td>RED WOOLLY HOTTIE WHITE HEART.</td>\n",
       "      <td>6</td>\n",
       "      <td>2010-12-01 08:26:00</td>\n",
       "      <td>3.39</td>\n",
       "      <td>17850.00</td>\n",
       "      <td>United Kingdom</td>\n",
       "    </tr>\n",
       "    <tr>\n",
       "      <th>536365</th>\n",
       "      <td>22752</td>\n",
       "      <td>SET 7 BABUSHKA NESTING BOXES</td>\n",
       "      <td>2</td>\n",
       "      <td>2010-12-01 08:26:00</td>\n",
       "      <td>7.65</td>\n",
       "      <td>17850.00</td>\n",
       "      <td>United Kingdom</td>\n",
       "    </tr>\n",
       "    <tr>\n",
       "      <th>536365</th>\n",
       "      <td>21730</td>\n",
       "      <td>GLASS STAR FROSTED T-LIGHT HOLDER</td>\n",
       "      <td>6</td>\n",
       "      <td>2010-12-01 08:26:00</td>\n",
       "      <td>4.25</td>\n",
       "      <td>17850.00</td>\n",
       "      <td>United Kingdom</td>\n",
       "    </tr>\n",
       "    <tr>\n",
       "      <th>536366</th>\n",
       "      <td>22633</td>\n",
       "      <td>HAND WARMER UNION JACK</td>\n",
       "      <td>6</td>\n",
       "      <td>2010-12-01 08:28:00</td>\n",
       "      <td>1.85</td>\n",
       "      <td>17850.00</td>\n",
       "      <td>United Kingdom</td>\n",
       "    </tr>\n",
       "    <tr>\n",
       "      <th>536366</th>\n",
       "      <td>22632</td>\n",
       "      <td>HAND WARMER RED POLKA DOT</td>\n",
       "      <td>6</td>\n",
       "      <td>2010-12-01 08:28:00</td>\n",
       "      <td>1.85</td>\n",
       "      <td>17850.00</td>\n",
       "      <td>United Kingdom</td>\n",
       "    </tr>\n",
       "    <tr>\n",
       "      <th>536367</th>\n",
       "      <td>84879</td>\n",
       "      <td>ASSORTED COLOUR BIRD ORNAMENT</td>\n",
       "      <td>32</td>\n",
       "      <td>2010-12-01 08:34:00</td>\n",
       "      <td>1.69</td>\n",
       "      <td>13047.00</td>\n",
       "      <td>United Kingdom</td>\n",
       "    </tr>\n",
       "  </tbody>\n",
       "</table>\n",
       "</div>"
      ],
      "text/plain": [
       "          StockCode                          Description  Quantity         InvoiceDate  UnitPrice  \\\n",
       "InvoiceNo                                                                                           \n",
       "536365       85123A   WHITE HANGING HEART T-LIGHT HOLDER         6 2010-12-01 08:26:00       2.55   \n",
       "536365        71053                  WHITE METAL LANTERN         6 2010-12-01 08:26:00       3.39   \n",
       "536365       84406B       CREAM CUPID HEARTS COAT HANGER         8 2010-12-01 08:26:00       2.75   \n",
       "536365       84029G  KNITTED UNION FLAG HOT WATER BOTTLE         6 2010-12-01 08:26:00       3.39   \n",
       "536365       84029E       RED WOOLLY HOTTIE WHITE HEART.         6 2010-12-01 08:26:00       3.39   \n",
       "536365        22752         SET 7 BABUSHKA NESTING BOXES         2 2010-12-01 08:26:00       7.65   \n",
       "536365        21730    GLASS STAR FROSTED T-LIGHT HOLDER         6 2010-12-01 08:26:00       4.25   \n",
       "536366        22633               HAND WARMER UNION JACK         6 2010-12-01 08:28:00       1.85   \n",
       "536366        22632            HAND WARMER RED POLKA DOT         6 2010-12-01 08:28:00       1.85   \n",
       "536367        84879        ASSORTED COLOUR BIRD ORNAMENT        32 2010-12-01 08:34:00       1.69   \n",
       "\n",
       "           CustomerID         Country  \n",
       "InvoiceNo                              \n",
       "536365       17850.00  United Kingdom  \n",
       "536365       17850.00  United Kingdom  \n",
       "536365       17850.00  United Kingdom  \n",
       "536365       17850.00  United Kingdom  \n",
       "536365       17850.00  United Kingdom  \n",
       "536365       17850.00  United Kingdom  \n",
       "536365       17850.00  United Kingdom  \n",
       "536366       17850.00  United Kingdom  \n",
       "536366       17850.00  United Kingdom  \n",
       "536367       13047.00  United Kingdom  "
      ]
     },
     "execution_count": 5,
     "metadata": {},
     "output_type": "execute_result"
    }
   ],
   "source": [
    "df.head(10)"
   ]
  },
  {
   "cell_type": "code",
   "execution_count": 6,
   "id": "90f64a55",
   "metadata": {
    "scrolled": true
   },
   "outputs": [
    {
     "data": {
      "text/plain": [
       "Index(['StockCode', 'Description', 'Quantity', 'InvoiceDate', 'UnitPrice', 'CustomerID',\n",
       "       'Country'],\n",
       "      dtype='object')"
      ]
     },
     "execution_count": 6,
     "metadata": {},
     "output_type": "execute_result"
    }
   ],
   "source": [
    "df.columns   # there are some columns should be renamed"
   ]
  },
  {
   "cell_type": "code",
   "execution_count": 7,
   "id": "4202de45",
   "metadata": {},
   "outputs": [],
   "source": [
    "df=df.rename(columns={'StockCode':\"Stock_Code\", 'InvoiceDate':\"Invoice_Date\", 'UnitPrice':\"Unit_Price\", 'CustomerID':\"Customer_ID\"})\n",
    "# renaming columns in order to effectively analyze it"
   ]
  },
  {
   "cell_type": "code",
   "execution_count": 8,
   "id": "ac3eb503",
   "metadata": {},
   "outputs": [
    {
     "data": {
      "text/html": [
       "<div>\n",
       "<style scoped>\n",
       "    .dataframe tbody tr th:only-of-type {\n",
       "        vertical-align: middle;\n",
       "    }\n",
       "\n",
       "    .dataframe tbody tr th {\n",
       "        vertical-align: top;\n",
       "    }\n",
       "\n",
       "    .dataframe thead th {\n",
       "        text-align: right;\n",
       "    }\n",
       "</style>\n",
       "<table border=\"1\" class=\"dataframe\">\n",
       "  <thead>\n",
       "    <tr style=\"text-align: right;\">\n",
       "      <th></th>\n",
       "      <th>Quantity</th>\n",
       "      <th>Unit_Price</th>\n",
       "      <th>Customer_ID</th>\n",
       "    </tr>\n",
       "  </thead>\n",
       "  <tbody>\n",
       "    <tr>\n",
       "      <th>count</th>\n",
       "      <td>541909.00</td>\n",
       "      <td>541909.00</td>\n",
       "      <td>406829.00</td>\n",
       "    </tr>\n",
       "    <tr>\n",
       "      <th>mean</th>\n",
       "      <td>9.55</td>\n",
       "      <td>4.61</td>\n",
       "      <td>15287.69</td>\n",
       "    </tr>\n",
       "    <tr>\n",
       "      <th>std</th>\n",
       "      <td>218.08</td>\n",
       "      <td>96.76</td>\n",
       "      <td>1713.60</td>\n",
       "    </tr>\n",
       "    <tr>\n",
       "      <th>min</th>\n",
       "      <td>-80995.00</td>\n",
       "      <td>-11062.06</td>\n",
       "      <td>12346.00</td>\n",
       "    </tr>\n",
       "    <tr>\n",
       "      <th>25%</th>\n",
       "      <td>1.00</td>\n",
       "      <td>1.25</td>\n",
       "      <td>13953.00</td>\n",
       "    </tr>\n",
       "    <tr>\n",
       "      <th>50%</th>\n",
       "      <td>3.00</td>\n",
       "      <td>2.08</td>\n",
       "      <td>15152.00</td>\n",
       "    </tr>\n",
       "    <tr>\n",
       "      <th>75%</th>\n",
       "      <td>10.00</td>\n",
       "      <td>4.13</td>\n",
       "      <td>16791.00</td>\n",
       "    </tr>\n",
       "    <tr>\n",
       "      <th>max</th>\n",
       "      <td>80995.00</td>\n",
       "      <td>38970.00</td>\n",
       "      <td>18287.00</td>\n",
       "    </tr>\n",
       "  </tbody>\n",
       "</table>\n",
       "</div>"
      ],
      "text/plain": [
       "       Quantity  Unit_Price  Customer_ID\n",
       "count 541909.00   541909.00    406829.00\n",
       "mean       9.55        4.61     15287.69\n",
       "std      218.08       96.76      1713.60\n",
       "min   -80995.00   -11062.06     12346.00\n",
       "25%        1.00        1.25     13953.00\n",
       "50%        3.00        2.08     15152.00\n",
       "75%       10.00        4.13     16791.00\n",
       "max    80995.00    38970.00     18287.00"
      ]
     },
     "execution_count": 8,
     "metadata": {},
     "output_type": "execute_result"
    }
   ],
   "source": [
    "df.describe()   # as we see here there is negative values , so i will deep dive analyze it separately"
   ]
  },
  {
   "cell_type": "code",
   "execution_count": 9,
   "id": "31c1ef33",
   "metadata": {},
   "outputs": [],
   "source": [
    "df = df.astype({\"Customer_ID\": str})"
   ]
  },
  {
   "cell_type": "code",
   "execution_count": 10,
   "id": "691dfb33",
   "metadata": {
    "scrolled": false
   },
   "outputs": [
    {
     "name": "stdout",
     "output_type": "stream",
     "text": [
      "<class 'pandas.core.frame.DataFrame'>\n",
      "Index: 541909 entries, 536365 to 581587\n",
      "Data columns (total 7 columns):\n",
      " #   Column        Non-Null Count   Dtype         \n",
      "---  ------        --------------   -----         \n",
      " 0   Stock_Code    541909 non-null  object        \n",
      " 1   Description   540455 non-null  object        \n",
      " 2   Quantity      541909 non-null  int64         \n",
      " 3   Invoice_Date  541909 non-null  datetime64[ns]\n",
      " 4   Unit_Price    541909 non-null  float64       \n",
      " 5   Customer_ID   541909 non-null  object        \n",
      " 6   Country       541909 non-null  object        \n",
      "dtypes: datetime64[ns](1), float64(1), int64(1), object(4)\n",
      "memory usage: 33.1+ MB\n"
     ]
    }
   ],
   "source": [
    "df.info()"
   ]
  },
  {
   "cell_type": "code",
   "execution_count": 11,
   "id": "01a28b25",
   "metadata": {},
   "outputs": [],
   "source": [
    "# splitting the date column"
   ]
  },
  {
   "cell_type": "code",
   "execution_count": 12,
   "id": "ca42497c",
   "metadata": {},
   "outputs": [],
   "source": [
    "df['day'] = df['Invoice_Date'].dt.day\n",
    "df['month'] = df['Invoice_Date'].dt.month\n",
    "df['year'] = df['Invoice_Date'].dt.year\n",
    "df['hour'] = df['Invoice_Date'].dt.hour"
   ]
  },
  {
   "cell_type": "code",
   "execution_count": 13,
   "id": "4832e039",
   "metadata": {},
   "outputs": [
    {
     "data": {
      "text/html": [
       "<div>\n",
       "<style scoped>\n",
       "    .dataframe tbody tr th:only-of-type {\n",
       "        vertical-align: middle;\n",
       "    }\n",
       "\n",
       "    .dataframe tbody tr th {\n",
       "        vertical-align: top;\n",
       "    }\n",
       "\n",
       "    .dataframe thead th {\n",
       "        text-align: right;\n",
       "    }\n",
       "</style>\n",
       "<table border=\"1\" class=\"dataframe\">\n",
       "  <thead>\n",
       "    <tr style=\"text-align: right;\">\n",
       "      <th></th>\n",
       "      <th>Stock_Code</th>\n",
       "      <th>Description</th>\n",
       "      <th>Quantity</th>\n",
       "      <th>Invoice_Date</th>\n",
       "      <th>Unit_Price</th>\n",
       "      <th>Customer_ID</th>\n",
       "      <th>Country</th>\n",
       "      <th>day</th>\n",
       "      <th>month</th>\n",
       "      <th>year</th>\n",
       "      <th>hour</th>\n",
       "    </tr>\n",
       "    <tr>\n",
       "      <th>InvoiceNo</th>\n",
       "      <th></th>\n",
       "      <th></th>\n",
       "      <th></th>\n",
       "      <th></th>\n",
       "      <th></th>\n",
       "      <th></th>\n",
       "      <th></th>\n",
       "      <th></th>\n",
       "      <th></th>\n",
       "      <th></th>\n",
       "      <th></th>\n",
       "    </tr>\n",
       "  </thead>\n",
       "  <tbody>\n",
       "    <tr>\n",
       "      <th>536365</th>\n",
       "      <td>85123A</td>\n",
       "      <td>WHITE HANGING HEART T-LIGHT HOLDER</td>\n",
       "      <td>6</td>\n",
       "      <td>2010-12-01 08:26:00</td>\n",
       "      <td>2.55</td>\n",
       "      <td>17850.0</td>\n",
       "      <td>United Kingdom</td>\n",
       "      <td>1</td>\n",
       "      <td>12</td>\n",
       "      <td>2010</td>\n",
       "      <td>8</td>\n",
       "    </tr>\n",
       "    <tr>\n",
       "      <th>536365</th>\n",
       "      <td>71053</td>\n",
       "      <td>WHITE METAL LANTERN</td>\n",
       "      <td>6</td>\n",
       "      <td>2010-12-01 08:26:00</td>\n",
       "      <td>3.39</td>\n",
       "      <td>17850.0</td>\n",
       "      <td>United Kingdom</td>\n",
       "      <td>1</td>\n",
       "      <td>12</td>\n",
       "      <td>2010</td>\n",
       "      <td>8</td>\n",
       "    </tr>\n",
       "    <tr>\n",
       "      <th>536365</th>\n",
       "      <td>84406B</td>\n",
       "      <td>CREAM CUPID HEARTS COAT HANGER</td>\n",
       "      <td>8</td>\n",
       "      <td>2010-12-01 08:26:00</td>\n",
       "      <td>2.75</td>\n",
       "      <td>17850.0</td>\n",
       "      <td>United Kingdom</td>\n",
       "      <td>1</td>\n",
       "      <td>12</td>\n",
       "      <td>2010</td>\n",
       "      <td>8</td>\n",
       "    </tr>\n",
       "    <tr>\n",
       "      <th>536365</th>\n",
       "      <td>84029G</td>\n",
       "      <td>KNITTED UNION FLAG HOT WATER BOTTLE</td>\n",
       "      <td>6</td>\n",
       "      <td>2010-12-01 08:26:00</td>\n",
       "      <td>3.39</td>\n",
       "      <td>17850.0</td>\n",
       "      <td>United Kingdom</td>\n",
       "      <td>1</td>\n",
       "      <td>12</td>\n",
       "      <td>2010</td>\n",
       "      <td>8</td>\n",
       "    </tr>\n",
       "    <tr>\n",
       "      <th>536365</th>\n",
       "      <td>84029E</td>\n",
       "      <td>RED WOOLLY HOTTIE WHITE HEART.</td>\n",
       "      <td>6</td>\n",
       "      <td>2010-12-01 08:26:00</td>\n",
       "      <td>3.39</td>\n",
       "      <td>17850.0</td>\n",
       "      <td>United Kingdom</td>\n",
       "      <td>1</td>\n",
       "      <td>12</td>\n",
       "      <td>2010</td>\n",
       "      <td>8</td>\n",
       "    </tr>\n",
       "  </tbody>\n",
       "</table>\n",
       "</div>"
      ],
      "text/plain": [
       "          Stock_Code                          Description  Quantity        Invoice_Date  \\\n",
       "InvoiceNo                                                                                 \n",
       "536365        85123A   WHITE HANGING HEART T-LIGHT HOLDER         6 2010-12-01 08:26:00   \n",
       "536365         71053                  WHITE METAL LANTERN         6 2010-12-01 08:26:00   \n",
       "536365        84406B       CREAM CUPID HEARTS COAT HANGER         8 2010-12-01 08:26:00   \n",
       "536365        84029G  KNITTED UNION FLAG HOT WATER BOTTLE         6 2010-12-01 08:26:00   \n",
       "536365        84029E       RED WOOLLY HOTTIE WHITE HEART.         6 2010-12-01 08:26:00   \n",
       "\n",
       "           Unit_Price Customer_ID         Country  day  month  year  hour  \n",
       "InvoiceNo                                                                  \n",
       "536365           2.55     17850.0  United Kingdom    1     12  2010     8  \n",
       "536365           3.39     17850.0  United Kingdom    1     12  2010     8  \n",
       "536365           2.75     17850.0  United Kingdom    1     12  2010     8  \n",
       "536365           3.39     17850.0  United Kingdom    1     12  2010     8  \n",
       "536365           3.39     17850.0  United Kingdom    1     12  2010     8  "
      ]
     },
     "execution_count": 13,
     "metadata": {},
     "output_type": "execute_result"
    }
   ],
   "source": [
    "df.head()  # check dataframe again to inspect updates above"
   ]
  },
  {
   "cell_type": "code",
   "execution_count": 14,
   "id": "78937cf3",
   "metadata": {
    "scrolled": true
   },
   "outputs": [
    {
     "data": {
      "text/plain": [
       "Stock_Code         0\n",
       "Description     1454\n",
       "Quantity           0\n",
       "Invoice_Date       0\n",
       "Unit_Price         0\n",
       "Customer_ID        0\n",
       "Country            0\n",
       "day                0\n",
       "month              0\n",
       "year               0\n",
       "hour               0\n",
       "dtype: int64"
      ]
     },
     "execution_count": 14,
     "metadata": {},
     "output_type": "execute_result"
    }
   ],
   "source": [
    "df.isnull().sum(axis=0) # inspect nulls"
   ]
  },
  {
   "cell_type": "markdown",
   "id": "dbba5d03",
   "metadata": {},
   "source": [
    "# dealing_with_duplicates"
   ]
  },
  {
   "cell_type": "markdown",
   "id": "5f71df8e",
   "metadata": {},
   "source": [
    "# inspect_duplicates and make a csv file for them then drop it"
   ]
  },
  {
   "cell_type": "code",
   "execution_count": 15,
   "id": "7ad928ba",
   "metadata": {},
   "outputs": [],
   "source": [
    "duplicates=df[df.duplicated(keep=False)]"
   ]
  },
  {
   "cell_type": "code",
   "execution_count": 16,
   "id": "fca3b264",
   "metadata": {},
   "outputs": [],
   "source": [
    "#duplicates.to_csv(\"C:/Users/20114/OneDrive/Documents/GitHub/E-Commerce_EDA/dplicates.csv\")"
   ]
  },
  {
   "cell_type": "code",
   "execution_count": 17,
   "id": "078bbfc2",
   "metadata": {},
   "outputs": [],
   "source": [
    "df.drop_duplicates(keep=\"first\",inplace=True)  # drop duplicates"
   ]
  },
  {
   "cell_type": "code",
   "execution_count": 18,
   "id": "ba255890",
   "metadata": {},
   "outputs": [
    {
     "data": {
      "text/plain": [
       "(536061, 11)"
      ]
     },
     "execution_count": 18,
     "metadata": {},
     "output_type": "execute_result"
    }
   ],
   "source": [
    "df.shape #check"
   ]
  },
  {
   "cell_type": "markdown",
   "id": "c7c4f9a4",
   "metadata": {},
   "source": [
    "# Let's see the outliers before analysis"
   ]
  },
  {
   "cell_type": "markdown",
   "id": "80aa6c5a",
   "metadata": {},
   "source": [
    "## Anlyzing Outliers  ( boxplot is the best way to inspect outliers )"
   ]
  },
  {
   "cell_type": "markdown",
   "id": "8321e1cf",
   "metadata": {},
   "source": [
    "## 1- Quantity_Outliers"
   ]
  },
  {
   "cell_type": "markdown",
   "id": "c8d2fb8d",
   "metadata": {},
   "source": [
    "### before removing outliers"
   ]
  },
  {
   "cell_type": "code",
   "execution_count": 19,
   "id": "2d270030",
   "metadata": {},
   "outputs": [],
   "source": [
    "# Find the 75th and 25th percentiles\n",
    "Quantity_seventy_fifth = df[\"Quantity\"].quantile(.75)\n",
    "Quantity_twenty_fifth = df[\"Quantity\"].quantile(.25)\n",
    "\n",
    "# Calculate iqr\n",
    "Quantity_iqr = Quantity_seventy_fifth - Quantity_twenty_fifth\n",
    "\n",
    "# Calculate the thresholds\n",
    "upper = Quantity_seventy_fifth + (1.5 * Quantity_iqr)\n",
    "lower = Quantity_twenty_fifth - (1.5 * Quantity_iqr)"
   ]
  },
  {
   "cell_type": "code",
   "execution_count": 20,
   "id": "68fa5d0e",
   "metadata": {
    "scrolled": false
   },
   "outputs": [
    {
     "data": {
      "image/png": "[encoded data removed]",
      "text/plain": [
       "<Figure size 600x1200 with 1 Axes>"
      ]
     },
     "metadata": {},
     "output_type": "display_data"
    }
   ],
   "source": [
    "plt.figure(figsize = (6,12))   \n",
    "df.boxplot(\"Quantity\")\n",
    "plt.show()"
   ]
  },
  {
   "cell_type": "code",
   "execution_count": 21,
   "id": "c7ba266c",
   "metadata": {},
   "outputs": [],
   "source": [
    "quantity_outliers = df[(df[\"Quantity\"] < lower) | (df[\"Quantity\"] > upper)]"
   ]
  },
  {
   "cell_type": "code",
   "execution_count": 22,
   "id": "df080348",
   "metadata": {},
   "outputs": [],
   "source": [
    "quantity_outliers.to_csv(\"C:/Users/20114/OneDrive/Documents/GitHub/E-Commerce_EDA/quantity_outliers.csv\")"
   ]
  },
  {
   "cell_type": "code",
   "execution_count": 23,
   "id": "bec124b1",
   "metadata": {
    "scrolled": true
   },
   "outputs": [
    {
     "data": {
      "text/plain": [
       "21212           730\n",
       "84077           468\n",
       "22197           427\n",
       "21977           407\n",
       "84879           399\n",
       "               ... \n",
       "47344B            1\n",
       "84921             1\n",
       "gift_0001_30      1\n",
       "gift_0001_10      1\n",
       "21358             1\n",
       "Name: Stock_Code, Length: 2765, dtype: int64"
      ]
     },
     "execution_count": 23,
     "metadata": {},
     "output_type": "execute_result"
    }
   ],
   "source": [
    "quantity_outliers[\"Stock_Code\"].value_counts() # products and their outliers"
   ]
  },
  {
   "cell_type": "markdown",
   "id": "c87aca33",
   "metadata": {},
   "source": [
    "### after removing outliers"
   ]
  },
  {
   "cell_type": "code",
   "execution_count": 24,
   "id": "9aecde92",
   "metadata": {
    "scrolled": true
   },
   "outputs": [
    {
     "data": {
      "text/plain": [
       "count   477565.00\n",
       "mean         4.61\n",
       "std          4.56\n",
       "min        -12.00\n",
       "25%          1.00\n",
       "50%          3.00\n",
       "75%          6.00\n",
       "max         23.00\n",
       "Name: Quantity, dtype: float64"
      ]
     },
     "execution_count": 24,
     "metadata": {},
     "output_type": "execute_result"
    }
   ],
   "source": [
    "# Subset the data\n",
    "quantity_without_outliers = df[(df[\"Quantity\"] > lower) & (df[\"Quantity\"] < upper)]\n",
    "quantity_without_outliers.head()\n",
    "quantity_without_outliers[\"Quantity\"].describe()"
   ]
  },
  {
   "cell_type": "code",
   "execution_count": 25,
   "id": "a254c07a",
   "metadata": {
    "scrolled": false
   },
   "outputs": [
    {
     "data": {
      "image/png": "[encoded data removed]",
      "text/plain": [
       "<Figure size 640x480 with 1 Axes>"
      ]
     },
     "metadata": {},
     "output_type": "display_data"
    }
   ],
   "source": [
    "sns.boxplot(data=quantity_without_outliers,y=\"Quantity\")\n",
    "plt.show()"
   ]
  },
  {
   "cell_type": "markdown",
   "id": "5970b918",
   "metadata": {},
   "source": [
    "## 2- Unitprice_Outliers"
   ]
  },
  {
   "cell_type": "markdown",
   "id": "dee3f615",
   "metadata": {},
   "source": [
    "### before removing outliers"
   ]
  },
  {
   "cell_type": "code",
   "execution_count": 26,
   "id": "3bc4fdbf",
   "metadata": {},
   "outputs": [],
   "source": [
    "# Find the 75th and 25th percentiles\n",
    "Unit_Price_seventy_fifth = df[\"Unit_Price\"].quantile(0.80)\n",
    "Unit_Price_twenty_fifth = df[\"Unit_Price\"].quantile(0.25)\n",
    "\n",
    "# Calculate iqr\n",
    "Unit_Price_iqr = Unit_Price_seventy_fifth - Unit_Price_twenty_fifth\n",
    "\n",
    "# Calculate the thresholds\n",
    "upper = Unit_Price_seventy_fifth + (1.5 * Unit_Price_iqr)\n",
    "lower = Unit_Price_twenty_fifth - (1.5 * Unit_Price_iqr)"
   ]
  },
  {
   "cell_type": "code",
   "execution_count": 27,
   "id": "4523a5f3",
   "metadata": {
    "scrolled": false
   },
   "outputs": [
    {
     "data": {
      "image/png": "[encoded data removed]",
      "text/plain": [
       "<Figure size 600x1200 with 1 Axes>"
      ]
     },
     "metadata": {},
     "output_type": "display_data"
    }
   ],
   "source": [
    "plt.figure(figsize = (6,12))\n",
    "df.boxplot(\"Unit_Price\")\n",
    "plt.show()"
   ]
  },
  {
   "cell_type": "code",
   "execution_count": 28,
   "id": "baa19674",
   "metadata": {},
   "outputs": [],
   "source": [
    "unitprice_outliers = df[(df[\"Unit_Price\"] < lower) | (df[\"Unit_Price\"] > upper)]"
   ]
  },
  {
   "cell_type": "code",
   "execution_count": 29,
   "id": "4e2bacdb",
   "metadata": {},
   "outputs": [],
   "source": [
    "unitprice_outliers.to_csv(\"C:/Users/20114/OneDrive/Documents/GitHub/E-Commerce_EDA/unitprice_outliers.csv\")"
   ]
  },
  {
   "cell_type": "markdown",
   "id": "b6597254",
   "metadata": {},
   "source": [
    "### after removing outliers"
   ]
  },
  {
   "cell_type": "code",
   "execution_count": 30,
   "id": "9839b83c",
   "metadata": {
    "scrolled": false
   },
   "outputs": [
    {
     "data": {
      "text/plain": [
       "count   511479.00\n",
       "mean         2.72\n",
       "std          2.20\n",
       "min          0.00\n",
       "25%          1.25\n",
       "50%          2.08\n",
       "75%          3.75\n",
       "max         10.40\n",
       "Name: Unit_Price, dtype: float64"
      ]
     },
     "execution_count": 30,
     "metadata": {},
     "output_type": "execute_result"
    }
   ],
   "source": [
    "# Subset the data\n",
    "Unit_Price_without_outliers = df[(df[\"Unit_Price\"] > lower) & (df[\"Unit_Price\"] < upper)]\n",
    "Unit_Price_without_outliers.head()\n",
    "Unit_Price_without_outliers[\"Unit_Price\"].describe()"
   ]
  },
  {
   "cell_type": "code",
   "execution_count": 31,
   "id": "5763ce5b",
   "metadata": {
    "scrolled": false
   },
   "outputs": [
    {
     "data": {
      "image/png": "[encoded data removed]",
      "text/plain": [
       "<Figure size 640x480 with 1 Axes>"
      ]
     },
     "metadata": {},
     "output_type": "display_data"
    }
   ],
   "source": [
    "sns.boxplot(data=Unit_Price_without_outliers,y=\"Unit_Price\")\n",
    "plt.show()"
   ]
  },
  {
   "cell_type": "markdown",
   "id": "0c95b876",
   "metadata": {},
   "source": [
    "# creating clean dataframe"
   ]
  },
  {
   "cell_type": "code",
   "execution_count": 32,
   "id": "0fa2c414",
   "metadata": {},
   "outputs": [
    {
     "data": {
      "text/html": [
       "<div>\n",
       "<style scoped>\n",
       "    .dataframe tbody tr th:only-of-type {\n",
       "        vertical-align: middle;\n",
       "    }\n",
       "\n",
       "    .dataframe tbody tr th {\n",
       "        vertical-align: top;\n",
       "    }\n",
       "\n",
       "    .dataframe thead th {\n",
       "        text-align: right;\n",
       "    }\n",
       "</style>\n",
       "<table border=\"1\" class=\"dataframe\">\n",
       "  <thead>\n",
       "    <tr style=\"text-align: right;\">\n",
       "      <th></th>\n",
       "      <th>Stock_Code</th>\n",
       "      <th>Description</th>\n",
       "      <th>Quantity</th>\n",
       "      <th>Invoice_Date</th>\n",
       "      <th>Unit_Price</th>\n",
       "      <th>Customer_ID</th>\n",
       "      <th>Country</th>\n",
       "      <th>day</th>\n",
       "      <th>month</th>\n",
       "      <th>year</th>\n",
       "      <th>hour</th>\n",
       "    </tr>\n",
       "    <tr>\n",
       "      <th>InvoiceNo</th>\n",
       "      <th></th>\n",
       "      <th></th>\n",
       "      <th></th>\n",
       "      <th></th>\n",
       "      <th></th>\n",
       "      <th></th>\n",
       "      <th></th>\n",
       "      <th></th>\n",
       "      <th></th>\n",
       "      <th></th>\n",
       "      <th></th>\n",
       "    </tr>\n",
       "  </thead>\n",
       "  <tbody>\n",
       "    <tr>\n",
       "      <th>536365</th>\n",
       "      <td>85123A</td>\n",
       "      <td>WHITE HANGING HEART T-LIGHT HOLDER</td>\n",
       "      <td>6</td>\n",
       "      <td>2010-12-01 08:26:00</td>\n",
       "      <td>2.55</td>\n",
       "      <td>17850.0</td>\n",
       "      <td>United Kingdom</td>\n",
       "      <td>1</td>\n",
       "      <td>12</td>\n",
       "      <td>2010</td>\n",
       "      <td>8</td>\n",
       "    </tr>\n",
       "    <tr>\n",
       "      <th>536365</th>\n",
       "      <td>71053</td>\n",
       "      <td>WHITE METAL LANTERN</td>\n",
       "      <td>6</td>\n",
       "      <td>2010-12-01 08:26:00</td>\n",
       "      <td>3.39</td>\n",
       "      <td>17850.0</td>\n",
       "      <td>United Kingdom</td>\n",
       "      <td>1</td>\n",
       "      <td>12</td>\n",
       "      <td>2010</td>\n",
       "      <td>8</td>\n",
       "    </tr>\n",
       "    <tr>\n",
       "      <th>536365</th>\n",
       "      <td>84406B</td>\n",
       "      <td>CREAM CUPID HEARTS COAT HANGER</td>\n",
       "      <td>8</td>\n",
       "      <td>2010-12-01 08:26:00</td>\n",
       "      <td>2.75</td>\n",
       "      <td>17850.0</td>\n",
       "      <td>United Kingdom</td>\n",
       "      <td>1</td>\n",
       "      <td>12</td>\n",
       "      <td>2010</td>\n",
       "      <td>8</td>\n",
       "    </tr>\n",
       "    <tr>\n",
       "      <th>536365</th>\n",
       "      <td>84029G</td>\n",
       "      <td>KNITTED UNION FLAG HOT WATER BOTTLE</td>\n",
       "      <td>6</td>\n",
       "      <td>2010-12-01 08:26:00</td>\n",
       "      <td>3.39</td>\n",
       "      <td>17850.0</td>\n",
       "      <td>United Kingdom</td>\n",
       "      <td>1</td>\n",
       "      <td>12</td>\n",
       "      <td>2010</td>\n",
       "      <td>8</td>\n",
       "    </tr>\n",
       "    <tr>\n",
       "      <th>536365</th>\n",
       "      <td>84029E</td>\n",
       "      <td>RED WOOLLY HOTTIE WHITE HEART.</td>\n",
       "      <td>6</td>\n",
       "      <td>2010-12-01 08:26:00</td>\n",
       "      <td>3.39</td>\n",
       "      <td>17850.0</td>\n",
       "      <td>United Kingdom</td>\n",
       "      <td>1</td>\n",
       "      <td>12</td>\n",
       "      <td>2010</td>\n",
       "      <td>8</td>\n",
       "    </tr>\n",
       "  </tbody>\n",
       "</table>\n",
       "</div>"
      ],
      "text/plain": [
       "          Stock_Code                          Description  Quantity        Invoice_Date  \\\n",
       "InvoiceNo                                                                                 \n",
       "536365        85123A   WHITE HANGING HEART T-LIGHT HOLDER         6 2010-12-01 08:26:00   \n",
       "536365         71053                  WHITE METAL LANTERN         6 2010-12-01 08:26:00   \n",
       "536365        84406B       CREAM CUPID HEARTS COAT HANGER         8 2010-12-01 08:26:00   \n",
       "536365        84029G  KNITTED UNION FLAG HOT WATER BOTTLE         6 2010-12-01 08:26:00   \n",
       "536365        84029E       RED WOOLLY HOTTIE WHITE HEART.         6 2010-12-01 08:26:00   \n",
       "\n",
       "           Unit_Price Customer_ID         Country  day  month  year  hour  \n",
       "InvoiceNo                                                                  \n",
       "536365           2.55     17850.0  United Kingdom    1     12  2010     8  \n",
       "536365           3.39     17850.0  United Kingdom    1     12  2010     8  \n",
       "536365           2.75     17850.0  United Kingdom    1     12  2010     8  \n",
       "536365           3.39     17850.0  United Kingdom    1     12  2010     8  \n",
       "536365           3.39     17850.0  United Kingdom    1     12  2010     8  "
      ]
     },
     "execution_count": 32,
     "metadata": {},
     "output_type": "execute_result"
    }
   ],
   "source": [
    "df.head()"
   ]
  },
  {
   "cell_type": "code",
   "execution_count": 36,
   "id": "b6548f42",
   "metadata": {},
   "outputs": [],
   "source": [
    "df[\"Revenue\"]=df[\"Quantity\"]*df[\"Unit_Price\"] # make anew column with revenue "
   ]
  },
  {
   "cell_type": "code",
   "execution_count": 37,
   "id": "6af3a766",
   "metadata": {},
   "outputs": [
    {
     "data": {
      "text/html": [
       "<div>\n",
       "<style scoped>\n",
       "    .dataframe tbody tr th:only-of-type {\n",
       "        vertical-align: middle;\n",
       "    }\n",
       "\n",
       "    .dataframe tbody tr th {\n",
       "        vertical-align: top;\n",
       "    }\n",
       "\n",
       "    .dataframe thead th {\n",
       "        text-align: right;\n",
       "    }\n",
       "</style>\n",
       "<table border=\"1\" class=\"dataframe\">\n",
       "  <thead>\n",
       "    <tr style=\"text-align: right;\">\n",
       "      <th></th>\n",
       "      <th>Stock_Code</th>\n",
       "      <th>Description</th>\n",
       "      <th>Quantity</th>\n",
       "      <th>Invoice_Date</th>\n",
       "      <th>Unit_Price</th>\n",
       "      <th>Customer_ID</th>\n",
       "      <th>Country</th>\n",
       "      <th>day</th>\n",
       "      <th>month</th>\n",
       "      <th>year</th>\n",
       "      <th>hour</th>\n",
       "      <th>Revenue</th>\n",
       "    </tr>\n",
       "    <tr>\n",
       "      <th>InvoiceNo</th>\n",
       "      <th></th>\n",
       "      <th></th>\n",
       "      <th></th>\n",
       "      <th></th>\n",
       "      <th></th>\n",
       "      <th></th>\n",
       "      <th></th>\n",
       "      <th></th>\n",
       "      <th></th>\n",
       "      <th></th>\n",
       "      <th></th>\n",
       "      <th></th>\n",
       "    </tr>\n",
       "  </thead>\n",
       "  <tbody>\n",
       "    <tr>\n",
       "      <th>536365</th>\n",
       "      <td>85123A</td>\n",
       "      <td>WHITE HANGING HEART T-LIGHT HOLDER</td>\n",
       "      <td>6</td>\n",
       "      <td>2010-12-01 08:26:00</td>\n",
       "      <td>2.55</td>\n",
       "      <td>17850.0</td>\n",
       "      <td>United Kingdom</td>\n",
       "      <td>1</td>\n",
       "      <td>12</td>\n",
       "      <td>2010</td>\n",
       "      <td>8</td>\n",
       "      <td>15.30</td>\n",
       "    </tr>\n",
       "    <tr>\n",
       "      <th>536365</th>\n",
       "      <td>71053</td>\n",
       "      <td>WHITE METAL LANTERN</td>\n",
       "      <td>6</td>\n",
       "      <td>2010-12-01 08:26:00</td>\n",
       "      <td>3.39</td>\n",
       "      <td>17850.0</td>\n",
       "      <td>United Kingdom</td>\n",
       "      <td>1</td>\n",
       "      <td>12</td>\n",
       "      <td>2010</td>\n",
       "      <td>8</td>\n",
       "      <td>20.34</td>\n",
       "    </tr>\n",
       "    <tr>\n",
       "      <th>536365</th>\n",
       "      <td>84406B</td>\n",
       "      <td>CREAM CUPID HEARTS COAT HANGER</td>\n",
       "      <td>8</td>\n",
       "      <td>2010-12-01 08:26:00</td>\n",
       "      <td>2.75</td>\n",
       "      <td>17850.0</td>\n",
       "      <td>United Kingdom</td>\n",
       "      <td>1</td>\n",
       "      <td>12</td>\n",
       "      <td>2010</td>\n",
       "      <td>8</td>\n",
       "      <td>22.00</td>\n",
       "    </tr>\n",
       "    <tr>\n",
       "      <th>536365</th>\n",
       "      <td>84029G</td>\n",
       "      <td>KNITTED UNION FLAG HOT WATER BOTTLE</td>\n",
       "      <td>6</td>\n",
       "      <td>2010-12-01 08:26:00</td>\n",
       "      <td>3.39</td>\n",
       "      <td>17850.0</td>\n",
       "      <td>United Kingdom</td>\n",
       "      <td>1</td>\n",
       "      <td>12</td>\n",
       "      <td>2010</td>\n",
       "      <td>8</td>\n",
       "      <td>20.34</td>\n",
       "    </tr>\n",
       "    <tr>\n",
       "      <th>536365</th>\n",
       "      <td>84029E</td>\n",
       "      <td>RED WOOLLY HOTTIE WHITE HEART.</td>\n",
       "      <td>6</td>\n",
       "      <td>2010-12-01 08:26:00</td>\n",
       "      <td>3.39</td>\n",
       "      <td>17850.0</td>\n",
       "      <td>United Kingdom</td>\n",
       "      <td>1</td>\n",
       "      <td>12</td>\n",
       "      <td>2010</td>\n",
       "      <td>8</td>\n",
       "      <td>20.34</td>\n",
       "    </tr>\n",
       "  </tbody>\n",
       "</table>\n",
       "</div>"
      ],
      "text/plain": [
       "          Stock_Code                          Description  Quantity        Invoice_Date  \\\n",
       "InvoiceNo                                                                                 \n",
       "536365        85123A   WHITE HANGING HEART T-LIGHT HOLDER         6 2010-12-01 08:26:00   \n",
       "536365         71053                  WHITE METAL LANTERN         6 2010-12-01 08:26:00   \n",
       "536365        84406B       CREAM CUPID HEARTS COAT HANGER         8 2010-12-01 08:26:00   \n",
       "536365        84029G  KNITTED UNION FLAG HOT WATER BOTTLE         6 2010-12-01 08:26:00   \n",
       "536365        84029E       RED WOOLLY HOTTIE WHITE HEART.         6 2010-12-01 08:26:00   \n",
       "\n",
       "           Unit_Price Customer_ID         Country  day  month  year  hour  Revenue  \n",
       "InvoiceNo                                                                           \n",
       "536365           2.55     17850.0  United Kingdom    1     12  2010     8    15.30  \n",
       "536365           3.39     17850.0  United Kingdom    1     12  2010     8    20.34  \n",
       "536365           2.75     17850.0  United Kingdom    1     12  2010     8    22.00  \n",
       "536365           3.39     17850.0  United Kingdom    1     12  2010     8    20.34  \n",
       "536365           3.39     17850.0  United Kingdom    1     12  2010     8    20.34  "
      ]
     },
     "execution_count": 37,
     "metadata": {},
     "output_type": "execute_result"
    }
   ],
   "source": [
    "df.head()"
   ]
  },
  {
   "cell_type": "code",
   "execution_count": 38,
   "id": "eb9df125",
   "metadata": {},
   "outputs": [
    {
     "data": {
      "text/html": [
       "<div>\n",
       "<style scoped>\n",
       "    .dataframe tbody tr th:only-of-type {\n",
       "        vertical-align: middle;\n",
       "    }\n",
       "\n",
       "    .dataframe tbody tr th {\n",
       "        vertical-align: top;\n",
       "    }\n",
       "\n",
       "    .dataframe thead th {\n",
       "        text-align: right;\n",
       "    }\n",
       "</style>\n",
       "<table border=\"1\" class=\"dataframe\">\n",
       "  <thead>\n",
       "    <tr style=\"text-align: right;\">\n",
       "      <th></th>\n",
       "      <th>Quantity</th>\n",
       "      <th>Unit_Price</th>\n",
       "      <th>day</th>\n",
       "      <th>month</th>\n",
       "      <th>year</th>\n",
       "      <th>hour</th>\n",
       "      <th>Revenue</th>\n",
       "    </tr>\n",
       "  </thead>\n",
       "  <tbody>\n",
       "    <tr>\n",
       "      <th>count</th>\n",
       "      <td>536061.00</td>\n",
       "      <td>536061.00</td>\n",
       "      <td>536061.00</td>\n",
       "      <td>536061.00</td>\n",
       "      <td>536061.00</td>\n",
       "      <td>536061.00</td>\n",
       "      <td>536061.00</td>\n",
       "    </tr>\n",
       "    <tr>\n",
       "      <th>mean</th>\n",
       "      <td>9.65</td>\n",
       "      <td>4.63</td>\n",
       "      <td>15.03</td>\n",
       "      <td>7.55</td>\n",
       "      <td>2010.92</td>\n",
       "      <td>13.08</td>\n",
       "      <td>18.13</td>\n",
       "    </tr>\n",
       "    <tr>\n",
       "      <th>std</th>\n",
       "      <td>218.86</td>\n",
       "      <td>97.29</td>\n",
       "      <td>8.66</td>\n",
       "      <td>3.51</td>\n",
       "      <td>0.27</td>\n",
       "      <td>2.45</td>\n",
       "      <td>380.86</td>\n",
       "    </tr>\n",
       "    <tr>\n",
       "      <th>min</th>\n",
       "      <td>-80995.00</td>\n",
       "      <td>-11062.06</td>\n",
       "      <td>1.00</td>\n",
       "      <td>1.00</td>\n",
       "      <td>2010.00</td>\n",
       "      <td>6.00</td>\n",
       "      <td>-168469.60</td>\n",
       "    </tr>\n",
       "    <tr>\n",
       "      <th>25%</th>\n",
       "      <td>1.00</td>\n",
       "      <td>1.25</td>\n",
       "      <td>7.00</td>\n",
       "      <td>5.00</td>\n",
       "      <td>2011.00</td>\n",
       "      <td>11.00</td>\n",
       "      <td>3.75</td>\n",
       "    </tr>\n",
       "    <tr>\n",
       "      <th>50%</th>\n",
       "      <td>3.00</td>\n",
       "      <td>2.08</td>\n",
       "      <td>15.00</td>\n",
       "      <td>8.00</td>\n",
       "      <td>2011.00</td>\n",
       "      <td>13.00</td>\n",
       "      <td>9.87</td>\n",
       "    </tr>\n",
       "    <tr>\n",
       "      <th>75%</th>\n",
       "      <td>10.00</td>\n",
       "      <td>4.13</td>\n",
       "      <td>22.00</td>\n",
       "      <td>11.00</td>\n",
       "      <td>2011.00</td>\n",
       "      <td>15.00</td>\n",
       "      <td>17.40</td>\n",
       "    </tr>\n",
       "    <tr>\n",
       "      <th>max</th>\n",
       "      <td>80995.00</td>\n",
       "      <td>38970.00</td>\n",
       "      <td>31.00</td>\n",
       "      <td>12.00</td>\n",
       "      <td>2011.00</td>\n",
       "      <td>20.00</td>\n",
       "      <td>168469.60</td>\n",
       "    </tr>\n",
       "  </tbody>\n",
       "</table>\n",
       "</div>"
      ],
      "text/plain": [
       "       Quantity  Unit_Price       day     month      year      hour    Revenue\n",
       "count 536061.00   536061.00 536061.00 536061.00 536061.00 536061.00  536061.00\n",
       "mean       9.65        4.63     15.03      7.55   2010.92     13.08      18.13\n",
       "std      218.86       97.29      8.66      3.51      0.27      2.45     380.86\n",
       "min   -80995.00   -11062.06      1.00      1.00   2010.00      6.00 -168469.60\n",
       "25%        1.00        1.25      7.00      5.00   2011.00     11.00       3.75\n",
       "50%        3.00        2.08     15.00      8.00   2011.00     13.00       9.87\n",
       "75%       10.00        4.13     22.00     11.00   2011.00     15.00      17.40\n",
       "max    80995.00    38970.00     31.00     12.00   2011.00     20.00  168469.60"
      ]
     },
     "execution_count": 38,
     "metadata": {},
     "output_type": "execute_result"
    }
   ],
   "source": [
    "df.describe()"
   ]
  },
  {
   "cell_type": "markdown",
   "id": "ad52321b",
   "metadata": {},
   "source": [
    "## lets make some insights"
   ]
  },
  {
   "cell_type": "markdown",
   "id": "56fcaa7b",
   "metadata": {},
   "source": [
    "## what are sales revenue for years"
   ]
  },
  {
   "cell_type": "code",
   "execution_count": 39,
   "id": "de7d244c",
   "metadata": {},
   "outputs": [
    {
     "data": {
      "text/html": [
       "<div>\n",
       "<style scoped>\n",
       "    .dataframe tbody tr th:only-of-type {\n",
       "        vertical-align: middle;\n",
       "    }\n",
       "\n",
       "    .dataframe tbody tr th {\n",
       "        vertical-align: top;\n",
       "    }\n",
       "\n",
       "    .dataframe thead th {\n",
       "        text-align: right;\n",
       "    }\n",
       "</style>\n",
       "<table border=\"1\" class=\"dataframe\">\n",
       "  <thead>\n",
       "    <tr style=\"text-align: right;\">\n",
       "      <th></th>\n",
       "      <th>Revenue</th>\n",
       "    </tr>\n",
       "    <tr>\n",
       "      <th>year</th>\n",
       "      <th></th>\n",
       "    </tr>\n",
       "  </thead>\n",
       "  <tbody>\n",
       "    <tr>\n",
       "      <th>2010</th>\n",
       "      <td>745858.24</td>\n",
       "    </tr>\n",
       "    <tr>\n",
       "      <th>2011</th>\n",
       "      <td>8974529.62</td>\n",
       "    </tr>\n",
       "  </tbody>\n",
       "</table>\n",
       "</div>"
      ],
      "text/plain": [
       "        Revenue\n",
       "year           \n",
       "2010  745858.24\n",
       "2011 8974529.62"
      ]
     },
     "execution_count": 39,
     "metadata": {},
     "output_type": "execute_result"
    }
   ],
   "source": [
    "df.groupby([\"year\"])[[\"Revenue\"]].sum().sort_values(by=\"year\",ascending=True)"
   ]
  },
  {
   "cell_type": "markdown",
   "id": "ac97dbe9",
   "metadata": {},
   "source": [
    "### what are the top sales countries"
   ]
  },
  {
   "cell_type": "code",
   "execution_count": 40,
   "id": "f34c3ab3",
   "metadata": {
    "scrolled": false
   },
   "outputs": [
    {
     "data": {
      "text/html": [
       "<div>\n",
       "<style scoped>\n",
       "    .dataframe tbody tr th:only-of-type {\n",
       "        vertical-align: middle;\n",
       "    }\n",
       "\n",
       "    .dataframe tbody tr th {\n",
       "        vertical-align: top;\n",
       "    }\n",
       "\n",
       "    .dataframe thead th {\n",
       "        text-align: right;\n",
       "    }\n",
       "</style>\n",
       "<table border=\"1\" class=\"dataframe\">\n",
       "  <thead>\n",
       "    <tr style=\"text-align: right;\">\n",
       "      <th></th>\n",
       "      <th>Quantity</th>\n",
       "    </tr>\n",
       "    <tr>\n",
       "      <th>Country</th>\n",
       "      <th></th>\n",
       "    </tr>\n",
       "  </thead>\n",
       "  <tbody>\n",
       "    <tr>\n",
       "      <th>United Kingdom</th>\n",
       "      <td>4258751</td>\n",
       "    </tr>\n",
       "    <tr>\n",
       "      <th>Netherlands</th>\n",
       "      <td>200128</td>\n",
       "    </tr>\n",
       "    <tr>\n",
       "      <th>EIRE</th>\n",
       "      <td>142495</td>\n",
       "    </tr>\n",
       "    <tr>\n",
       "      <th>Germany</th>\n",
       "      <td>117340</td>\n",
       "    </tr>\n",
       "    <tr>\n",
       "      <th>France</th>\n",
       "      <td>110438</td>\n",
       "    </tr>\n",
       "    <tr>\n",
       "      <th>Australia</th>\n",
       "      <td>83643</td>\n",
       "    </tr>\n",
       "    <tr>\n",
       "      <th>Sweden</th>\n",
       "      <td>35632</td>\n",
       "    </tr>\n",
       "    <tr>\n",
       "      <th>Switzerland</th>\n",
       "      <td>30313</td>\n",
       "    </tr>\n",
       "    <tr>\n",
       "      <th>Spain</th>\n",
       "      <td>26817</td>\n",
       "    </tr>\n",
       "    <tr>\n",
       "      <th>Japan</th>\n",
       "      <td>25218</td>\n",
       "    </tr>\n",
       "    <tr>\n",
       "      <th>Belgium</th>\n",
       "      <td>23152</td>\n",
       "    </tr>\n",
       "    <tr>\n",
       "      <th>Norway</th>\n",
       "      <td>19247</td>\n",
       "    </tr>\n",
       "    <tr>\n",
       "      <th>Portugal</th>\n",
       "      <td>16153</td>\n",
       "    </tr>\n",
       "    <tr>\n",
       "      <th>Finland</th>\n",
       "      <td>10666</td>\n",
       "    </tr>\n",
       "    <tr>\n",
       "      <th>Channel Islands</th>\n",
       "      <td>9473</td>\n",
       "    </tr>\n",
       "    <tr>\n",
       "      <th>Denmark</th>\n",
       "      <td>8188</td>\n",
       "    </tr>\n",
       "    <tr>\n",
       "      <th>Italy</th>\n",
       "      <td>7999</td>\n",
       "    </tr>\n",
       "    <tr>\n",
       "      <th>Cyprus</th>\n",
       "      <td>6296</td>\n",
       "    </tr>\n",
       "    <tr>\n",
       "      <th>Singapore</th>\n",
       "      <td>5234</td>\n",
       "    </tr>\n",
       "    <tr>\n",
       "      <th>Austria</th>\n",
       "      <td>4827</td>\n",
       "    </tr>\n",
       "    <tr>\n",
       "      <th>Hong Kong</th>\n",
       "      <td>4709</td>\n",
       "    </tr>\n",
       "    <tr>\n",
       "      <th>Israel</th>\n",
       "      <td>4350</td>\n",
       "    </tr>\n",
       "    <tr>\n",
       "      <th>Poland</th>\n",
       "      <td>3653</td>\n",
       "    </tr>\n",
       "    <tr>\n",
       "      <th>Unspecified</th>\n",
       "      <td>3295</td>\n",
       "    </tr>\n",
       "    <tr>\n",
       "      <th>Canada</th>\n",
       "      <td>2763</td>\n",
       "    </tr>\n",
       "    <tr>\n",
       "      <th>Iceland</th>\n",
       "      <td>2458</td>\n",
       "    </tr>\n",
       "    <tr>\n",
       "      <th>Greece</th>\n",
       "      <td>1556</td>\n",
       "    </tr>\n",
       "    <tr>\n",
       "      <th>USA</th>\n",
       "      <td>1034</td>\n",
       "    </tr>\n",
       "    <tr>\n",
       "      <th>United Arab Emirates</th>\n",
       "      <td>982</td>\n",
       "    </tr>\n",
       "    <tr>\n",
       "      <th>Malta</th>\n",
       "      <td>944</td>\n",
       "    </tr>\n",
       "    <tr>\n",
       "      <th>Lithuania</th>\n",
       "      <td>652</td>\n",
       "    </tr>\n",
       "    <tr>\n",
       "      <th>Czech Republic</th>\n",
       "      <td>592</td>\n",
       "    </tr>\n",
       "    <tr>\n",
       "      <th>European Community</th>\n",
       "      <td>497</td>\n",
       "    </tr>\n",
       "    <tr>\n",
       "      <th>Lebanon</th>\n",
       "      <td>386</td>\n",
       "    </tr>\n",
       "    <tr>\n",
       "      <th>Brazil</th>\n",
       "      <td>356</td>\n",
       "    </tr>\n",
       "    <tr>\n",
       "      <th>RSA</th>\n",
       "      <td>352</td>\n",
       "    </tr>\n",
       "    <tr>\n",
       "      <th>Bahrain</th>\n",
       "      <td>260</td>\n",
       "    </tr>\n",
       "    <tr>\n",
       "      <th>Saudi Arabia</th>\n",
       "      <td>75</td>\n",
       "    </tr>\n",
       "  </tbody>\n",
       "</table>\n",
       "</div>"
      ],
      "text/plain": [
       "                      Quantity\n",
       "Country                       \n",
       "United Kingdom         4258751\n",
       "Netherlands             200128\n",
       "EIRE                    142495\n",
       "Germany                 117340\n",
       "France                  110438\n",
       "Australia                83643\n",
       "Sweden                   35632\n",
       "Switzerland              30313\n",
       "Spain                    26817\n",
       "Japan                    25218\n",
       "Belgium                  23152\n",
       "Norway                   19247\n",
       "Portugal                 16153\n",
       "Finland                  10666\n",
       "Channel Islands           9473\n",
       "Denmark                   8188\n",
       "Italy                     7999\n",
       "Cyprus                    6296\n",
       "Singapore                 5234\n",
       "Austria                   4827\n",
       "Hong Kong                 4709\n",
       "Israel                    4350\n",
       "Poland                    3653\n",
       "Unspecified               3295\n",
       "Canada                    2763\n",
       "Iceland                   2458\n",
       "Greece                    1556\n",
       "USA                       1034\n",
       "United Arab Emirates       982\n",
       "Malta                      944\n",
       "Lithuania                  652\n",
       "Czech Republic             592\n",
       "European Community         497\n",
       "Lebanon                    386\n",
       "Brazil                     356\n",
       "RSA                        352\n",
       "Bahrain                    260\n",
       "Saudi Arabia                75"
      ]
     },
     "execution_count": 40,
     "metadata": {},
     "output_type": "execute_result"
    }
   ],
   "source": [
    "df.groupby(\"Country\")[[\"Quantity\"]].sum().sort_values(by=[\"Quantity\"],ascending=False)"
   ]
  },
  {
   "cell_type": "markdown",
   "id": "0e3817f9",
   "metadata": {},
   "source": [
    "### what are the top revenue countries"
   ]
  },
  {
   "cell_type": "code",
   "execution_count": 43,
   "id": "ea65cb0d",
   "metadata": {
    "scrolled": false
   },
   "outputs": [
    {
     "data": {
      "text/html": [
       "<div>\n",
       "<style scoped>\n",
       "    .dataframe tbody tr th:only-of-type {\n",
       "        vertical-align: middle;\n",
       "    }\n",
       "\n",
       "    .dataframe tbody tr th {\n",
       "        vertical-align: top;\n",
       "    }\n",
       "\n",
       "    .dataframe thead th {\n",
       "        text-align: right;\n",
       "    }\n",
       "</style>\n",
       "<table border=\"1\" class=\"dataframe\">\n",
       "  <thead>\n",
       "    <tr style=\"text-align: right;\">\n",
       "      <th></th>\n",
       "      <th>Revenue</th>\n",
       "    </tr>\n",
       "    <tr>\n",
       "      <th>Country</th>\n",
       "      <th></th>\n",
       "    </tr>\n",
       "  </thead>\n",
       "  <tbody>\n",
       "    <tr>\n",
       "      <th>United Kingdom</th>\n",
       "      <td>8161527.09</td>\n",
       "    </tr>\n",
       "    <tr>\n",
       "      <th>Netherlands</th>\n",
       "      <td>284661.54</td>\n",
       "    </tr>\n",
       "    <tr>\n",
       "      <th>EIRE</th>\n",
       "      <td>262993.38</td>\n",
       "    </tr>\n",
       "    <tr>\n",
       "      <th>Germany</th>\n",
       "      <td>221491.47</td>\n",
       "    </tr>\n",
       "    <tr>\n",
       "      <th>France</th>\n",
       "      <td>197317.11</td>\n",
       "    </tr>\n",
       "    <tr>\n",
       "      <th>Australia</th>\n",
       "      <td>137009.77</td>\n",
       "    </tr>\n",
       "    <tr>\n",
       "      <th>Switzerland</th>\n",
       "      <td>56363.05</td>\n",
       "    </tr>\n",
       "    <tr>\n",
       "      <th>Spain</th>\n",
       "      <td>54756.03</td>\n",
       "    </tr>\n",
       "    <tr>\n",
       "      <th>Belgium</th>\n",
       "      <td>40910.96</td>\n",
       "    </tr>\n",
       "    <tr>\n",
       "      <th>Sweden</th>\n",
       "      <td>36585.41</td>\n",
       "    </tr>\n",
       "    <tr>\n",
       "      <th>Japan</th>\n",
       "      <td>35340.62</td>\n",
       "    </tr>\n",
       "    <tr>\n",
       "      <th>Norway</th>\n",
       "      <td>35163.46</td>\n",
       "    </tr>\n",
       "    <tr>\n",
       "      <th>Portugal</th>\n",
       "      <td>29302.97</td>\n",
       "    </tr>\n",
       "    <tr>\n",
       "      <th>Finland</th>\n",
       "      <td>22326.74</td>\n",
       "    </tr>\n",
       "    <tr>\n",
       "      <th>Channel Islands</th>\n",
       "      <td>20076.39</td>\n",
       "    </tr>\n",
       "    <tr>\n",
       "      <th>Denmark</th>\n",
       "      <td>18768.14</td>\n",
       "    </tr>\n",
       "    <tr>\n",
       "      <th>Italy</th>\n",
       "      <td>16890.51</td>\n",
       "    </tr>\n",
       "    <tr>\n",
       "      <th>Cyprus</th>\n",
       "      <td>12858.76</td>\n",
       "    </tr>\n",
       "    <tr>\n",
       "      <th>Austria</th>\n",
       "      <td>10154.32</td>\n",
       "    </tr>\n",
       "    <tr>\n",
       "      <th>Hong Kong</th>\n",
       "      <td>9908.24</td>\n",
       "    </tr>\n",
       "    <tr>\n",
       "      <th>Singapore</th>\n",
       "      <td>9120.39</td>\n",
       "    </tr>\n",
       "    <tr>\n",
       "      <th>Israel</th>\n",
       "      <td>7901.97</td>\n",
       "    </tr>\n",
       "    <tr>\n",
       "      <th>Poland</th>\n",
       "      <td>7213.14</td>\n",
       "    </tr>\n",
       "    <tr>\n",
       "      <th>Unspecified</th>\n",
       "      <td>4740.94</td>\n",
       "    </tr>\n",
       "    <tr>\n",
       "      <th>Greece</th>\n",
       "      <td>4710.52</td>\n",
       "    </tr>\n",
       "    <tr>\n",
       "      <th>Iceland</th>\n",
       "      <td>4310.00</td>\n",
       "    </tr>\n",
       "    <tr>\n",
       "      <th>Canada</th>\n",
       "      <td>3666.38</td>\n",
       "    </tr>\n",
       "    <tr>\n",
       "      <th>Malta</th>\n",
       "      <td>2505.47</td>\n",
       "    </tr>\n",
       "    <tr>\n",
       "      <th>United Arab Emirates</th>\n",
       "      <td>1902.28</td>\n",
       "    </tr>\n",
       "    <tr>\n",
       "      <th>USA</th>\n",
       "      <td>1730.92</td>\n",
       "    </tr>\n",
       "    <tr>\n",
       "      <th>Lebanon</th>\n",
       "      <td>1693.88</td>\n",
       "    </tr>\n",
       "    <tr>\n",
       "      <th>Lithuania</th>\n",
       "      <td>1661.06</td>\n",
       "    </tr>\n",
       "    <tr>\n",
       "      <th>European Community</th>\n",
       "      <td>1291.75</td>\n",
       "    </tr>\n",
       "    <tr>\n",
       "      <th>Brazil</th>\n",
       "      <td>1143.60</td>\n",
       "    </tr>\n",
       "    <tr>\n",
       "      <th>RSA</th>\n",
       "      <td>1002.31</td>\n",
       "    </tr>\n",
       "    <tr>\n",
       "      <th>Czech Republic</th>\n",
       "      <td>707.72</td>\n",
       "    </tr>\n",
       "    <tr>\n",
       "      <th>Bahrain</th>\n",
       "      <td>548.40</td>\n",
       "    </tr>\n",
       "    <tr>\n",
       "      <th>Saudi Arabia</th>\n",
       "      <td>131.17</td>\n",
       "    </tr>\n",
       "  </tbody>\n",
       "</table>\n",
       "</div>"
      ],
      "text/plain": [
       "                        Revenue\n",
       "Country                        \n",
       "United Kingdom       8161527.09\n",
       "Netherlands           284661.54\n",
       "EIRE                  262993.38\n",
       "Germany               221491.47\n",
       "France                197317.11\n",
       "Australia             137009.77\n",
       "Switzerland            56363.05\n",
       "Spain                  54756.03\n",
       "Belgium                40910.96\n",
       "Sweden                 36585.41\n",
       "Japan                  35340.62\n",
       "Norway                 35163.46\n",
       "Portugal               29302.97\n",
       "Finland                22326.74\n",
       "Channel Islands        20076.39\n",
       "Denmark                18768.14\n",
       "Italy                  16890.51\n",
       "Cyprus                 12858.76\n",
       "Austria                10154.32\n",
       "Hong Kong               9908.24\n",
       "Singapore               9120.39\n",
       "Israel                  7901.97\n",
       "Poland                  7213.14\n",
       "Unspecified             4740.94\n",
       "Greece                  4710.52\n",
       "Iceland                 4310.00\n",
       "Canada                  3666.38\n",
       "Malta                   2505.47\n",
       "United Arab Emirates    1902.28\n",
       "USA                     1730.92\n",
       "Lebanon                 1693.88\n",
       "Lithuania               1661.06\n",
       "European Community      1291.75\n",
       "Brazil                  1143.60\n",
       "RSA                     1002.31\n",
       "Czech Republic           707.72\n",
       "Bahrain                  548.40\n",
       "Saudi Arabia             131.17"
      ]
     },
     "execution_count": 43,
     "metadata": {},
     "output_type": "execute_result"
    }
   ],
   "source": [
    "df.groupby(\"Country\")[[\"Revenue\"]].sum().sort_values(by=[\"Revenue\"],ascending=False)"
   ]
  },
  {
   "cell_type": "markdown",
   "id": "145d2f1f",
   "metadata": {},
   "source": [
    "## what are the top sales products ( Quantity )"
   ]
  },
  {
   "cell_type": "code",
   "execution_count": 44,
   "id": "24dc77f1",
   "metadata": {
    "scrolled": true
   },
   "outputs": [
    {
     "data": {
      "text/html": [
       "<div>\n",
       "<style scoped>\n",
       "    .dataframe tbody tr th:only-of-type {\n",
       "        vertical-align: middle;\n",
       "    }\n",
       "\n",
       "    .dataframe tbody tr th {\n",
       "        vertical-align: top;\n",
       "    }\n",
       "\n",
       "    .dataframe thead th {\n",
       "        text-align: right;\n",
       "    }\n",
       "</style>\n",
       "<table border=\"1\" class=\"dataframe\">\n",
       "  <thead>\n",
       "    <tr style=\"text-align: right;\">\n",
       "      <th></th>\n",
       "      <th></th>\n",
       "      <th>Quantity</th>\n",
       "    </tr>\n",
       "    <tr>\n",
       "      <th>Description</th>\n",
       "      <th>Stock_Code</th>\n",
       "      <th></th>\n",
       "    </tr>\n",
       "  </thead>\n",
       "  <tbody>\n",
       "    <tr>\n",
       "      <th>WORLD WAR 2 GLIDERS ASSTD DESIGNS</th>\n",
       "      <th>84077</th>\n",
       "      <td>53751</td>\n",
       "    </tr>\n",
       "    <tr>\n",
       "      <th>JUMBO BAG RED RETROSPOT</th>\n",
       "      <th>85099B</th>\n",
       "      <td>47238</td>\n",
       "    </tr>\n",
       "    <tr>\n",
       "      <th>POPCORN HOLDER</th>\n",
       "      <th>22197</th>\n",
       "      <td>36318</td>\n",
       "    </tr>\n",
       "    <tr>\n",
       "      <th>ASSORTED COLOUR BIRD ORNAMENT</th>\n",
       "      <th>84879</th>\n",
       "      <td>36282</td>\n",
       "    </tr>\n",
       "    <tr>\n",
       "      <th>PACK OF 72 RETROSPOT CAKE CASES</th>\n",
       "      <th>21212</th>\n",
       "      <td>36016</td>\n",
       "    </tr>\n",
       "    <tr>\n",
       "      <th>...</th>\n",
       "      <th>...</th>\n",
       "      <td>...</td>\n",
       "    </tr>\n",
       "    <tr>\n",
       "      <th>wrongly marked. 23343 in box</th>\n",
       "      <th>20713</th>\n",
       "      <td>-3100</td>\n",
       "    </tr>\n",
       "    <tr>\n",
       "      <th>Unsaleable, destroyed.</th>\n",
       "      <th>79323W</th>\n",
       "      <td>-4830</td>\n",
       "    </tr>\n",
       "    <tr>\n",
       "      <th>throw away</th>\n",
       "      <th>72140F</th>\n",
       "      <td>-5368</td>\n",
       "    </tr>\n",
       "    <tr>\n",
       "      <th>Printing smudges/thrown away</th>\n",
       "      <th>23003</th>\n",
       "      <td>-9058</td>\n",
       "    </tr>\n",
       "    <tr>\n",
       "      <th>printing smudges/thrown away</th>\n",
       "      <th>23005</th>\n",
       "      <td>-9600</td>\n",
       "    </tr>\n",
       "  </tbody>\n",
       "</table>\n",
       "<p>4792 rows × 1 columns</p>\n",
       "</div>"
      ],
      "text/plain": [
       "                                              Quantity\n",
       "Description                       Stock_Code          \n",
       "WORLD WAR 2 GLIDERS ASSTD DESIGNS 84077          53751\n",
       "JUMBO BAG RED RETROSPOT           85099B         47238\n",
       "POPCORN HOLDER                    22197          36318\n",
       "ASSORTED COLOUR BIRD ORNAMENT     84879          36282\n",
       "PACK OF 72 RETROSPOT CAKE CASES   21212          36016\n",
       "...                                                ...\n",
       "wrongly marked. 23343 in box      20713          -3100\n",
       "Unsaleable, destroyed.            79323W         -4830\n",
       "throw away                        72140F         -5368\n",
       "Printing smudges/thrown away      23003          -9058\n",
       "printing smudges/thrown away      23005          -9600\n",
       "\n",
       "[4792 rows x 1 columns]"
      ]
     },
     "execution_count": 44,
     "metadata": {},
     "output_type": "execute_result"
    }
   ],
   "source": [
    "df.groupby([\"Description\",\"Stock_Code\"])[[\"Quantity\"]].sum().sort_values(by=\"Quantity\",ascending=False)"
   ]
  },
  {
   "cell_type": "markdown",
   "id": "6799e397",
   "metadata": {},
   "source": [
    "## what are the top sales products ( Revenue )"
   ]
  },
  {
   "cell_type": "code",
   "execution_count": 45,
   "id": "3a809c04",
   "metadata": {
    "scrolled": true
   },
   "outputs": [
    {
     "data": {
      "text/html": [
       "<div>\n",
       "<style scoped>\n",
       "    .dataframe tbody tr th:only-of-type {\n",
       "        vertical-align: middle;\n",
       "    }\n",
       "\n",
       "    .dataframe tbody tr th {\n",
       "        vertical-align: top;\n",
       "    }\n",
       "\n",
       "    .dataframe thead th {\n",
       "        text-align: right;\n",
       "    }\n",
       "</style>\n",
       "<table border=\"1\" class=\"dataframe\">\n",
       "  <thead>\n",
       "    <tr style=\"text-align: right;\">\n",
       "      <th></th>\n",
       "      <th></th>\n",
       "      <th>Revenue</th>\n",
       "    </tr>\n",
       "    <tr>\n",
       "      <th>Description</th>\n",
       "      <th>Stock_Code</th>\n",
       "      <th></th>\n",
       "    </tr>\n",
       "  </thead>\n",
       "  <tbody>\n",
       "    <tr>\n",
       "      <th>DOTCOM POSTAGE</th>\n",
       "      <th>DOT</th>\n",
       "      <td>206245.48</td>\n",
       "    </tr>\n",
       "    <tr>\n",
       "      <th>REGENCY CAKESTAND 3 TIER</th>\n",
       "      <th>22423</th>\n",
       "      <td>164459.49</td>\n",
       "    </tr>\n",
       "    <tr>\n",
       "      <th>PARTY BUNTING</th>\n",
       "      <th>47566</th>\n",
       "      <td>98234.56</td>\n",
       "    </tr>\n",
       "    <tr>\n",
       "      <th>WHITE HANGING HEART T-LIGHT HOLDER</th>\n",
       "      <th>85123A</th>\n",
       "      <td>97659.94</td>\n",
       "    </tr>\n",
       "    <tr>\n",
       "      <th>JUMBO BAG RED RETROSPOT</th>\n",
       "      <th>85099B</th>\n",
       "      <td>92084.93</td>\n",
       "    </tr>\n",
       "    <tr>\n",
       "      <th>...</th>\n",
       "      <th>...</th>\n",
       "      <td>...</td>\n",
       "    </tr>\n",
       "    <tr>\n",
       "      <th>Bank Charges</th>\n",
       "      <th>BANK CHARGES</th>\n",
       "      <td>-7175.64</td>\n",
       "    </tr>\n",
       "    <tr>\n",
       "      <th>CRUK Commission</th>\n",
       "      <th>CRUK</th>\n",
       "      <td>-7933.43</td>\n",
       "    </tr>\n",
       "    <tr>\n",
       "      <th>Adjust bad debt</th>\n",
       "      <th>B</th>\n",
       "      <td>-11062.06</td>\n",
       "    </tr>\n",
       "    <tr>\n",
       "      <th>Manual</th>\n",
       "      <th>M</th>\n",
       "      <td>-69034.19</td>\n",
       "    </tr>\n",
       "    <tr>\n",
       "      <th>AMAZON FEE</th>\n",
       "      <th>AMAZONFEE</th>\n",
       "      <td>-221520.50</td>\n",
       "    </tr>\n",
       "  </tbody>\n",
       "</table>\n",
       "<p>4792 rows × 1 columns</p>\n",
       "</div>"
      ],
      "text/plain": [
       "                                                   Revenue\n",
       "Description                        Stock_Code             \n",
       "DOTCOM POSTAGE                     DOT           206245.48\n",
       "REGENCY CAKESTAND 3 TIER           22423         164459.49\n",
       "PARTY BUNTING                      47566          98234.56\n",
       "WHITE HANGING HEART T-LIGHT HOLDER 85123A         97659.94\n",
       "JUMBO BAG RED RETROSPOT            85099B         92084.93\n",
       "...                                                    ...\n",
       "Bank Charges                       BANK CHARGES   -7175.64\n",
       "CRUK Commission                    CRUK           -7933.43\n",
       "Adjust bad debt                    B             -11062.06\n",
       "Manual                             M             -69034.19\n",
       "AMAZON FEE                         AMAZONFEE    -221520.50\n",
       "\n",
       "[4792 rows x 1 columns]"
      ]
     },
     "execution_count": 45,
     "metadata": {},
     "output_type": "execute_result"
    }
   ],
   "source": [
    "df.groupby([\"Description\",\"Stock_Code\"])[[\"Revenue\"]].sum().sort_values(by=\"Revenue\",ascending=False)"
   ]
  },
  {
   "cell_type": "markdown",
   "id": "025dc7ea",
   "metadata": {},
   "source": [
    "## what are the lowest sales products ( Revenue )"
   ]
  },
  {
   "cell_type": "code",
   "execution_count": 46,
   "id": "3df9b8fa",
   "metadata": {
    "scrolled": false
   },
   "outputs": [
    {
     "data": {
      "text/html": [
       "<div>\n",
       "<style scoped>\n",
       "    .dataframe tbody tr th:only-of-type {\n",
       "        vertical-align: middle;\n",
       "    }\n",
       "\n",
       "    .dataframe tbody tr th {\n",
       "        vertical-align: top;\n",
       "    }\n",
       "\n",
       "    .dataframe thead th {\n",
       "        text-align: right;\n",
       "    }\n",
       "</style>\n",
       "<table border=\"1\" class=\"dataframe\">\n",
       "  <thead>\n",
       "    <tr style=\"text-align: right;\">\n",
       "      <th></th>\n",
       "      <th></th>\n",
       "      <th>Revenue</th>\n",
       "    </tr>\n",
       "    <tr>\n",
       "      <th>Description</th>\n",
       "      <th>Stock_Code</th>\n",
       "      <th></th>\n",
       "    </tr>\n",
       "  </thead>\n",
       "  <tbody>\n",
       "    <tr>\n",
       "      <th>AMAZON FEE</th>\n",
       "      <th>AMAZONFEE</th>\n",
       "      <td>-221520.50</td>\n",
       "    </tr>\n",
       "    <tr>\n",
       "      <th>Manual</th>\n",
       "      <th>M</th>\n",
       "      <td>-69034.19</td>\n",
       "    </tr>\n",
       "    <tr>\n",
       "      <th>Adjust bad debt</th>\n",
       "      <th>B</th>\n",
       "      <td>-11062.06</td>\n",
       "    </tr>\n",
       "    <tr>\n",
       "      <th>CRUK Commission</th>\n",
       "      <th>CRUK</th>\n",
       "      <td>-7933.43</td>\n",
       "    </tr>\n",
       "    <tr>\n",
       "      <th>Bank Charges</th>\n",
       "      <th>BANK CHARGES</th>\n",
       "      <td>-7175.64</td>\n",
       "    </tr>\n",
       "    <tr>\n",
       "      <th>...</th>\n",
       "      <th>...</th>\n",
       "      <td>...</td>\n",
       "    </tr>\n",
       "    <tr>\n",
       "      <th>JUMBO BAG RED RETROSPOT</th>\n",
       "      <th>85099B</th>\n",
       "      <td>92084.93</td>\n",
       "    </tr>\n",
       "    <tr>\n",
       "      <th>WHITE HANGING HEART T-LIGHT HOLDER</th>\n",
       "      <th>85123A</th>\n",
       "      <td>97659.94</td>\n",
       "    </tr>\n",
       "    <tr>\n",
       "      <th>PARTY BUNTING</th>\n",
       "      <th>47566</th>\n",
       "      <td>98234.56</td>\n",
       "    </tr>\n",
       "    <tr>\n",
       "      <th>REGENCY CAKESTAND 3 TIER</th>\n",
       "      <th>22423</th>\n",
       "      <td>164459.49</td>\n",
       "    </tr>\n",
       "    <tr>\n",
       "      <th>DOTCOM POSTAGE</th>\n",
       "      <th>DOT</th>\n",
       "      <td>206245.48</td>\n",
       "    </tr>\n",
       "  </tbody>\n",
       "</table>\n",
       "<p>4792 rows × 1 columns</p>\n",
       "</div>"
      ],
      "text/plain": [
       "                                                   Revenue\n",
       "Description                        Stock_Code             \n",
       "AMAZON FEE                         AMAZONFEE    -221520.50\n",
       "Manual                             M             -69034.19\n",
       "Adjust bad debt                    B             -11062.06\n",
       "CRUK Commission                    CRUK           -7933.43\n",
       "Bank Charges                       BANK CHARGES   -7175.64\n",
       "...                                                    ...\n",
       "JUMBO BAG RED RETROSPOT            85099B         92084.93\n",
       "WHITE HANGING HEART T-LIGHT HOLDER 85123A         97659.94\n",
       "PARTY BUNTING                      47566          98234.56\n",
       "REGENCY CAKESTAND 3 TIER           22423         164459.49\n",
       "DOTCOM POSTAGE                     DOT           206245.48\n",
       "\n",
       "[4792 rows x 1 columns]"
      ]
     },
     "execution_count": 46,
     "metadata": {},
     "output_type": "execute_result"
    }
   ],
   "source": [
    "df.groupby([\"Description\",\"Stock_Code\"])[[\"Revenue\"]].sum().sort_values(by=\"Revenue\",ascending=True)"
   ]
  },
  {
   "cell_type": "markdown",
   "id": "924b5a81",
   "metadata": {},
   "source": [
    "## what are the lowest sales products ( Quantity )"
   ]
  },
  {
   "cell_type": "code",
   "execution_count": 47,
   "id": "8c99ae5e",
   "metadata": {
    "scrolled": false
   },
   "outputs": [
    {
     "data": {
      "text/html": [
       "<div>\n",
       "<style scoped>\n",
       "    .dataframe tbody tr th:only-of-type {\n",
       "        vertical-align: middle;\n",
       "    }\n",
       "\n",
       "    .dataframe tbody tr th {\n",
       "        vertical-align: top;\n",
       "    }\n",
       "\n",
       "    .dataframe thead th {\n",
       "        text-align: right;\n",
       "    }\n",
       "</style>\n",
       "<table border=\"1\" class=\"dataframe\">\n",
       "  <thead>\n",
       "    <tr style=\"text-align: right;\">\n",
       "      <th></th>\n",
       "      <th></th>\n",
       "      <th>Quantity</th>\n",
       "    </tr>\n",
       "    <tr>\n",
       "      <th>Description</th>\n",
       "      <th>Stock_Code</th>\n",
       "      <th></th>\n",
       "    </tr>\n",
       "  </thead>\n",
       "  <tbody>\n",
       "    <tr>\n",
       "      <th>printing smudges/thrown away</th>\n",
       "      <th>23005</th>\n",
       "      <td>-9600</td>\n",
       "    </tr>\n",
       "    <tr>\n",
       "      <th>Printing smudges/thrown away</th>\n",
       "      <th>23003</th>\n",
       "      <td>-9058</td>\n",
       "    </tr>\n",
       "    <tr>\n",
       "      <th>throw away</th>\n",
       "      <th>72140F</th>\n",
       "      <td>-5368</td>\n",
       "    </tr>\n",
       "    <tr>\n",
       "      <th>Unsaleable, destroyed.</th>\n",
       "      <th>79323W</th>\n",
       "      <td>-4830</td>\n",
       "    </tr>\n",
       "    <tr>\n",
       "      <th>wrongly marked. 23343 in box</th>\n",
       "      <th>20713</th>\n",
       "      <td>-3100</td>\n",
       "    </tr>\n",
       "    <tr>\n",
       "      <th>...</th>\n",
       "      <th>...</th>\n",
       "      <td>...</td>\n",
       "    </tr>\n",
       "    <tr>\n",
       "      <th>PACK OF 72 RETROSPOT CAKE CASES</th>\n",
       "      <th>21212</th>\n",
       "      <td>36016</td>\n",
       "    </tr>\n",
       "    <tr>\n",
       "      <th>ASSORTED COLOUR BIRD ORNAMENT</th>\n",
       "      <th>84879</th>\n",
       "      <td>36282</td>\n",
       "    </tr>\n",
       "    <tr>\n",
       "      <th>POPCORN HOLDER</th>\n",
       "      <th>22197</th>\n",
       "      <td>36318</td>\n",
       "    </tr>\n",
       "    <tr>\n",
       "      <th>JUMBO BAG RED RETROSPOT</th>\n",
       "      <th>85099B</th>\n",
       "      <td>47238</td>\n",
       "    </tr>\n",
       "    <tr>\n",
       "      <th>WORLD WAR 2 GLIDERS ASSTD DESIGNS</th>\n",
       "      <th>84077</th>\n",
       "      <td>53751</td>\n",
       "    </tr>\n",
       "  </tbody>\n",
       "</table>\n",
       "<p>4792 rows × 1 columns</p>\n",
       "</div>"
      ],
      "text/plain": [
       "                                              Quantity\n",
       "Description                       Stock_Code          \n",
       "printing smudges/thrown away      23005          -9600\n",
       "Printing smudges/thrown away      23003          -9058\n",
       "throw away                        72140F         -5368\n",
       "Unsaleable, destroyed.            79323W         -4830\n",
       "wrongly marked. 23343 in box      20713          -3100\n",
       "...                                                ...\n",
       "PACK OF 72 RETROSPOT CAKE CASES   21212          36016\n",
       "ASSORTED COLOUR BIRD ORNAMENT     84879          36282\n",
       "POPCORN HOLDER                    22197          36318\n",
       "JUMBO BAG RED RETROSPOT           85099B         47238\n",
       "WORLD WAR 2 GLIDERS ASSTD DESIGNS 84077          53751\n",
       "\n",
       "[4792 rows x 1 columns]"
      ]
     },
     "execution_count": 47,
     "metadata": {},
     "output_type": "execute_result"
    }
   ],
   "source": [
    "df.groupby([\"Description\",\"Stock_Code\"])[[\"Quantity\"]].sum().sort_values(by=\"Quantity\",ascending=True)"
   ]
  },
  {
   "cell_type": "markdown",
   "id": "411c9448",
   "metadata": {},
   "source": [
    "## which customers has the most (Quantity)"
   ]
  },
  {
   "cell_type": "code",
   "execution_count": 48,
   "id": "b05dc3bc",
   "metadata": {
    "scrolled": true
   },
   "outputs": [
    {
     "data": {
      "text/html": [
       "<div>\n",
       "<style scoped>\n",
       "    .dataframe tbody tr th:only-of-type {\n",
       "        vertical-align: middle;\n",
       "    }\n",
       "\n",
       "    .dataframe tbody tr th {\n",
       "        vertical-align: top;\n",
       "    }\n",
       "\n",
       "    .dataframe thead th {\n",
       "        text-align: right;\n",
       "    }\n",
       "</style>\n",
       "<table border=\"1\" class=\"dataframe\">\n",
       "  <thead>\n",
       "    <tr style=\"text-align: right;\">\n",
       "      <th></th>\n",
       "      <th>Quantity</th>\n",
       "    </tr>\n",
       "    <tr>\n",
       "      <th>Customer_ID</th>\n",
       "      <th></th>\n",
       "    </tr>\n",
       "  </thead>\n",
       "  <tbody>\n",
       "    <tr>\n",
       "      <th>nan</th>\n",
       "      <td>278552</td>\n",
       "    </tr>\n",
       "    <tr>\n",
       "      <th>14646.0</th>\n",
       "      <td>196719</td>\n",
       "    </tr>\n",
       "    <tr>\n",
       "      <th>12415.0</th>\n",
       "      <td>77242</td>\n",
       "    </tr>\n",
       "    <tr>\n",
       "      <th>14911.0</th>\n",
       "      <td>77155</td>\n",
       "    </tr>\n",
       "    <tr>\n",
       "      <th>17450.0</th>\n",
       "      <td>69009</td>\n",
       "    </tr>\n",
       "    <tr>\n",
       "      <th>...</th>\n",
       "      <td>...</td>\n",
       "    </tr>\n",
       "    <tr>\n",
       "      <th>16252.0</th>\n",
       "      <td>-158</td>\n",
       "    </tr>\n",
       "    <tr>\n",
       "      <th>16742.0</th>\n",
       "      <td>-189</td>\n",
       "    </tr>\n",
       "    <tr>\n",
       "      <th>14213.0</th>\n",
       "      <td>-244</td>\n",
       "    </tr>\n",
       "    <tr>\n",
       "      <th>15823.0</th>\n",
       "      <td>-283</td>\n",
       "    </tr>\n",
       "    <tr>\n",
       "      <th>16546.0</th>\n",
       "      <td>-303</td>\n",
       "    </tr>\n",
       "  </tbody>\n",
       "</table>\n",
       "<p>4373 rows × 1 columns</p>\n",
       "</div>"
      ],
      "text/plain": [
       "             Quantity\n",
       "Customer_ID          \n",
       "nan            278552\n",
       "14646.0        196719\n",
       "12415.0         77242\n",
       "14911.0         77155\n",
       "17450.0         69009\n",
       "...               ...\n",
       "16252.0          -158\n",
       "16742.0          -189\n",
       "14213.0          -244\n",
       "15823.0          -283\n",
       "16546.0          -303\n",
       "\n",
       "[4373 rows x 1 columns]"
      ]
     },
     "execution_count": 48,
     "metadata": {},
     "output_type": "execute_result"
    }
   ],
   "source": [
    "df.groupby([\"Customer_ID\"])[[\"Quantity\"]].sum().sort_values(by=\"Quantity\",ascending=False)"
   ]
  },
  {
   "cell_type": "markdown",
   "id": "68e708a8",
   "metadata": {},
   "source": [
    "## which customers has the most (Revenue)"
   ]
  },
  {
   "cell_type": "code",
   "execution_count": 49,
   "id": "e4bd59b6",
   "metadata": {
    "scrolled": true
   },
   "outputs": [
    {
     "data": {
      "text/html": [
       "<div>\n",
       "<style scoped>\n",
       "    .dataframe tbody tr th:only-of-type {\n",
       "        vertical-align: middle;\n",
       "    }\n",
       "\n",
       "    .dataframe tbody tr th {\n",
       "        vertical-align: top;\n",
       "    }\n",
       "\n",
       "    .dataframe thead th {\n",
       "        text-align: right;\n",
       "    }\n",
       "</style>\n",
       "<table border=\"1\" class=\"dataframe\">\n",
       "  <thead>\n",
       "    <tr style=\"text-align: right;\">\n",
       "      <th></th>\n",
       "      <th>Revenue</th>\n",
       "    </tr>\n",
       "    <tr>\n",
       "      <th>Customer_ID</th>\n",
       "      <th></th>\n",
       "    </tr>\n",
       "  </thead>\n",
       "  <tbody>\n",
       "    <tr>\n",
       "      <th>nan</th>\n",
       "      <td>1443316.28</td>\n",
       "    </tr>\n",
       "    <tr>\n",
       "      <th>14646.0</th>\n",
       "      <td>279489.02</td>\n",
       "    </tr>\n",
       "    <tr>\n",
       "      <th>18102.0</th>\n",
       "      <td>255522.49</td>\n",
       "    </tr>\n",
       "    <tr>\n",
       "      <th>17450.0</th>\n",
       "      <td>187322.17</td>\n",
       "    </tr>\n",
       "    <tr>\n",
       "      <th>14911.0</th>\n",
       "      <td>132458.73</td>\n",
       "    </tr>\n",
       "    <tr>\n",
       "      <th>...</th>\n",
       "      <td>...</td>\n",
       "    </tr>\n",
       "    <tr>\n",
       "      <th>12503.0</th>\n",
       "      <td>-1126.00</td>\n",
       "    </tr>\n",
       "    <tr>\n",
       "      <th>17603.0</th>\n",
       "      <td>-1165.30</td>\n",
       "    </tr>\n",
       "    <tr>\n",
       "      <th>14213.0</th>\n",
       "      <td>-1192.20</td>\n",
       "    </tr>\n",
       "    <tr>\n",
       "      <th>15369.0</th>\n",
       "      <td>-1592.49</td>\n",
       "    </tr>\n",
       "    <tr>\n",
       "      <th>17448.0</th>\n",
       "      <td>-4287.63</td>\n",
       "    </tr>\n",
       "  </tbody>\n",
       "</table>\n",
       "<p>4373 rows × 1 columns</p>\n",
       "</div>"
      ],
      "text/plain": [
       "               Revenue\n",
       "Customer_ID           \n",
       "nan         1443316.28\n",
       "14646.0      279489.02\n",
       "18102.0      255522.49\n",
       "17450.0      187322.17\n",
       "14911.0      132458.73\n",
       "...                ...\n",
       "12503.0       -1126.00\n",
       "17603.0       -1165.30\n",
       "14213.0       -1192.20\n",
       "15369.0       -1592.49\n",
       "17448.0       -4287.63\n",
       "\n",
       "[4373 rows x 1 columns]"
      ]
     },
     "execution_count": 49,
     "metadata": {},
     "output_type": "execute_result"
    }
   ],
   "source": [
    "df.groupby([\"Customer_ID\"])[[\"Revenue\"]].sum().sort_values(by=\"Revenue\",ascending=False)"
   ]
  },
  {
   "cell_type": "markdown",
   "id": "79f38930",
   "metadata": {},
   "source": [
    "# lets make some visualiztion"
   ]
  },
  {
   "cell_type": "markdown",
   "id": "e7090e95",
   "metadata": {},
   "source": [
    "## what is the distribution of hours ordering "
   ]
  },
  {
   "cell_type": "code",
   "execution_count": 51,
   "id": "c41f1557",
   "metadata": {
    "scrolled": false
   },
   "outputs": [
    {
     "data": {
      "image/png": "[encoded data removed]",
      "text/plain": [
       "<Figure size 1500x1000 with 1 Axes>"
      ]
     },
     "metadata": {},
     "output_type": "display_data"
    }
   ],
   "source": [
    "hours = [hour for hour , clean in df.groupby(\"hour\")]\n",
    "hours2=range(1,25)\n",
    "plt.figure(figsize=(15,10))\n",
    "plt.plot(hours,df.groupby(\"hour\")[\"Quantity\"].count())\n",
    "plt.xticks(hours2)\n",
    "plt.title(\"how many orders for each hour in the day\")\n",
    "plt.xlabel(\"order hours\")\n",
    "plt.ylabel(\" count of orders\")\n",
    "plt.grid(axis=\"y\")\n",
    "plt.show()"
   ]
  },
  {
   "cell_type": "markdown",
   "id": "a0b0172b",
   "metadata": {},
   "source": [
    "## what is the distribution of month days ordering "
   ]
  },
  {
   "cell_type": "code",
   "execution_count": 52,
   "id": "e9748661",
   "metadata": {
    "scrolled": true
   },
   "outputs": [
    {
     "data": {
      "image/png": "[encoded data removed]",
      "text/plain": [
       "<Figure size 1500x1000 with 1 Axes>"
      ]
     },
     "metadata": {},
     "output_type": "display_data"
    }
   ],
   "source": [
    "days = [day for day , clean in df.groupby(\"day\")]\n",
    "\n",
    "plt.figure(figsize=(15,10))\n",
    "plt.plot(days,df.groupby(\"day\")[\"Quantity\"].count())\n",
    "plt.xticks(days)\n",
    "plt.xlabel(\"order days\")\n",
    "plt.ylabel(\" count of orders\")\n",
    "plt.title(\"how many orders for each day in the month\")\n",
    "plt.grid(axis=\"y\")\n",
    "plt.show()"
   ]
  },
  {
   "cell_type": "code",
   "execution_count": null,
   "id": "7d175942",
   "metadata": {},
   "outputs": [],
   "source": [
    "sns.pairplot(data=df)\n",
    "plt.show()"
   ]
  },
  {
   "cell_type": "code",
   "execution_count": 62,
   "id": "c9cddd43",
   "metadata": {},
   "outputs": [
    {
     "name": "stderr",
     "output_type": "stream",
     "text": [
      "C:\\Users\\20114\\AppData\\Local\\Temp\\ipykernel_16208\\1083294292.py:1: FutureWarning: \n",
      "\n",
      "The `ci` parameter is deprecated. Use `errorbar=None` for the same effect.\n",
      "\n",
      "  sns.lineplot(data=df,x=\"month\",y=\"Quantity\",ci=None)\n"
     ]
    },
    {
     "data": {
      "image/png": "[encoded data removed]",
      "text/plain": [
       "<Figure size 640x480 with 1 Axes>"
      ]
     },
     "metadata": {},
     "output_type": "display_data"
    }
   ],
   "source": [
    "sns.lineplot(data=df,x=\"month\",y=\"Quantity\",ci=None)\n",
    "plt.show()"
   ]
  },
  {
   "cell_type": "code",
   "execution_count": null,
   "id": "9c7bf5d3",
   "metadata": {},
   "outputs": [],
   "source": []
  }
 ],
 "metadata": {
  "kernelspec": {
   "display_name": "Python 3 (ipykernel)",
   "language": "python",
   "name": "python3"
  },
  "language_info": {
   "codemirror_mode": {
    "name": "ipython",
    "version": 3
   },
   "file_extension": ".py",
   "mimetype": "text/x-python",
   "name": "python",
   "nbconvert_exporter": "python",
   "pygments_lexer": "ipython3",
   "version": "3.9.17"
  }
 },
 "nbformat": 4,
 "nbformat_minor": 5
}
