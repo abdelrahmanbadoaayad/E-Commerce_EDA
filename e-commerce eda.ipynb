{
 "cells": [
  {
   "cell_type": "markdown",
   "id": "65a86d4c",
   "metadata": {},
   "source": [
    "# importing_libraries"
   ]
  },
  {
   "cell_type": "code",
   "execution_count": 41,
   "id": "59ac7cb0",
   "metadata": {},
   "outputs": [],
   "source": [
    "import pandas as pd\n",
    "import matplotlib.pyplot as plt\n",
    "pd.set_option('display.width', 100)\n",
    "pd.set_option('display.max_columns', 100)\n",
    "pd.options.display.float_format = '{:.2f}'.format"
   ]
  },
  {
   "cell_type": "markdown",
   "id": "ce2f4755",
   "metadata": {},
   "source": [
    "# data_wrangling"
   ]
  },
  {
   "cell_type": "code",
   "execution_count": 42,
   "id": "3c5fed25",
   "metadata": {},
   "outputs": [],
   "source": [
    "df = pd.read_csv(r\"E:\\ecommerce_dataset\\data.csv\", encoding='unicode_escape',index_col=[0],parse_dates=[\"InvoiceDate\"])"
   ]
  },
  {
   "cell_type": "markdown",
   "id": "c0cd2a62",
   "metadata": {},
   "source": [
    "# data_inspection"
   ]
  },
  {
   "cell_type": "code",
   "execution_count": 43,
   "id": "dad9e037",
   "metadata": {
    "scrolled": true
   },
   "outputs": [
    {
     "data": {
      "text/html": [
       "<div>\n",
       "<style scoped>\n",
       "    .dataframe tbody tr th:only-of-type {\n",
       "        vertical-align: middle;\n",
       "    }\n",
       "\n",
       "    .dataframe tbody tr th {\n",
       "        vertical-align: top;\n",
       "    }\n",
       "\n",
       "    .dataframe thead th {\n",
       "        text-align: right;\n",
       "    }\n",
       "</style>\n",
       "<table border=\"1\" class=\"dataframe\">\n",
       "  <thead>\n",
       "    <tr style=\"text-align: right;\">\n",
       "      <th></th>\n",
       "      <th>StockCode</th>\n",
       "      <th>Description</th>\n",
       "      <th>Quantity</th>\n",
       "      <th>InvoiceDate</th>\n",
       "      <th>UnitPrice</th>\n",
       "      <th>CustomerID</th>\n",
       "      <th>Country</th>\n",
       "    </tr>\n",
       "    <tr>\n",
       "      <th>InvoiceNo</th>\n",
       "      <th></th>\n",
       "      <th></th>\n",
       "      <th></th>\n",
       "      <th></th>\n",
       "      <th></th>\n",
       "      <th></th>\n",
       "      <th></th>\n",
       "    </tr>\n",
       "  </thead>\n",
       "  <tbody>\n",
       "    <tr>\n",
       "      <th>536365</th>\n",
       "      <td>85123A</td>\n",
       "      <td>WHITE HANGING HEART T-LIGHT HOLDER</td>\n",
       "      <td>6</td>\n",
       "      <td>2010-12-01 08:26:00</td>\n",
       "      <td>2.55</td>\n",
       "      <td>17850.00</td>\n",
       "      <td>United Kingdom</td>\n",
       "    </tr>\n",
       "    <tr>\n",
       "      <th>536365</th>\n",
       "      <td>71053</td>\n",
       "      <td>WHITE METAL LANTERN</td>\n",
       "      <td>6</td>\n",
       "      <td>2010-12-01 08:26:00</td>\n",
       "      <td>3.39</td>\n",
       "      <td>17850.00</td>\n",
       "      <td>United Kingdom</td>\n",
       "    </tr>\n",
       "    <tr>\n",
       "      <th>536365</th>\n",
       "      <td>84406B</td>\n",
       "      <td>CREAM CUPID HEARTS COAT HANGER</td>\n",
       "      <td>8</td>\n",
       "      <td>2010-12-01 08:26:00</td>\n",
       "      <td>2.75</td>\n",
       "      <td>17850.00</td>\n",
       "      <td>United Kingdom</td>\n",
       "    </tr>\n",
       "    <tr>\n",
       "      <th>536365</th>\n",
       "      <td>84029G</td>\n",
       "      <td>KNITTED UNION FLAG HOT WATER BOTTLE</td>\n",
       "      <td>6</td>\n",
       "      <td>2010-12-01 08:26:00</td>\n",
       "      <td>3.39</td>\n",
       "      <td>17850.00</td>\n",
       "      <td>United Kingdom</td>\n",
       "    </tr>\n",
       "    <tr>\n",
       "      <th>536365</th>\n",
       "      <td>84029E</td>\n",
       "      <td>RED WOOLLY HOTTIE WHITE HEART.</td>\n",
       "      <td>6</td>\n",
       "      <td>2010-12-01 08:26:00</td>\n",
       "      <td>3.39</td>\n",
       "      <td>17850.00</td>\n",
       "      <td>United Kingdom</td>\n",
       "    </tr>\n",
       "    <tr>\n",
       "      <th>536365</th>\n",
       "      <td>22752</td>\n",
       "      <td>SET 7 BABUSHKA NESTING BOXES</td>\n",
       "      <td>2</td>\n",
       "      <td>2010-12-01 08:26:00</td>\n",
       "      <td>7.65</td>\n",
       "      <td>17850.00</td>\n",
       "      <td>United Kingdom</td>\n",
       "    </tr>\n",
       "    <tr>\n",
       "      <th>536365</th>\n",
       "      <td>21730</td>\n",
       "      <td>GLASS STAR FROSTED T-LIGHT HOLDER</td>\n",
       "      <td>6</td>\n",
       "      <td>2010-12-01 08:26:00</td>\n",
       "      <td>4.25</td>\n",
       "      <td>17850.00</td>\n",
       "      <td>United Kingdom</td>\n",
       "    </tr>\n",
       "    <tr>\n",
       "      <th>536366</th>\n",
       "      <td>22633</td>\n",
       "      <td>HAND WARMER UNION JACK</td>\n",
       "      <td>6</td>\n",
       "      <td>2010-12-01 08:28:00</td>\n",
       "      <td>1.85</td>\n",
       "      <td>17850.00</td>\n",
       "      <td>United Kingdom</td>\n",
       "    </tr>\n",
       "    <tr>\n",
       "      <th>536366</th>\n",
       "      <td>22632</td>\n",
       "      <td>HAND WARMER RED POLKA DOT</td>\n",
       "      <td>6</td>\n",
       "      <td>2010-12-01 08:28:00</td>\n",
       "      <td>1.85</td>\n",
       "      <td>17850.00</td>\n",
       "      <td>United Kingdom</td>\n",
       "    </tr>\n",
       "    <tr>\n",
       "      <th>536367</th>\n",
       "      <td>84879</td>\n",
       "      <td>ASSORTED COLOUR BIRD ORNAMENT</td>\n",
       "      <td>32</td>\n",
       "      <td>2010-12-01 08:34:00</td>\n",
       "      <td>1.69</td>\n",
       "      <td>13047.00</td>\n",
       "      <td>United Kingdom</td>\n",
       "    </tr>\n",
       "  </tbody>\n",
       "</table>\n",
       "</div>"
      ],
      "text/plain": [
       "          StockCode                          Description  Quantity         InvoiceDate  UnitPrice  \\\n",
       "InvoiceNo                                                                                           \n",
       "536365       85123A   WHITE HANGING HEART T-LIGHT HOLDER         6 2010-12-01 08:26:00       2.55   \n",
       "536365        71053                  WHITE METAL LANTERN         6 2010-12-01 08:26:00       3.39   \n",
       "536365       84406B       CREAM CUPID HEARTS COAT HANGER         8 2010-12-01 08:26:00       2.75   \n",
       "536365       84029G  KNITTED UNION FLAG HOT WATER BOTTLE         6 2010-12-01 08:26:00       3.39   \n",
       "536365       84029E       RED WOOLLY HOTTIE WHITE HEART.         6 2010-12-01 08:26:00       3.39   \n",
       "536365        22752         SET 7 BABUSHKA NESTING BOXES         2 2010-12-01 08:26:00       7.65   \n",
       "536365        21730    GLASS STAR FROSTED T-LIGHT HOLDER         6 2010-12-01 08:26:00       4.25   \n",
       "536366        22633               HAND WARMER UNION JACK         6 2010-12-01 08:28:00       1.85   \n",
       "536366        22632            HAND WARMER RED POLKA DOT         6 2010-12-01 08:28:00       1.85   \n",
       "536367        84879        ASSORTED COLOUR BIRD ORNAMENT        32 2010-12-01 08:34:00       1.69   \n",
       "\n",
       "           CustomerID         Country  \n",
       "InvoiceNo                              \n",
       "536365       17850.00  United Kingdom  \n",
       "536365       17850.00  United Kingdom  \n",
       "536365       17850.00  United Kingdom  \n",
       "536365       17850.00  United Kingdom  \n",
       "536365       17850.00  United Kingdom  \n",
       "536365       17850.00  United Kingdom  \n",
       "536365       17850.00  United Kingdom  \n",
       "536366       17850.00  United Kingdom  \n",
       "536366       17850.00  United Kingdom  \n",
       "536367       13047.00  United Kingdom  "
      ]
     },
     "execution_count": 43,
     "metadata": {},
     "output_type": "execute_result"
    }
   ],
   "source": [
    "df.head(10)"
   ]
  },
  {
   "cell_type": "code",
   "execution_count": 44,
   "id": "90f64a55",
   "metadata": {
    "scrolled": true
   },
   "outputs": [
    {
     "data": {
      "text/plain": [
       "Index(['StockCode', 'Description', 'Quantity', 'InvoiceDate', 'UnitPrice', 'CustomerID',\n",
       "       'Country'],\n",
       "      dtype='object')"
      ]
     },
     "execution_count": 44,
     "metadata": {},
     "output_type": "execute_result"
    }
   ],
   "source": [
    "df.columns"
   ]
  },
  {
   "cell_type": "code",
   "execution_count": 45,
   "id": "7a483d94",
   "metadata": {},
   "outputs": [],
   "source": [
    "df=df.rename(columns={'StockCode':\"Stock_Code\", 'InvoiceDate':\"Invoice_Date\", 'UnitPrice':\"Unit_Price\", 'CustomerID':\"Customer_ID\"})"
   ]
  },
  {
   "cell_type": "code",
   "execution_count": 46,
   "id": "ac3eb503",
   "metadata": {},
   "outputs": [
    {
     "data": {
      "text/html": [
       "<div>\n",
       "<style scoped>\n",
       "    .dataframe tbody tr th:only-of-type {\n",
       "        vertical-align: middle;\n",
       "    }\n",
       "\n",
       "    .dataframe tbody tr th {\n",
       "        vertical-align: top;\n",
       "    }\n",
       "\n",
       "    .dataframe thead th {\n",
       "        text-align: right;\n",
       "    }\n",
       "</style>\n",
       "<table border=\"1\" class=\"dataframe\">\n",
       "  <thead>\n",
       "    <tr style=\"text-align: right;\">\n",
       "      <th></th>\n",
       "      <th>Quantity</th>\n",
       "      <th>Unit_Price</th>\n",
       "      <th>Customer_ID</th>\n",
       "    </tr>\n",
       "  </thead>\n",
       "  <tbody>\n",
       "    <tr>\n",
       "      <th>count</th>\n",
       "      <td>541909.00</td>\n",
       "      <td>541909.00</td>\n",
       "      <td>406829.00</td>\n",
       "    </tr>\n",
       "    <tr>\n",
       "      <th>mean</th>\n",
       "      <td>9.55</td>\n",
       "      <td>4.61</td>\n",
       "      <td>15287.69</td>\n",
       "    </tr>\n",
       "    <tr>\n",
       "      <th>std</th>\n",
       "      <td>218.08</td>\n",
       "      <td>96.76</td>\n",
       "      <td>1713.60</td>\n",
       "    </tr>\n",
       "    <tr>\n",
       "      <th>min</th>\n",
       "      <td>-80995.00</td>\n",
       "      <td>-11062.06</td>\n",
       "      <td>12346.00</td>\n",
       "    </tr>\n",
       "    <tr>\n",
       "      <th>25%</th>\n",
       "      <td>1.00</td>\n",
       "      <td>1.25</td>\n",
       "      <td>13953.00</td>\n",
       "    </tr>\n",
       "    <tr>\n",
       "      <th>50%</th>\n",
       "      <td>3.00</td>\n",
       "      <td>2.08</td>\n",
       "      <td>15152.00</td>\n",
       "    </tr>\n",
       "    <tr>\n",
       "      <th>75%</th>\n",
       "      <td>10.00</td>\n",
       "      <td>4.13</td>\n",
       "      <td>16791.00</td>\n",
       "    </tr>\n",
       "    <tr>\n",
       "      <th>max</th>\n",
       "      <td>80995.00</td>\n",
       "      <td>38970.00</td>\n",
       "      <td>18287.00</td>\n",
       "    </tr>\n",
       "  </tbody>\n",
       "</table>\n",
       "</div>"
      ],
      "text/plain": [
       "       Quantity  Unit_Price  Customer_ID\n",
       "count 541909.00   541909.00    406829.00\n",
       "mean       9.55        4.61     15287.69\n",
       "std      218.08       96.76      1713.60\n",
       "min   -80995.00   -11062.06     12346.00\n",
       "25%        1.00        1.25     13953.00\n",
       "50%        3.00        2.08     15152.00\n",
       "75%       10.00        4.13     16791.00\n",
       "max    80995.00    38970.00     18287.00"
      ]
     },
     "execution_count": 46,
     "metadata": {},
     "output_type": "execute_result"
    }
   ],
   "source": [
    "df.describe()"
   ]
  },
  {
   "cell_type": "code",
   "execution_count": 47,
   "id": "4e506a7a",
   "metadata": {},
   "outputs": [],
   "source": [
    "df = df.astype({\"Customer_ID\": str})"
   ]
  },
  {
   "cell_type": "code",
   "execution_count": 48,
   "id": "691dfb33",
   "metadata": {
    "scrolled": true
   },
   "outputs": [
    {
     "name": "stdout",
     "output_type": "stream",
     "text": [
      "<class 'pandas.core.frame.DataFrame'>\n",
      "Index: 541909 entries, 536365 to 581587\n",
      "Data columns (total 7 columns):\n",
      " #   Column        Non-Null Count   Dtype         \n",
      "---  ------        --------------   -----         \n",
      " 0   Stock_Code    541909 non-null  object        \n",
      " 1   Description   540455 non-null  object        \n",
      " 2   Quantity      541909 non-null  int64         \n",
      " 3   Invoice_Date  541909 non-null  datetime64[ns]\n",
      " 4   Unit_Price    541909 non-null  float64       \n",
      " 5   Customer_ID   541909 non-null  object        \n",
      " 6   Country       541909 non-null  object        \n",
      "dtypes: datetime64[ns](1), float64(1), int64(1), object(4)\n",
      "memory usage: 33.1+ MB\n"
     ]
    }
   ],
   "source": [
    "df.info()"
   ]
  },
  {
   "cell_type": "code",
   "execution_count": 49,
   "id": "ca42497c",
   "metadata": {},
   "outputs": [],
   "source": [
    "df['day'] = df['Invoice_Date'].dt.day\n",
    "df['month'] = df['Invoice_Date'].dt.month\n",
    "df['year'] = df['Invoice_Date'].dt.year\n",
    "df['hour'] = df['Invoice_Date'].dt.hour"
   ]
  },
  {
   "cell_type": "code",
   "execution_count": 50,
   "id": "4832e039",
   "metadata": {},
   "outputs": [
    {
     "data": {
      "text/html": [
       "<div>\n",
       "<style scoped>\n",
       "    .dataframe tbody tr th:only-of-type {\n",
       "        vertical-align: middle;\n",
       "    }\n",
       "\n",
       "    .dataframe tbody tr th {\n",
       "        vertical-align: top;\n",
       "    }\n",
       "\n",
       "    .dataframe thead th {\n",
       "        text-align: right;\n",
       "    }\n",
       "</style>\n",
       "<table border=\"1\" class=\"dataframe\">\n",
       "  <thead>\n",
       "    <tr style=\"text-align: right;\">\n",
       "      <th></th>\n",
       "      <th>Stock_Code</th>\n",
       "      <th>Description</th>\n",
       "      <th>Quantity</th>\n",
       "      <th>Invoice_Date</th>\n",
       "      <th>Unit_Price</th>\n",
       "      <th>Customer_ID</th>\n",
       "      <th>Country</th>\n",
       "      <th>day</th>\n",
       "      <th>month</th>\n",
       "      <th>year</th>\n",
       "      <th>hour</th>\n",
       "    </tr>\n",
       "    <tr>\n",
       "      <th>InvoiceNo</th>\n",
       "      <th></th>\n",
       "      <th></th>\n",
       "      <th></th>\n",
       "      <th></th>\n",
       "      <th></th>\n",
       "      <th></th>\n",
       "      <th></th>\n",
       "      <th></th>\n",
       "      <th></th>\n",
       "      <th></th>\n",
       "      <th></th>\n",
       "    </tr>\n",
       "  </thead>\n",
       "  <tbody>\n",
       "    <tr>\n",
       "      <th>536365</th>\n",
       "      <td>85123A</td>\n",
       "      <td>WHITE HANGING HEART T-LIGHT HOLDER</td>\n",
       "      <td>6</td>\n",
       "      <td>2010-12-01 08:26:00</td>\n",
       "      <td>2.55</td>\n",
       "      <td>17850.0</td>\n",
       "      <td>United Kingdom</td>\n",
       "      <td>1</td>\n",
       "      <td>12</td>\n",
       "      <td>2010</td>\n",
       "      <td>8</td>\n",
       "    </tr>\n",
       "    <tr>\n",
       "      <th>536365</th>\n",
       "      <td>71053</td>\n",
       "      <td>WHITE METAL LANTERN</td>\n",
       "      <td>6</td>\n",
       "      <td>2010-12-01 08:26:00</td>\n",
       "      <td>3.39</td>\n",
       "      <td>17850.0</td>\n",
       "      <td>United Kingdom</td>\n",
       "      <td>1</td>\n",
       "      <td>12</td>\n",
       "      <td>2010</td>\n",
       "      <td>8</td>\n",
       "    </tr>\n",
       "    <tr>\n",
       "      <th>536365</th>\n",
       "      <td>84406B</td>\n",
       "      <td>CREAM CUPID HEARTS COAT HANGER</td>\n",
       "      <td>8</td>\n",
       "      <td>2010-12-01 08:26:00</td>\n",
       "      <td>2.75</td>\n",
       "      <td>17850.0</td>\n",
       "      <td>United Kingdom</td>\n",
       "      <td>1</td>\n",
       "      <td>12</td>\n",
       "      <td>2010</td>\n",
       "      <td>8</td>\n",
       "    </tr>\n",
       "    <tr>\n",
       "      <th>536365</th>\n",
       "      <td>84029G</td>\n",
       "      <td>KNITTED UNION FLAG HOT WATER BOTTLE</td>\n",
       "      <td>6</td>\n",
       "      <td>2010-12-01 08:26:00</td>\n",
       "      <td>3.39</td>\n",
       "      <td>17850.0</td>\n",
       "      <td>United Kingdom</td>\n",
       "      <td>1</td>\n",
       "      <td>12</td>\n",
       "      <td>2010</td>\n",
       "      <td>8</td>\n",
       "    </tr>\n",
       "    <tr>\n",
       "      <th>536365</th>\n",
       "      <td>84029E</td>\n",
       "      <td>RED WOOLLY HOTTIE WHITE HEART.</td>\n",
       "      <td>6</td>\n",
       "      <td>2010-12-01 08:26:00</td>\n",
       "      <td>3.39</td>\n",
       "      <td>17850.0</td>\n",
       "      <td>United Kingdom</td>\n",
       "      <td>1</td>\n",
       "      <td>12</td>\n",
       "      <td>2010</td>\n",
       "      <td>8</td>\n",
       "    </tr>\n",
       "    <tr>\n",
       "      <th>536365</th>\n",
       "      <td>22752</td>\n",
       "      <td>SET 7 BABUSHKA NESTING BOXES</td>\n",
       "      <td>2</td>\n",
       "      <td>2010-12-01 08:26:00</td>\n",
       "      <td>7.65</td>\n",
       "      <td>17850.0</td>\n",
       "      <td>United Kingdom</td>\n",
       "      <td>1</td>\n",
       "      <td>12</td>\n",
       "      <td>2010</td>\n",
       "      <td>8</td>\n",
       "    </tr>\n",
       "    <tr>\n",
       "      <th>536365</th>\n",
       "      <td>21730</td>\n",
       "      <td>GLASS STAR FROSTED T-LIGHT HOLDER</td>\n",
       "      <td>6</td>\n",
       "      <td>2010-12-01 08:26:00</td>\n",
       "      <td>4.25</td>\n",
       "      <td>17850.0</td>\n",
       "      <td>United Kingdom</td>\n",
       "      <td>1</td>\n",
       "      <td>12</td>\n",
       "      <td>2010</td>\n",
       "      <td>8</td>\n",
       "    </tr>\n",
       "    <tr>\n",
       "      <th>536366</th>\n",
       "      <td>22633</td>\n",
       "      <td>HAND WARMER UNION JACK</td>\n",
       "      <td>6</td>\n",
       "      <td>2010-12-01 08:28:00</td>\n",
       "      <td>1.85</td>\n",
       "      <td>17850.0</td>\n",
       "      <td>United Kingdom</td>\n",
       "      <td>1</td>\n",
       "      <td>12</td>\n",
       "      <td>2010</td>\n",
       "      <td>8</td>\n",
       "    </tr>\n",
       "    <tr>\n",
       "      <th>536366</th>\n",
       "      <td>22632</td>\n",
       "      <td>HAND WARMER RED POLKA DOT</td>\n",
       "      <td>6</td>\n",
       "      <td>2010-12-01 08:28:00</td>\n",
       "      <td>1.85</td>\n",
       "      <td>17850.0</td>\n",
       "      <td>United Kingdom</td>\n",
       "      <td>1</td>\n",
       "      <td>12</td>\n",
       "      <td>2010</td>\n",
       "      <td>8</td>\n",
       "    </tr>\n",
       "    <tr>\n",
       "      <th>536367</th>\n",
       "      <td>84879</td>\n",
       "      <td>ASSORTED COLOUR BIRD ORNAMENT</td>\n",
       "      <td>32</td>\n",
       "      <td>2010-12-01 08:34:00</td>\n",
       "      <td>1.69</td>\n",
       "      <td>13047.0</td>\n",
       "      <td>United Kingdom</td>\n",
       "      <td>1</td>\n",
       "      <td>12</td>\n",
       "      <td>2010</td>\n",
       "      <td>8</td>\n",
       "    </tr>\n",
       "    <tr>\n",
       "      <th>536367</th>\n",
       "      <td>22745</td>\n",
       "      <td>POPPY'S PLAYHOUSE BEDROOM</td>\n",
       "      <td>6</td>\n",
       "      <td>2010-12-01 08:34:00</td>\n",
       "      <td>2.10</td>\n",
       "      <td>13047.0</td>\n",
       "      <td>United Kingdom</td>\n",
       "      <td>1</td>\n",
       "      <td>12</td>\n",
       "      <td>2010</td>\n",
       "      <td>8</td>\n",
       "    </tr>\n",
       "    <tr>\n",
       "      <th>536367</th>\n",
       "      <td>22748</td>\n",
       "      <td>POPPY'S PLAYHOUSE KITCHEN</td>\n",
       "      <td>6</td>\n",
       "      <td>2010-12-01 08:34:00</td>\n",
       "      <td>2.10</td>\n",
       "      <td>13047.0</td>\n",
       "      <td>United Kingdom</td>\n",
       "      <td>1</td>\n",
       "      <td>12</td>\n",
       "      <td>2010</td>\n",
       "      <td>8</td>\n",
       "    </tr>\n",
       "    <tr>\n",
       "      <th>536367</th>\n",
       "      <td>22749</td>\n",
       "      <td>FELTCRAFT PRINCESS CHARLOTTE DOLL</td>\n",
       "      <td>8</td>\n",
       "      <td>2010-12-01 08:34:00</td>\n",
       "      <td>3.75</td>\n",
       "      <td>13047.0</td>\n",
       "      <td>United Kingdom</td>\n",
       "      <td>1</td>\n",
       "      <td>12</td>\n",
       "      <td>2010</td>\n",
       "      <td>8</td>\n",
       "    </tr>\n",
       "    <tr>\n",
       "      <th>536367</th>\n",
       "      <td>22310</td>\n",
       "      <td>IVORY KNITTED MUG COSY</td>\n",
       "      <td>6</td>\n",
       "      <td>2010-12-01 08:34:00</td>\n",
       "      <td>1.65</td>\n",
       "      <td>13047.0</td>\n",
       "      <td>United Kingdom</td>\n",
       "      <td>1</td>\n",
       "      <td>12</td>\n",
       "      <td>2010</td>\n",
       "      <td>8</td>\n",
       "    </tr>\n",
       "    <tr>\n",
       "      <th>536367</th>\n",
       "      <td>84969</td>\n",
       "      <td>BOX OF 6 ASSORTED COLOUR TEASPOONS</td>\n",
       "      <td>6</td>\n",
       "      <td>2010-12-01 08:34:00</td>\n",
       "      <td>4.25</td>\n",
       "      <td>13047.0</td>\n",
       "      <td>United Kingdom</td>\n",
       "      <td>1</td>\n",
       "      <td>12</td>\n",
       "      <td>2010</td>\n",
       "      <td>8</td>\n",
       "    </tr>\n",
       "    <tr>\n",
       "      <th>536367</th>\n",
       "      <td>22623</td>\n",
       "      <td>BOX OF VINTAGE JIGSAW BLOCKS</td>\n",
       "      <td>3</td>\n",
       "      <td>2010-12-01 08:34:00</td>\n",
       "      <td>4.95</td>\n",
       "      <td>13047.0</td>\n",
       "      <td>United Kingdom</td>\n",
       "      <td>1</td>\n",
       "      <td>12</td>\n",
       "      <td>2010</td>\n",
       "      <td>8</td>\n",
       "    </tr>\n",
       "    <tr>\n",
       "      <th>536367</th>\n",
       "      <td>22622</td>\n",
       "      <td>BOX OF VINTAGE ALPHABET BLOCKS</td>\n",
       "      <td>2</td>\n",
       "      <td>2010-12-01 08:34:00</td>\n",
       "      <td>9.95</td>\n",
       "      <td>13047.0</td>\n",
       "      <td>United Kingdom</td>\n",
       "      <td>1</td>\n",
       "      <td>12</td>\n",
       "      <td>2010</td>\n",
       "      <td>8</td>\n",
       "    </tr>\n",
       "    <tr>\n",
       "      <th>536367</th>\n",
       "      <td>21754</td>\n",
       "      <td>HOME BUILDING BLOCK WORD</td>\n",
       "      <td>3</td>\n",
       "      <td>2010-12-01 08:34:00</td>\n",
       "      <td>5.95</td>\n",
       "      <td>13047.0</td>\n",
       "      <td>United Kingdom</td>\n",
       "      <td>1</td>\n",
       "      <td>12</td>\n",
       "      <td>2010</td>\n",
       "      <td>8</td>\n",
       "    </tr>\n",
       "    <tr>\n",
       "      <th>536367</th>\n",
       "      <td>21755</td>\n",
       "      <td>LOVE BUILDING BLOCK WORD</td>\n",
       "      <td>3</td>\n",
       "      <td>2010-12-01 08:34:00</td>\n",
       "      <td>5.95</td>\n",
       "      <td>13047.0</td>\n",
       "      <td>United Kingdom</td>\n",
       "      <td>1</td>\n",
       "      <td>12</td>\n",
       "      <td>2010</td>\n",
       "      <td>8</td>\n",
       "    </tr>\n",
       "    <tr>\n",
       "      <th>536367</th>\n",
       "      <td>21777</td>\n",
       "      <td>RECIPE BOX WITH METAL HEART</td>\n",
       "      <td>4</td>\n",
       "      <td>2010-12-01 08:34:00</td>\n",
       "      <td>7.95</td>\n",
       "      <td>13047.0</td>\n",
       "      <td>United Kingdom</td>\n",
       "      <td>1</td>\n",
       "      <td>12</td>\n",
       "      <td>2010</td>\n",
       "      <td>8</td>\n",
       "    </tr>\n",
       "  </tbody>\n",
       "</table>\n",
       "</div>"
      ],
      "text/plain": [
       "          Stock_Code                          Description  Quantity        Invoice_Date  \\\n",
       "InvoiceNo                                                                                 \n",
       "536365        85123A   WHITE HANGING HEART T-LIGHT HOLDER         6 2010-12-01 08:26:00   \n",
       "536365         71053                  WHITE METAL LANTERN         6 2010-12-01 08:26:00   \n",
       "536365        84406B       CREAM CUPID HEARTS COAT HANGER         8 2010-12-01 08:26:00   \n",
       "536365        84029G  KNITTED UNION FLAG HOT WATER BOTTLE         6 2010-12-01 08:26:00   \n",
       "536365        84029E       RED WOOLLY HOTTIE WHITE HEART.         6 2010-12-01 08:26:00   \n",
       "536365         22752         SET 7 BABUSHKA NESTING BOXES         2 2010-12-01 08:26:00   \n",
       "536365         21730    GLASS STAR FROSTED T-LIGHT HOLDER         6 2010-12-01 08:26:00   \n",
       "536366         22633               HAND WARMER UNION JACK         6 2010-12-01 08:28:00   \n",
       "536366         22632            HAND WARMER RED POLKA DOT         6 2010-12-01 08:28:00   \n",
       "536367         84879        ASSORTED COLOUR BIRD ORNAMENT        32 2010-12-01 08:34:00   \n",
       "536367         22745           POPPY'S PLAYHOUSE BEDROOM          6 2010-12-01 08:34:00   \n",
       "536367         22748            POPPY'S PLAYHOUSE KITCHEN         6 2010-12-01 08:34:00   \n",
       "536367         22749    FELTCRAFT PRINCESS CHARLOTTE DOLL         8 2010-12-01 08:34:00   \n",
       "536367         22310              IVORY KNITTED MUG COSY          6 2010-12-01 08:34:00   \n",
       "536367         84969   BOX OF 6 ASSORTED COLOUR TEASPOONS         6 2010-12-01 08:34:00   \n",
       "536367         22623        BOX OF VINTAGE JIGSAW BLOCKS          3 2010-12-01 08:34:00   \n",
       "536367         22622       BOX OF VINTAGE ALPHABET BLOCKS         2 2010-12-01 08:34:00   \n",
       "536367         21754             HOME BUILDING BLOCK WORD         3 2010-12-01 08:34:00   \n",
       "536367         21755             LOVE BUILDING BLOCK WORD         3 2010-12-01 08:34:00   \n",
       "536367         21777          RECIPE BOX WITH METAL HEART         4 2010-12-01 08:34:00   \n",
       "\n",
       "           Unit_Price Customer_ID         Country  day  month  year  hour  \n",
       "InvoiceNo                                                                  \n",
       "536365           2.55     17850.0  United Kingdom    1     12  2010     8  \n",
       "536365           3.39     17850.0  United Kingdom    1     12  2010     8  \n",
       "536365           2.75     17850.0  United Kingdom    1     12  2010     8  \n",
       "536365           3.39     17850.0  United Kingdom    1     12  2010     8  \n",
       "536365           3.39     17850.0  United Kingdom    1     12  2010     8  \n",
       "536365           7.65     17850.0  United Kingdom    1     12  2010     8  \n",
       "536365           4.25     17850.0  United Kingdom    1     12  2010     8  \n",
       "536366           1.85     17850.0  United Kingdom    1     12  2010     8  \n",
       "536366           1.85     17850.0  United Kingdom    1     12  2010     8  \n",
       "536367           1.69     13047.0  United Kingdom    1     12  2010     8  \n",
       "536367           2.10     13047.0  United Kingdom    1     12  2010     8  \n",
       "536367           2.10     13047.0  United Kingdom    1     12  2010     8  \n",
       "536367           3.75     13047.0  United Kingdom    1     12  2010     8  \n",
       "536367           1.65     13047.0  United Kingdom    1     12  2010     8  \n",
       "536367           4.25     13047.0  United Kingdom    1     12  2010     8  \n",
       "536367           4.95     13047.0  United Kingdom    1     12  2010     8  \n",
       "536367           9.95     13047.0  United Kingdom    1     12  2010     8  \n",
       "536367           5.95     13047.0  United Kingdom    1     12  2010     8  \n",
       "536367           5.95     13047.0  United Kingdom    1     12  2010     8  \n",
       "536367           7.95     13047.0  United Kingdom    1     12  2010     8  "
      ]
     },
     "execution_count": 50,
     "metadata": {},
     "output_type": "execute_result"
    }
   ],
   "source": [
    "df.head(20)"
   ]
  },
  {
   "cell_type": "code",
   "execution_count": 51,
   "id": "78937cf3",
   "metadata": {},
   "outputs": [
    {
     "data": {
      "text/plain": [
       "Stock_Code         0\n",
       "Description     1454\n",
       "Quantity           0\n",
       "Invoice_Date       0\n",
       "Unit_Price         0\n",
       "Customer_ID        0\n",
       "Country            0\n",
       "day                0\n",
       "month              0\n",
       "year               0\n",
       "hour               0\n",
       "dtype: int64"
      ]
     },
     "execution_count": 51,
     "metadata": {},
     "output_type": "execute_result"
    }
   ],
   "source": [
    "df.isnull().sum(axis=0)"
   ]
  },
  {
   "cell_type": "markdown",
   "id": "dbba5d03",
   "metadata": {},
   "source": [
    "# dealing_with_duplicates"
   ]
  },
  {
   "cell_type": "markdown",
   "id": "5f71df8e",
   "metadata": {},
   "source": [
    "# inspect_duplicates and make a csv file for them "
   ]
  },
  {
   "cell_type": "code",
   "execution_count": 52,
   "id": "7ad928ba",
   "metadata": {},
   "outputs": [],
   "source": [
    "duplicates=df[df.duplicated(keep=False)]"
   ]
  },
  {
   "cell_type": "code",
   "execution_count": 53,
   "id": "fca3b264",
   "metadata": {},
   "outputs": [],
   "source": [
    "#duplicates.to_csv(\"C:/Users/20114/OneDrive/Documents/GitHub/E-Commerce_EDA/dplicates.csv\")"
   ]
  },
  {
   "cell_type": "code",
   "execution_count": 54,
   "id": "078bbfc2",
   "metadata": {},
   "outputs": [],
   "source": [
    "df.drop_duplicates(keep=\"first\",inplace=True)"
   ]
  },
  {
   "cell_type": "code",
   "execution_count": 55,
   "id": "ba255890",
   "metadata": {},
   "outputs": [
    {
     "data": {
      "text/plain": [
       "(536061, 11)"
      ]
     },
     "execution_count": 55,
     "metadata": {},
     "output_type": "execute_result"
    }
   ],
   "source": [
    "df.shape #check"
   ]
  },
  {
   "cell_type": "code",
   "execution_count": 56,
   "id": "3331ea77",
   "metadata": {
    "scrolled": true
   },
   "outputs": [
    {
     "data": {
      "text/html": [
       "<div>\n",
       "<style scoped>\n",
       "    .dataframe tbody tr th:only-of-type {\n",
       "        vertical-align: middle;\n",
       "    }\n",
       "\n",
       "    .dataframe tbody tr th {\n",
       "        vertical-align: top;\n",
       "    }\n",
       "\n",
       "    .dataframe thead th {\n",
       "        text-align: right;\n",
       "    }\n",
       "</style>\n",
       "<table border=\"1\" class=\"dataframe\">\n",
       "  <thead>\n",
       "    <tr style=\"text-align: right;\">\n",
       "      <th></th>\n",
       "      <th>Stock_Code</th>\n",
       "      <th>Description</th>\n",
       "      <th>Quantity</th>\n",
       "      <th>Invoice_Date</th>\n",
       "      <th>Unit_Price</th>\n",
       "      <th>Customer_ID</th>\n",
       "      <th>Country</th>\n",
       "      <th>day</th>\n",
       "      <th>month</th>\n",
       "      <th>year</th>\n",
       "      <th>hour</th>\n",
       "    </tr>\n",
       "    <tr>\n",
       "      <th>InvoiceNo</th>\n",
       "      <th></th>\n",
       "      <th></th>\n",
       "      <th></th>\n",
       "      <th></th>\n",
       "      <th></th>\n",
       "      <th></th>\n",
       "      <th></th>\n",
       "      <th></th>\n",
       "      <th></th>\n",
       "      <th></th>\n",
       "      <th></th>\n",
       "    </tr>\n",
       "  </thead>\n",
       "  <tbody>\n",
       "    <tr>\n",
       "      <th>536365</th>\n",
       "      <td>85123A</td>\n",
       "      <td>WHITE HANGING HEART T-LIGHT HOLDER</td>\n",
       "      <td>6</td>\n",
       "      <td>2010-12-01 08:26:00</td>\n",
       "      <td>2.55</td>\n",
       "      <td>17850.0</td>\n",
       "      <td>United Kingdom</td>\n",
       "      <td>1</td>\n",
       "      <td>12</td>\n",
       "      <td>2010</td>\n",
       "      <td>8</td>\n",
       "    </tr>\n",
       "    <tr>\n",
       "      <th>536365</th>\n",
       "      <td>71053</td>\n",
       "      <td>WHITE METAL LANTERN</td>\n",
       "      <td>6</td>\n",
       "      <td>2010-12-01 08:26:00</td>\n",
       "      <td>3.39</td>\n",
       "      <td>17850.0</td>\n",
       "      <td>United Kingdom</td>\n",
       "      <td>1</td>\n",
       "      <td>12</td>\n",
       "      <td>2010</td>\n",
       "      <td>8</td>\n",
       "    </tr>\n",
       "    <tr>\n",
       "      <th>536365</th>\n",
       "      <td>84406B</td>\n",
       "      <td>CREAM CUPID HEARTS COAT HANGER</td>\n",
       "      <td>8</td>\n",
       "      <td>2010-12-01 08:26:00</td>\n",
       "      <td>2.75</td>\n",
       "      <td>17850.0</td>\n",
       "      <td>United Kingdom</td>\n",
       "      <td>1</td>\n",
       "      <td>12</td>\n",
       "      <td>2010</td>\n",
       "      <td>8</td>\n",
       "    </tr>\n",
       "    <tr>\n",
       "      <th>536365</th>\n",
       "      <td>84029G</td>\n",
       "      <td>KNITTED UNION FLAG HOT WATER BOTTLE</td>\n",
       "      <td>6</td>\n",
       "      <td>2010-12-01 08:26:00</td>\n",
       "      <td>3.39</td>\n",
       "      <td>17850.0</td>\n",
       "      <td>United Kingdom</td>\n",
       "      <td>1</td>\n",
       "      <td>12</td>\n",
       "      <td>2010</td>\n",
       "      <td>8</td>\n",
       "    </tr>\n",
       "    <tr>\n",
       "      <th>536365</th>\n",
       "      <td>84029E</td>\n",
       "      <td>RED WOOLLY HOTTIE WHITE HEART.</td>\n",
       "      <td>6</td>\n",
       "      <td>2010-12-01 08:26:00</td>\n",
       "      <td>3.39</td>\n",
       "      <td>17850.0</td>\n",
       "      <td>United Kingdom</td>\n",
       "      <td>1</td>\n",
       "      <td>12</td>\n",
       "      <td>2010</td>\n",
       "      <td>8</td>\n",
       "    </tr>\n",
       "  </tbody>\n",
       "</table>\n",
       "</div>"
      ],
      "text/plain": [
       "          Stock_Code                          Description  Quantity        Invoice_Date  \\\n",
       "InvoiceNo                                                                                 \n",
       "536365        85123A   WHITE HANGING HEART T-LIGHT HOLDER         6 2010-12-01 08:26:00   \n",
       "536365         71053                  WHITE METAL LANTERN         6 2010-12-01 08:26:00   \n",
       "536365        84406B       CREAM CUPID HEARTS COAT HANGER         8 2010-12-01 08:26:00   \n",
       "536365        84029G  KNITTED UNION FLAG HOT WATER BOTTLE         6 2010-12-01 08:26:00   \n",
       "536365        84029E       RED WOOLLY HOTTIE WHITE HEART.         6 2010-12-01 08:26:00   \n",
       "\n",
       "           Unit_Price Customer_ID         Country  day  month  year  hour  \n",
       "InvoiceNo                                                                  \n",
       "536365           2.55     17850.0  United Kingdom    1     12  2010     8  \n",
       "536365           3.39     17850.0  United Kingdom    1     12  2010     8  \n",
       "536365           2.75     17850.0  United Kingdom    1     12  2010     8  \n",
       "536365           3.39     17850.0  United Kingdom    1     12  2010     8  \n",
       "536365           3.39     17850.0  United Kingdom    1     12  2010     8  "
      ]
     },
     "execution_count": 56,
     "metadata": {},
     "output_type": "execute_result"
    }
   ],
   "source": [
    "df.head()"
   ]
  },
  {
   "cell_type": "code",
   "execution_count": 57,
   "id": "87ed8aa4",
   "metadata": {},
   "outputs": [
    {
     "ename": "KeyError",
     "evalue": "'CustomerID'",
     "output_type": "error",
     "traceback": [
      "\u001b[1;31m---------------------------------------------------------------------------\u001b[0m",
      "\u001b[1;31mKeyError\u001b[0m                                  Traceback (most recent call last)",
      "\u001b[1;32m~\\anaconda3\\lib\\site-packages\\pandas\\core\\indexes\\base.py\u001b[0m in \u001b[0;36mget_loc\u001b[1;34m(self, key, method, tolerance)\u001b[0m\n\u001b[0;32m   3360\u001b[0m             \u001b[1;32mtry\u001b[0m\u001b[1;33m:\u001b[0m\u001b[1;33m\u001b[0m\u001b[1;33m\u001b[0m\u001b[0m\n\u001b[1;32m-> 3361\u001b[1;33m                 \u001b[1;32mreturn\u001b[0m \u001b[0mself\u001b[0m\u001b[1;33m.\u001b[0m\u001b[0m_engine\u001b[0m\u001b[1;33m.\u001b[0m\u001b[0mget_loc\u001b[0m\u001b[1;33m(\u001b[0m\u001b[0mcasted_key\u001b[0m\u001b[1;33m)\u001b[0m\u001b[1;33m\u001b[0m\u001b[1;33m\u001b[0m\u001b[0m\n\u001b[0m\u001b[0;32m   3362\u001b[0m             \u001b[1;32mexcept\u001b[0m \u001b[0mKeyError\u001b[0m \u001b[1;32mas\u001b[0m \u001b[0merr\u001b[0m\u001b[1;33m:\u001b[0m\u001b[1;33m\u001b[0m\u001b[1;33m\u001b[0m\u001b[0m\n",
      "\u001b[1;32m~\\anaconda3\\lib\\site-packages\\pandas\\_libs\\index.pyx\u001b[0m in \u001b[0;36mpandas._libs.index.IndexEngine.get_loc\u001b[1;34m()\u001b[0m\n",
      "\u001b[1;32m~\\anaconda3\\lib\\site-packages\\pandas\\_libs\\index.pyx\u001b[0m in \u001b[0;36mpandas._libs.index.IndexEngine.get_loc\u001b[1;34m()\u001b[0m\n",
      "\u001b[1;32mpandas\\_libs\\hashtable_class_helper.pxi\u001b[0m in \u001b[0;36mpandas._libs.hashtable.PyObjectHashTable.get_item\u001b[1;34m()\u001b[0m\n",
      "\u001b[1;32mpandas\\_libs\\hashtable_class_helper.pxi\u001b[0m in \u001b[0;36mpandas._libs.hashtable.PyObjectHashTable.get_item\u001b[1;34m()\u001b[0m\n",
      "\u001b[1;31mKeyError\u001b[0m: 'CustomerID'",
      "\nThe above exception was the direct cause of the following exception:\n",
      "\u001b[1;31mKeyError\u001b[0m                                  Traceback (most recent call last)",
      "\u001b[1;32m~\\AppData\\Local\\Temp/ipykernel_2572/586088749.py\u001b[0m in \u001b[0;36m<module>\u001b[1;34m\u001b[0m\n\u001b[1;32m----> 1\u001b[1;33m \u001b[0mdf\u001b[0m\u001b[1;33m[\u001b[0m\u001b[0mdf\u001b[0m\u001b[1;33m[\u001b[0m\u001b[1;34m\"CustomerID\"\u001b[0m\u001b[1;33m]\u001b[0m\u001b[1;33m.\u001b[0m\u001b[0misnull\u001b[0m\u001b[1;33m(\u001b[0m\u001b[1;33m)\u001b[0m\u001b[1;33m]\u001b[0m\u001b[1;33m\u001b[0m\u001b[1;33m\u001b[0m\u001b[0m\n\u001b[0m",
      "\u001b[1;32m~\\anaconda3\\lib\\site-packages\\pandas\\core\\frame.py\u001b[0m in \u001b[0;36m__getitem__\u001b[1;34m(self, key)\u001b[0m\n\u001b[0;32m   3456\u001b[0m             \u001b[1;32mif\u001b[0m \u001b[0mself\u001b[0m\u001b[1;33m.\u001b[0m\u001b[0mcolumns\u001b[0m\u001b[1;33m.\u001b[0m\u001b[0mnlevels\u001b[0m \u001b[1;33m>\u001b[0m \u001b[1;36m1\u001b[0m\u001b[1;33m:\u001b[0m\u001b[1;33m\u001b[0m\u001b[1;33m\u001b[0m\u001b[0m\n\u001b[0;32m   3457\u001b[0m                 \u001b[1;32mreturn\u001b[0m \u001b[0mself\u001b[0m\u001b[1;33m.\u001b[0m\u001b[0m_getitem_multilevel\u001b[0m\u001b[1;33m(\u001b[0m\u001b[0mkey\u001b[0m\u001b[1;33m)\u001b[0m\u001b[1;33m\u001b[0m\u001b[1;33m\u001b[0m\u001b[0m\n\u001b[1;32m-> 3458\u001b[1;33m             \u001b[0mindexer\u001b[0m \u001b[1;33m=\u001b[0m \u001b[0mself\u001b[0m\u001b[1;33m.\u001b[0m\u001b[0mcolumns\u001b[0m\u001b[1;33m.\u001b[0m\u001b[0mget_loc\u001b[0m\u001b[1;33m(\u001b[0m\u001b[0mkey\u001b[0m\u001b[1;33m)\u001b[0m\u001b[1;33m\u001b[0m\u001b[1;33m\u001b[0m\u001b[0m\n\u001b[0m\u001b[0;32m   3459\u001b[0m             \u001b[1;32mif\u001b[0m \u001b[0mis_integer\u001b[0m\u001b[1;33m(\u001b[0m\u001b[0mindexer\u001b[0m\u001b[1;33m)\u001b[0m\u001b[1;33m:\u001b[0m\u001b[1;33m\u001b[0m\u001b[1;33m\u001b[0m\u001b[0m\n\u001b[0;32m   3460\u001b[0m                 \u001b[0mindexer\u001b[0m \u001b[1;33m=\u001b[0m \u001b[1;33m[\u001b[0m\u001b[0mindexer\u001b[0m\u001b[1;33m]\u001b[0m\u001b[1;33m\u001b[0m\u001b[1;33m\u001b[0m\u001b[0m\n",
      "\u001b[1;32m~\\anaconda3\\lib\\site-packages\\pandas\\core\\indexes\\base.py\u001b[0m in \u001b[0;36mget_loc\u001b[1;34m(self, key, method, tolerance)\u001b[0m\n\u001b[0;32m   3361\u001b[0m                 \u001b[1;32mreturn\u001b[0m \u001b[0mself\u001b[0m\u001b[1;33m.\u001b[0m\u001b[0m_engine\u001b[0m\u001b[1;33m.\u001b[0m\u001b[0mget_loc\u001b[0m\u001b[1;33m(\u001b[0m\u001b[0mcasted_key\u001b[0m\u001b[1;33m)\u001b[0m\u001b[1;33m\u001b[0m\u001b[1;33m\u001b[0m\u001b[0m\n\u001b[0;32m   3362\u001b[0m             \u001b[1;32mexcept\u001b[0m \u001b[0mKeyError\u001b[0m \u001b[1;32mas\u001b[0m \u001b[0merr\u001b[0m\u001b[1;33m:\u001b[0m\u001b[1;33m\u001b[0m\u001b[1;33m\u001b[0m\u001b[0m\n\u001b[1;32m-> 3363\u001b[1;33m                 \u001b[1;32mraise\u001b[0m \u001b[0mKeyError\u001b[0m\u001b[1;33m(\u001b[0m\u001b[0mkey\u001b[0m\u001b[1;33m)\u001b[0m \u001b[1;32mfrom\u001b[0m \u001b[0merr\u001b[0m\u001b[1;33m\u001b[0m\u001b[1;33m\u001b[0m\u001b[0m\n\u001b[0m\u001b[0;32m   3364\u001b[0m \u001b[1;33m\u001b[0m\u001b[0m\n\u001b[0;32m   3365\u001b[0m         \u001b[1;32mif\u001b[0m \u001b[0mis_scalar\u001b[0m\u001b[1;33m(\u001b[0m\u001b[0mkey\u001b[0m\u001b[1;33m)\u001b[0m \u001b[1;32mand\u001b[0m \u001b[0misna\u001b[0m\u001b[1;33m(\u001b[0m\u001b[0mkey\u001b[0m\u001b[1;33m)\u001b[0m \u001b[1;32mand\u001b[0m \u001b[1;32mnot\u001b[0m \u001b[0mself\u001b[0m\u001b[1;33m.\u001b[0m\u001b[0mhasnans\u001b[0m\u001b[1;33m:\u001b[0m\u001b[1;33m\u001b[0m\u001b[1;33m\u001b[0m\u001b[0m\n",
      "\u001b[1;31mKeyError\u001b[0m: 'CustomerID'"
     ]
    }
   ],
   "source": [
    "df[df[\"CustomerID\"].isnull()] "
   ]
  },
  {
   "cell_type": "markdown",
   "id": "c7c4f9a4",
   "metadata": {},
   "source": [
    "# lets see the outliers before analysis"
   ]
  },
  {
   "cell_type": "code",
   "execution_count": null,
   "id": "80341510",
   "metadata": {},
   "outputs": [],
   "source": [
    "import seaborn as sns\n",
    "import numpy as np"
   ]
  },
  {
   "cell_type": "markdown",
   "id": "80aa6c5a",
   "metadata": {},
   "source": [
    "# anlyzing outliers"
   ]
  },
  {
   "cell_type": "markdown",
   "id": "8321e1cf",
   "metadata": {},
   "source": [
    "## 1- quantity_outliers"
   ]
  },
  {
   "cell_type": "code",
   "execution_count": null,
   "id": "68fa5d0e",
   "metadata": {
    "scrolled": false
   },
   "outputs": [],
   "source": [
    "plt.figure(figsize = (6,12))\n",
    "df.boxplot(\"Quantity\")\n",
    "plt.show()"
   ]
  },
  {
   "cell_type": "code",
   "execution_count": null,
   "id": "05e87a7d",
   "metadata": {},
   "outputs": [],
   "source": [
    "quantity_outliers=df[(df[\"Quantity\"]>20000) | (df[\"Quantity\"]<0)] # save it to csv file and a new data frame to analyze it separately"
   ]
  },
  {
   "cell_type": "code",
   "execution_count": null,
   "id": "288216d2",
   "metadata": {},
   "outputs": [],
   "source": [
    "len(quantity_outliers)"
   ]
  },
  {
   "cell_type": "code",
   "execution_count": null,
   "id": "df080348",
   "metadata": {},
   "outputs": [],
   "source": [
    "#quantity_outliers.to_csv(\"C:/Users/20114/OneDrive/Documents/GitHub/E-Commerce_EDA/quantity_outliers.csv\")"
   ]
  },
  {
   "cell_type": "code",
   "execution_count": null,
   "id": "01bd912b",
   "metadata": {},
   "outputs": [],
   "source": [
    "quantity_outliers.head(20)"
   ]
  },
  {
   "cell_type": "code",
   "execution_count": null,
   "id": "a52d894c",
   "metadata": {},
   "outputs": [],
   "source": [
    "quantity_outliers[\"CustomerID\"].value_counts() # customers and their outliers"
   ]
  },
  {
   "cell_type": "code",
   "execution_count": null,
   "id": "bec124b1",
   "metadata": {},
   "outputs": [],
   "source": [
    "quantity_outliers[\"StockCode\"].value_counts() # products and their outliers"
   ]
  },
  {
   "cell_type": "code",
   "execution_count": null,
   "id": "352f6efc",
   "metadata": {},
   "outputs": [],
   "source": [
    "quantity_outliers.loc[quantity_outliers.Quantity > 10000] # its ok (high amount order)"
   ]
  },
  {
   "cell_type": "markdown",
   "id": "5970b918",
   "metadata": {},
   "source": [
    "## 2- unitprice_outliers"
   ]
  },
  {
   "cell_type": "code",
   "execution_count": null,
   "id": "4523a5f3",
   "metadata": {},
   "outputs": [],
   "source": [
    "plt.figure(figsize = (6,12))\n",
    "df.boxplot(\"UnitPrice\")\n",
    "plt.show()"
   ]
  },
  {
   "cell_type": "code",
   "execution_count": null,
   "id": "f9447916",
   "metadata": {},
   "outputs": [],
   "source": [
    "unitprice_outliers=df[(df[\"UnitPrice\"]>10000) | (df[\"UnitPrice\"]<0)] # save it to csv file and a new data frame to analyze it separately"
   ]
  },
  {
   "cell_type": "code",
   "execution_count": null,
   "id": "2d388672",
   "metadata": {},
   "outputs": [],
   "source": [
    " len(unitprice_outliers)"
   ]
  },
  {
   "cell_type": "code",
   "execution_count": null,
   "id": "4e2bacdb",
   "metadata": {},
   "outputs": [],
   "source": [
    "#unitprice_outliers.to_csv(\"C:/Users/20114/OneDrive/Documents/GitHub/E-Commerce_EDA/unitprice_outliers.csv\")"
   ]
  },
  {
   "cell_type": "code",
   "execution_count": null,
   "id": "97ae8f1e",
   "metadata": {},
   "outputs": [],
   "source": [
    "unitprice_outliers.head(20)"
   ]
  },
  {
   "cell_type": "code",
   "execution_count": null,
   "id": "64ba93ee",
   "metadata": {
    "scrolled": true
   },
   "outputs": [],
   "source": [
    "unitprice_outliers.loc[(unitprice_outliers.UnitPrice < 0)|(unitprice_outliers.UnitPrice > 10000)] # its ok (bad debt & fees adjustment) i will analyze it "
   ]
  },
  {
   "cell_type": "code",
   "execution_count": null,
   "id": "04eff073",
   "metadata": {},
   "outputs": [],
   "source": [
    "unit_price_zero = df[(df[\"UnitPrice\"]==0)] "
   ]
  },
  {
   "cell_type": "code",
   "execution_count": null,
   "id": "f9c58ef7",
   "metadata": {},
   "outputs": [],
   "source": [
    "#unit_price_zero.to_csv(\"C:/Users/20114/OneDrive/Documents/GitHub/E-Commerce_EDA/unit_price_zero.csv\") # getting unit prices = 0"
   ]
  },
  {
   "cell_type": "markdown",
   "id": "0c95b876",
   "metadata": {},
   "source": [
    "# creating clean dataframe"
   ]
  },
  {
   "cell_type": "markdown",
   "id": "f2d958b8",
   "metadata": {},
   "source": [
    "### firstly concatenate all dirty data together"
   ]
  },
  {
   "cell_type": "code",
   "execution_count": null,
   "id": "cc4d1feb",
   "metadata": {},
   "outputs": [],
   "source": [
    "dirty = df.index[(df.UnitPrice<=0)|(df.Quantity<=0)]"
   ]
  },
  {
   "cell_type": "code",
   "execution_count": null,
   "id": "0fa2c414",
   "metadata": {},
   "outputs": [],
   "source": [
    "df.head(10)"
   ]
  },
  {
   "cell_type": "code",
   "execution_count": null,
   "id": "df982650",
   "metadata": {},
   "outputs": [],
   "source": [
    "clean=df.drop(dirty) # we removed unnecessary data in order to make true insights (assume they are truly dirty)"
   ]
  },
  {
   "cell_type": "code",
   "execution_count": null,
   "id": "b6548f42",
   "metadata": {},
   "outputs": [],
   "source": [
    "clean[\"Revenue\"]=clean[\"Quantity\"]*clean[\"UnitPrice\"] # make anew column with revenue "
   ]
  },
  {
   "cell_type": "code",
   "execution_count": null,
   "id": "6af3a766",
   "metadata": {},
   "outputs": [],
   "source": [
    "clean.head()"
   ]
  },
  {
   "cell_type": "code",
   "execution_count": null,
   "id": "eb9df125",
   "metadata": {},
   "outputs": [],
   "source": [
    "clean.describe()"
   ]
  },
  {
   "cell_type": "markdown",
   "id": "ad52321b",
   "metadata": {},
   "source": [
    "## lets make some insights"
   ]
  },
  {
   "cell_type": "markdown",
   "id": "ac97dbe9",
   "metadata": {},
   "source": [
    "### what are the top revenue & sales countries"
   ]
  },
  {
   "cell_type": "code",
   "execution_count": null,
   "id": "f34c3ab3",
   "metadata": {
    "scrolled": true
   },
   "outputs": [],
   "source": [
    "clean.groupby(\"Country\")[[\"Quantity\",\"Revenue\"]].sum().sort_values(by=[\"Revenue\",\"Quantity\"],ascending=False)"
   ]
  },
  {
   "cell_type": "code",
   "execution_count": null,
   "id": "c41f1557",
   "metadata": {},
   "outputs": [],
   "source": [
    "hours = [hour for hour , clean in clean.groupby(\"hour\")]\n",
    "hours2=range(1,25)\n",
    "plt.figure(figsize=(15,10))\n",
    "plt.plot(hours,clean.groupby(\"hour\")[\"Country\"].count())\n",
    "plt.xticks(hours2)\n",
    "plt.title(\"how many orders for each hour in the day\")\n",
    "plt.xlabel(\"order hours\")\n",
    "plt.ylabel(\" count of orders\")\n",
    "plt.grid(axis=\"y\")\n",
    "plt.show()"
   ]
  },
  {
   "cell_type": "code",
   "execution_count": null,
   "id": "e9748661",
   "metadata": {},
   "outputs": [],
   "source": [
    "days = [day for day , clean in clean.groupby(\"day\")]\n",
    "\n",
    "plt.figure(figsize=(15,10))\n",
    "plt.plot(days,clean.groupby(\"day\")[\"Country\"].count())\n",
    "plt.xticks(days)\n",
    "plt.xlabel(\"order days\")\n",
    "plt.ylabel(\" count of orders\")\n",
    "plt.title(\"how many orders for each day in the month\")\n",
    "plt.grid(axis=\"y\")\n",
    "plt.show()"
   ]
  },
  {
   "cell_type": "code",
   "execution_count": null,
   "id": "babefefa",
   "metadata": {},
   "outputs": [],
   "source": [
    "clean.groupby([\"Description\",\"StockCode\"])[[\"Quantity\"]].sum().nlargest(40,\"Quantity\")"
   ]
  },
  {
   "cell_type": "code",
   "execution_count": null,
   "id": "756c6544",
   "metadata": {},
   "outputs": [],
   "source": [
    "clean.groupby([\"Description\",\"StockCode\"])[[\"Revenue\"]].sum().nlargest(40,\"Revenue\")"
   ]
  },
  {
   "cell_type": "code",
   "execution_count": null,
   "id": "c35c64d0",
   "metadata": {},
   "outputs": [],
   "source": [
    "clean.groupby([\"Description\",\"StockCode\"])[[\"Revenue\",\"Quantity\"]].sum().nsmallest(20,\"Revenue\")"
   ]
  },
  {
   "cell_type": "code",
   "execution_count": null,
   "id": "bf8d20be",
   "metadata": {},
   "outputs": [],
   "source": [
    "clean.groupby([\"CustomerID\"])[[\"Quantity\"]].sum().nlargest(40,\"Quantity\")"
   ]
  },
  {
   "cell_type": "code",
   "execution_count": null,
   "id": "ffa7554c",
   "metadata": {},
   "outputs": [],
   "source": [
    "clean.groupby([\"CustomerID\"])[[\"Revenue\"]].sum().nlargest(40,\"Revenue\")"
   ]
  },
  {
   "cell_type": "code",
   "execution_count": null,
   "id": "052e75db",
   "metadata": {},
   "outputs": [],
   "source": []
  }
 ],
 "metadata": {
  "kernelspec": {
   "display_name": "Python 3 (ipykernel)",
   "language": "python",
   "name": "python3"
  },
  "language_info": {
   "codemirror_mode": {
    "name": "ipython",
    "version": 3
   },
   "file_extension": ".py",
   "mimetype": "text/x-python",
   "name": "python",
   "nbconvert_exporter": "python",
   "pygments_lexer": "ipython3",
   "version": "3.9.7"
  }
 },
 "nbformat": 4,
 "nbformat_minor": 5
}
