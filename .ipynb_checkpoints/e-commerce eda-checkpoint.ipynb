{
 "cells": [
  {
   "cell_type": "code",
   "execution_count": 1,
   "id": "5e5b75c7",
   "metadata": {},
   "outputs": [],
   "source": [
    "# preface\n",
    "#In this project i will analyze the data of e-commerce crm analytics merchant such as Amazon \n",
    "#here are the pre-project context:-\n",
    "   # 1- data set is about e-commerce crm analytics \n",
    "   # 2- type of analysis used is (descreptive/diagnostic)\n",
    "   # 3- what are the questions about the project ??\n",
    "    #  (what are the most sold products\n",
    "     # , from which products are the most revenue \n",
    "      #, what are the most countries purchased from us  \n",
    "      #, from which country are the most revenue\n",
    "      #, what is the ordering months trend\n",
    "      #, what is the ordering hours trend,..etc)\n",
    "      #here are the steps i made in this project\n",
    "# i got the dataset from kaggle (https://www.kaggle.com/code/sercanyesiloz/crm-analytics/input)\n",
    "# used pandas for data manipulation and cleaning ( discussed in the code )\n",
    "# finally get the insights in a cummulative report\n",
    "# the data set meta data are :-\n",
    "#1- file size +44 mbyte\n",
    "#2- 8 columns , 541909 rows\n",
    "#3- data ingeneral expressing the product(stock,price) , country of ordering , dates , customers_id\n"
   ]
  },
  {
   "cell_type": "markdown",
   "id": "65a86d4c",
   "metadata": {},
   "source": [
    "# importing_libraries"
   ]
  },
  {
   "cell_type": "code",
   "execution_count": 2,
   "id": "59ac7cb0",
   "metadata": {},
   "outputs": [],
   "source": [
    "import pandas as pd\n",
    "import matplotlib.pyplot as plt\n",
    "import seaborn as sns\n",
    "import numpy as np\n",
    "pd.set_option('display.width', 100)\n",
    "pd.set_option('display.max_columns', 100)\n",
    "pd.options.display.float_format = '{:.2f}'.format"
   ]
  },
  {
   "cell_type": "markdown",
   "id": "ce2f4755",
   "metadata": {},
   "source": [
    "# data_wrangling"
   ]
  },
  {
   "cell_type": "code",
   "execution_count": 3,
   "id": "3c5fed25",
   "metadata": {},
   "outputs": [],
   "source": [
    "df = pd.read_csv(r\"E:\\ecommerce_dataset\\data.csv\", encoding='unicode_escape',index_col=[0],parse_dates=[\"InvoiceDate\"]) # on premises"
   ]
  },
  {
   "cell_type": "markdown",
   "id": "c0cd2a62",
   "metadata": {},
   "source": [
    "# data_inspection"
   ]
  },
  {
   "cell_type": "code",
   "execution_count": 4,
   "id": "5a519b0e",
   "metadata": {},
   "outputs": [
    {
     "data": {
      "text/plain": [
       "(541909, 7)"
      ]
     },
     "execution_count": 4,
     "metadata": {},
     "output_type": "execute_result"
    }
   ],
   "source": [
    "df.shape"
   ]
  },
  {
   "cell_type": "code",
   "execution_count": 5,
   "id": "dad9e037",
   "metadata": {
    "scrolled": true
   },
   "outputs": [
    {
     "data": {
      "text/html": [
       "<div>\n",
       "<style scoped>\n",
       "    .dataframe tbody tr th:only-of-type {\n",
       "        vertical-align: middle;\n",
       "    }\n",
       "\n",
       "    .dataframe tbody tr th {\n",
       "        vertical-align: top;\n",
       "    }\n",
       "\n",
       "    .dataframe thead th {\n",
       "        text-align: right;\n",
       "    }\n",
       "</style>\n",
       "<table border=\"1\" class=\"dataframe\">\n",
       "  <thead>\n",
       "    <tr style=\"text-align: right;\">\n",
       "      <th></th>\n",
       "      <th>StockCode</th>\n",
       "      <th>Description</th>\n",
       "      <th>Quantity</th>\n",
       "      <th>InvoiceDate</th>\n",
       "      <th>UnitPrice</th>\n",
       "      <th>CustomerID</th>\n",
       "      <th>Country</th>\n",
       "    </tr>\n",
       "    <tr>\n",
       "      <th>InvoiceNo</th>\n",
       "      <th></th>\n",
       "      <th></th>\n",
       "      <th></th>\n",
       "      <th></th>\n",
       "      <th></th>\n",
       "      <th></th>\n",
       "      <th></th>\n",
       "    </tr>\n",
       "  </thead>\n",
       "  <tbody>\n",
       "    <tr>\n",
       "      <th>536365</th>\n",
       "      <td>85123A</td>\n",
       "      <td>WHITE HANGING HEART T-LIGHT HOLDER</td>\n",
       "      <td>6</td>\n",
       "      <td>2010-12-01 08:26:00</td>\n",
       "      <td>2.55</td>\n",
       "      <td>17850.00</td>\n",
       "      <td>United Kingdom</td>\n",
       "    </tr>\n",
       "    <tr>\n",
       "      <th>536365</th>\n",
       "      <td>71053</td>\n",
       "      <td>WHITE METAL LANTERN</td>\n",
       "      <td>6</td>\n",
       "      <td>2010-12-01 08:26:00</td>\n",
       "      <td>3.39</td>\n",
       "      <td>17850.00</td>\n",
       "      <td>United Kingdom</td>\n",
       "    </tr>\n",
       "    <tr>\n",
       "      <th>536365</th>\n",
       "      <td>84406B</td>\n",
       "      <td>CREAM CUPID HEARTS COAT HANGER</td>\n",
       "      <td>8</td>\n",
       "      <td>2010-12-01 08:26:00</td>\n",
       "      <td>2.75</td>\n",
       "      <td>17850.00</td>\n",
       "      <td>United Kingdom</td>\n",
       "    </tr>\n",
       "    <tr>\n",
       "      <th>536365</th>\n",
       "      <td>84029G</td>\n",
       "      <td>KNITTED UNION FLAG HOT WATER BOTTLE</td>\n",
       "      <td>6</td>\n",
       "      <td>2010-12-01 08:26:00</td>\n",
       "      <td>3.39</td>\n",
       "      <td>17850.00</td>\n",
       "      <td>United Kingdom</td>\n",
       "    </tr>\n",
       "    <tr>\n",
       "      <th>536365</th>\n",
       "      <td>84029E</td>\n",
       "      <td>RED WOOLLY HOTTIE WHITE HEART.</td>\n",
       "      <td>6</td>\n",
       "      <td>2010-12-01 08:26:00</td>\n",
       "      <td>3.39</td>\n",
       "      <td>17850.00</td>\n",
       "      <td>United Kingdom</td>\n",
       "    </tr>\n",
       "    <tr>\n",
       "      <th>536365</th>\n",
       "      <td>22752</td>\n",
       "      <td>SET 7 BABUSHKA NESTING BOXES</td>\n",
       "      <td>2</td>\n",
       "      <td>2010-12-01 08:26:00</td>\n",
       "      <td>7.65</td>\n",
       "      <td>17850.00</td>\n",
       "      <td>United Kingdom</td>\n",
       "    </tr>\n",
       "    <tr>\n",
       "      <th>536365</th>\n",
       "      <td>21730</td>\n",
       "      <td>GLASS STAR FROSTED T-LIGHT HOLDER</td>\n",
       "      <td>6</td>\n",
       "      <td>2010-12-01 08:26:00</td>\n",
       "      <td>4.25</td>\n",
       "      <td>17850.00</td>\n",
       "      <td>United Kingdom</td>\n",
       "    </tr>\n",
       "    <tr>\n",
       "      <th>536366</th>\n",
       "      <td>22633</td>\n",
       "      <td>HAND WARMER UNION JACK</td>\n",
       "      <td>6</td>\n",
       "      <td>2010-12-01 08:28:00</td>\n",
       "      <td>1.85</td>\n",
       "      <td>17850.00</td>\n",
       "      <td>United Kingdom</td>\n",
       "    </tr>\n",
       "    <tr>\n",
       "      <th>536366</th>\n",
       "      <td>22632</td>\n",
       "      <td>HAND WARMER RED POLKA DOT</td>\n",
       "      <td>6</td>\n",
       "      <td>2010-12-01 08:28:00</td>\n",
       "      <td>1.85</td>\n",
       "      <td>17850.00</td>\n",
       "      <td>United Kingdom</td>\n",
       "    </tr>\n",
       "    <tr>\n",
       "      <th>536367</th>\n",
       "      <td>84879</td>\n",
       "      <td>ASSORTED COLOUR BIRD ORNAMENT</td>\n",
       "      <td>32</td>\n",
       "      <td>2010-12-01 08:34:00</td>\n",
       "      <td>1.69</td>\n",
       "      <td>13047.00</td>\n",
       "      <td>United Kingdom</td>\n",
       "    </tr>\n",
       "  </tbody>\n",
       "</table>\n",
       "</div>"
      ],
      "text/plain": [
       "          StockCode                          Description  Quantity         InvoiceDate  UnitPrice  \\\n",
       "InvoiceNo                                                                                           \n",
       "536365       85123A   WHITE HANGING HEART T-LIGHT HOLDER         6 2010-12-01 08:26:00       2.55   \n",
       "536365        71053                  WHITE METAL LANTERN         6 2010-12-01 08:26:00       3.39   \n",
       "536365       84406B       CREAM CUPID HEARTS COAT HANGER         8 2010-12-01 08:26:00       2.75   \n",
       "536365       84029G  KNITTED UNION FLAG HOT WATER BOTTLE         6 2010-12-01 08:26:00       3.39   \n",
       "536365       84029E       RED WOOLLY HOTTIE WHITE HEART.         6 2010-12-01 08:26:00       3.39   \n",
       "536365        22752         SET 7 BABUSHKA NESTING BOXES         2 2010-12-01 08:26:00       7.65   \n",
       "536365        21730    GLASS STAR FROSTED T-LIGHT HOLDER         6 2010-12-01 08:26:00       4.25   \n",
       "536366        22633               HAND WARMER UNION JACK         6 2010-12-01 08:28:00       1.85   \n",
       "536366        22632            HAND WARMER RED POLKA DOT         6 2010-12-01 08:28:00       1.85   \n",
       "536367        84879        ASSORTED COLOUR BIRD ORNAMENT        32 2010-12-01 08:34:00       1.69   \n",
       "\n",
       "           CustomerID         Country  \n",
       "InvoiceNo                              \n",
       "536365       17850.00  United Kingdom  \n",
       "536365       17850.00  United Kingdom  \n",
       "536365       17850.00  United Kingdom  \n",
       "536365       17850.00  United Kingdom  \n",
       "536365       17850.00  United Kingdom  \n",
       "536365       17850.00  United Kingdom  \n",
       "536365       17850.00  United Kingdom  \n",
       "536366       17850.00  United Kingdom  \n",
       "536366       17850.00  United Kingdom  \n",
       "536367       13047.00  United Kingdom  "
      ]
     },
     "execution_count": 5,
     "metadata": {},
     "output_type": "execute_result"
    }
   ],
   "source": [
    "df.head(10)"
   ]
  },
  {
   "cell_type": "code",
   "execution_count": 6,
   "id": "90f64a55",
   "metadata": {
    "scrolled": true
   },
   "outputs": [
    {
     "data": {
      "text/plain": [
       "Index(['StockCode', 'Description', 'Quantity', 'InvoiceDate', 'UnitPrice', 'CustomerID',\n",
       "       'Country'],\n",
       "      dtype='object')"
      ]
     },
     "execution_count": 6,
     "metadata": {},
     "output_type": "execute_result"
    }
   ],
   "source": [
    "df.columns   # there are some columns should be renamed"
   ]
  },
  {
   "cell_type": "code",
   "execution_count": 7,
   "id": "4202de45",
   "metadata": {},
   "outputs": [],
   "source": [
    "df=df.rename(columns={'StockCode':\"Stock_Code\", 'InvoiceDate':\"Invoice_Date\", 'UnitPrice':\"Unit_Price\", 'CustomerID':\"Customer_ID\"})\n",
    "# renaming columns in order to effectively analyze it"
   ]
  },
  {
   "cell_type": "code",
   "execution_count": 8,
   "id": "ac3eb503",
   "metadata": {},
   "outputs": [
    {
     "data": {
      "text/html": [
       "<div>\n",
       "<style scoped>\n",
       "    .dataframe tbody tr th:only-of-type {\n",
       "        vertical-align: middle;\n",
       "    }\n",
       "\n",
       "    .dataframe tbody tr th {\n",
       "        vertical-align: top;\n",
       "    }\n",
       "\n",
       "    .dataframe thead th {\n",
       "        text-align: right;\n",
       "    }\n",
       "</style>\n",
       "<table border=\"1\" class=\"dataframe\">\n",
       "  <thead>\n",
       "    <tr style=\"text-align: right;\">\n",
       "      <th></th>\n",
       "      <th>Quantity</th>\n",
       "      <th>Unit_Price</th>\n",
       "      <th>Customer_ID</th>\n",
       "    </tr>\n",
       "  </thead>\n",
       "  <tbody>\n",
       "    <tr>\n",
       "      <th>count</th>\n",
       "      <td>541909.00</td>\n",
       "      <td>541909.00</td>\n",
       "      <td>406829.00</td>\n",
       "    </tr>\n",
       "    <tr>\n",
       "      <th>mean</th>\n",
       "      <td>9.55</td>\n",
       "      <td>4.61</td>\n",
       "      <td>15287.69</td>\n",
       "    </tr>\n",
       "    <tr>\n",
       "      <th>std</th>\n",
       "      <td>218.08</td>\n",
       "      <td>96.76</td>\n",
       "      <td>1713.60</td>\n",
       "    </tr>\n",
       "    <tr>\n",
       "      <th>min</th>\n",
       "      <td>-80995.00</td>\n",
       "      <td>-11062.06</td>\n",
       "      <td>12346.00</td>\n",
       "    </tr>\n",
       "    <tr>\n",
       "      <th>25%</th>\n",
       "      <td>1.00</td>\n",
       "      <td>1.25</td>\n",
       "      <td>13953.00</td>\n",
       "    </tr>\n",
       "    <tr>\n",
       "      <th>50%</th>\n",
       "      <td>3.00</td>\n",
       "      <td>2.08</td>\n",
       "      <td>15152.00</td>\n",
       "    </tr>\n",
       "    <tr>\n",
       "      <th>75%</th>\n",
       "      <td>10.00</td>\n",
       "      <td>4.13</td>\n",
       "      <td>16791.00</td>\n",
       "    </tr>\n",
       "    <tr>\n",
       "      <th>max</th>\n",
       "      <td>80995.00</td>\n",
       "      <td>38970.00</td>\n",
       "      <td>18287.00</td>\n",
       "    </tr>\n",
       "  </tbody>\n",
       "</table>\n",
       "</div>"
      ],
      "text/plain": [
       "       Quantity  Unit_Price  Customer_ID\n",
       "count 541909.00   541909.00    406829.00\n",
       "mean       9.55        4.61     15287.69\n",
       "std      218.08       96.76      1713.60\n",
       "min   -80995.00   -11062.06     12346.00\n",
       "25%        1.00        1.25     13953.00\n",
       "50%        3.00        2.08     15152.00\n",
       "75%       10.00        4.13     16791.00\n",
       "max    80995.00    38970.00     18287.00"
      ]
     },
     "execution_count": 8,
     "metadata": {},
     "output_type": "execute_result"
    }
   ],
   "source": [
    "df.describe()   # as we see here there is negative values , so i will deep dive analyze it separately"
   ]
  },
  {
   "cell_type": "code",
   "execution_count": 9,
   "id": "31c1ef33",
   "metadata": {},
   "outputs": [],
   "source": [
    "df = df.astype({\"Customer_ID\": str})"
   ]
  },
  {
   "cell_type": "code",
   "execution_count": 10,
   "id": "691dfb33",
   "metadata": {
    "scrolled": false
   },
   "outputs": [
    {
     "name": "stdout",
     "output_type": "stream",
     "text": [
      "<class 'pandas.core.frame.DataFrame'>\n",
      "Index: 541909 entries, 536365 to 581587\n",
      "Data columns (total 7 columns):\n",
      " #   Column        Non-Null Count   Dtype         \n",
      "---  ------        --------------   -----         \n",
      " 0   Stock_Code    541909 non-null  object        \n",
      " 1   Description   540455 non-null  object        \n",
      " 2   Quantity      541909 non-null  int64         \n",
      " 3   Invoice_Date  541909 non-null  datetime64[ns]\n",
      " 4   Unit_Price    541909 non-null  float64       \n",
      " 5   Customer_ID   541909 non-null  object        \n",
      " 6   Country       541909 non-null  object        \n",
      "dtypes: datetime64[ns](1), float64(1), int64(1), object(4)\n",
      "memory usage: 33.1+ MB\n"
     ]
    }
   ],
   "source": [
    "df.info()"
   ]
  },
  {
   "cell_type": "code",
   "execution_count": 11,
   "id": "01a28b25",
   "metadata": {},
   "outputs": [],
   "source": [
    "# splitting the date column"
   ]
  },
  {
   "cell_type": "code",
   "execution_count": 12,
   "id": "ca42497c",
   "metadata": {},
   "outputs": [],
   "source": [
    "df['day'] = df['Invoice_Date'].dt.day\n",
    "df['month'] = df['Invoice_Date'].dt.month\n",
    "df['year'] = df['Invoice_Date'].dt.year\n",
    "df['hour'] = df['Invoice_Date'].dt.hour"
   ]
  },
  {
   "cell_type": "code",
   "execution_count": 13,
   "id": "4832e039",
   "metadata": {},
   "outputs": [
    {
     "data": {
      "text/html": [
       "<div>\n",
       "<style scoped>\n",
       "    .dataframe tbody tr th:only-of-type {\n",
       "        vertical-align: middle;\n",
       "    }\n",
       "\n",
       "    .dataframe tbody tr th {\n",
       "        vertical-align: top;\n",
       "    }\n",
       "\n",
       "    .dataframe thead th {\n",
       "        text-align: right;\n",
       "    }\n",
       "</style>\n",
       "<table border=\"1\" class=\"dataframe\">\n",
       "  <thead>\n",
       "    <tr style=\"text-align: right;\">\n",
       "      <th></th>\n",
       "      <th>Stock_Code</th>\n",
       "      <th>Description</th>\n",
       "      <th>Quantity</th>\n",
       "      <th>Invoice_Date</th>\n",
       "      <th>Unit_Price</th>\n",
       "      <th>Customer_ID</th>\n",
       "      <th>Country</th>\n",
       "      <th>day</th>\n",
       "      <th>month</th>\n",
       "      <th>year</th>\n",
       "      <th>hour</th>\n",
       "    </tr>\n",
       "    <tr>\n",
       "      <th>InvoiceNo</th>\n",
       "      <th></th>\n",
       "      <th></th>\n",
       "      <th></th>\n",
       "      <th></th>\n",
       "      <th></th>\n",
       "      <th></th>\n",
       "      <th></th>\n",
       "      <th></th>\n",
       "      <th></th>\n",
       "      <th></th>\n",
       "      <th></th>\n",
       "    </tr>\n",
       "  </thead>\n",
       "  <tbody>\n",
       "    <tr>\n",
       "      <th>536365</th>\n",
       "      <td>85123A</td>\n",
       "      <td>WHITE HANGING HEART T-LIGHT HOLDER</td>\n",
       "      <td>6</td>\n",
       "      <td>2010-12-01 08:26:00</td>\n",
       "      <td>2.55</td>\n",
       "      <td>17850.0</td>\n",
       "      <td>United Kingdom</td>\n",
       "      <td>1</td>\n",
       "      <td>12</td>\n",
       "      <td>2010</td>\n",
       "      <td>8</td>\n",
       "    </tr>\n",
       "    <tr>\n",
       "      <th>536365</th>\n",
       "      <td>71053</td>\n",
       "      <td>WHITE METAL LANTERN</td>\n",
       "      <td>6</td>\n",
       "      <td>2010-12-01 08:26:00</td>\n",
       "      <td>3.39</td>\n",
       "      <td>17850.0</td>\n",
       "      <td>United Kingdom</td>\n",
       "      <td>1</td>\n",
       "      <td>12</td>\n",
       "      <td>2010</td>\n",
       "      <td>8</td>\n",
       "    </tr>\n",
       "    <tr>\n",
       "      <th>536365</th>\n",
       "      <td>84406B</td>\n",
       "      <td>CREAM CUPID HEARTS COAT HANGER</td>\n",
       "      <td>8</td>\n",
       "      <td>2010-12-01 08:26:00</td>\n",
       "      <td>2.75</td>\n",
       "      <td>17850.0</td>\n",
       "      <td>United Kingdom</td>\n",
       "      <td>1</td>\n",
       "      <td>12</td>\n",
       "      <td>2010</td>\n",
       "      <td>8</td>\n",
       "    </tr>\n",
       "    <tr>\n",
       "      <th>536365</th>\n",
       "      <td>84029G</td>\n",
       "      <td>KNITTED UNION FLAG HOT WATER BOTTLE</td>\n",
       "      <td>6</td>\n",
       "      <td>2010-12-01 08:26:00</td>\n",
       "      <td>3.39</td>\n",
       "      <td>17850.0</td>\n",
       "      <td>United Kingdom</td>\n",
       "      <td>1</td>\n",
       "      <td>12</td>\n",
       "      <td>2010</td>\n",
       "      <td>8</td>\n",
       "    </tr>\n",
       "    <tr>\n",
       "      <th>536365</th>\n",
       "      <td>84029E</td>\n",
       "      <td>RED WOOLLY HOTTIE WHITE HEART.</td>\n",
       "      <td>6</td>\n",
       "      <td>2010-12-01 08:26:00</td>\n",
       "      <td>3.39</td>\n",
       "      <td>17850.0</td>\n",
       "      <td>United Kingdom</td>\n",
       "      <td>1</td>\n",
       "      <td>12</td>\n",
       "      <td>2010</td>\n",
       "      <td>8</td>\n",
       "    </tr>\n",
       "  </tbody>\n",
       "</table>\n",
       "</div>"
      ],
      "text/plain": [
       "          Stock_Code                          Description  Quantity        Invoice_Date  \\\n",
       "InvoiceNo                                                                                 \n",
       "536365        85123A   WHITE HANGING HEART T-LIGHT HOLDER         6 2010-12-01 08:26:00   \n",
       "536365         71053                  WHITE METAL LANTERN         6 2010-12-01 08:26:00   \n",
       "536365        84406B       CREAM CUPID HEARTS COAT HANGER         8 2010-12-01 08:26:00   \n",
       "536365        84029G  KNITTED UNION FLAG HOT WATER BOTTLE         6 2010-12-01 08:26:00   \n",
       "536365        84029E       RED WOOLLY HOTTIE WHITE HEART.         6 2010-12-01 08:26:00   \n",
       "\n",
       "           Unit_Price Customer_ID         Country  day  month  year  hour  \n",
       "InvoiceNo                                                                  \n",
       "536365           2.55     17850.0  United Kingdom    1     12  2010     8  \n",
       "536365           3.39     17850.0  United Kingdom    1     12  2010     8  \n",
       "536365           2.75     17850.0  United Kingdom    1     12  2010     8  \n",
       "536365           3.39     17850.0  United Kingdom    1     12  2010     8  \n",
       "536365           3.39     17850.0  United Kingdom    1     12  2010     8  "
      ]
     },
     "execution_count": 13,
     "metadata": {},
     "output_type": "execute_result"
    }
   ],
   "source": [
    "df.head()  # check dataframe again to inspect updates above"
   ]
  },
  {
   "cell_type": "code",
   "execution_count": 14,
   "id": "78937cf3",
   "metadata": {
    "scrolled": true
   },
   "outputs": [
    {
     "data": {
      "text/plain": [
       "Stock_Code         0\n",
       "Description     1454\n",
       "Quantity           0\n",
       "Invoice_Date       0\n",
       "Unit_Price         0\n",
       "Customer_ID        0\n",
       "Country            0\n",
       "day                0\n",
       "month              0\n",
       "year               0\n",
       "hour               0\n",
       "dtype: int64"
      ]
     },
     "execution_count": 14,
     "metadata": {},
     "output_type": "execute_result"
    }
   ],
   "source": [
    "df.isnull().sum(axis=0) # inspect nulls"
   ]
  },
  {
   "cell_type": "markdown",
   "id": "dbba5d03",
   "metadata": {},
   "source": [
    "# dealing_with_duplicates"
   ]
  },
  {
   "cell_type": "markdown",
   "id": "5f71df8e",
   "metadata": {},
   "source": [
    "# inspect_duplicates and make a csv file for them then drop it"
   ]
  },
  {
   "cell_type": "code",
   "execution_count": 15,
   "id": "7ad928ba",
   "metadata": {},
   "outputs": [],
   "source": [
    "duplicates=df[df.duplicated(keep=False)]"
   ]
  },
  {
   "cell_type": "code",
   "execution_count": 16,
   "id": "fca3b264",
   "metadata": {},
   "outputs": [],
   "source": [
    "#duplicates.to_csv(\"C:/Users/20114/OneDrive/Documents/GitHub/E-Commerce_EDA/dplicates.csv\")"
   ]
  },
  {
   "cell_type": "code",
   "execution_count": 17,
   "id": "078bbfc2",
   "metadata": {},
   "outputs": [],
   "source": [
    "df.drop_duplicates(keep=\"first\",inplace=True)  # drop duplicates"
   ]
  },
  {
   "cell_type": "code",
   "execution_count": 18,
   "id": "ba255890",
   "metadata": {},
   "outputs": [
    {
     "data": {
      "text/plain": [
       "(536061, 11)"
      ]
     },
     "execution_count": 18,
     "metadata": {},
     "output_type": "execute_result"
    }
   ],
   "source": [
    "df.shape #check"
   ]
  },
  {
   "cell_type": "markdown",
   "id": "c7c4f9a4",
   "metadata": {},
   "source": [
    "# Let's see the outliers before analysis"
   ]
  },
  {
   "cell_type": "markdown",
   "id": "80aa6c5a",
   "metadata": {},
   "source": [
    "## Anlyzing Outliers  ( boxplot is the best way to inspect outliers )"
   ]
  },
  {
   "cell_type": "markdown",
   "id": "8321e1cf",
   "metadata": {},
   "source": [
    "## 1- Quantity_Outliers"
   ]
  },
  {
   "cell_type": "markdown",
   "id": "c8d2fb8d",
   "metadata": {},
   "source": [
    "### before removing outliers"
   ]
  },
  {
   "cell_type": "code",
   "execution_count": 99,
   "id": "2d270030",
   "metadata": {},
   "outputs": [],
   "source": [
    "# Find the 75th and 25th percentiles\n",
    "Quantity_seventy_fifth = df[\"Quantity\"].quantile(.75)\n",
    "Quantity_twenty_fifth = df[\"Quantity\"].quantile(.25)\n",
    "\n",
    "# Calculate iqr\n",
    "Quantity_iqr = Quantity_seventy_fifth - Quantity_twenty_fifth\n",
    "\n",
    "# Calculate the thresholds\n",
    "upper = Quantity_seventy_fifth + (1.5 * Quantity_iqr)\n",
    "lower = Quantity_twenty_fifth - (1.5 * Quantity_iqr)"
   ]
  },
  {
   "cell_type": "code",
   "execution_count": 19,
   "id": "68fa5d0e",
   "metadata": {
    "scrolled": false
   },
   "outputs": [
    {
     "data": {
      "image/png": "[encoded data removed]",
      "text/plain": [
       "<Figure size 600x1200 with 1 Axes>"
      ]
     },
     "metadata": {},
     "output_type": "display_data"
    }
   ],
   "source": [
    "plt.figure(figsize = (6,12))   \n",
    "df.boxplot(\"Quantity\")\n",
    "plt.show()"
   ]
  },
  {
   "cell_type": "code",
   "execution_count": 102,
   "id": "c7ba266c",
   "metadata": {},
   "outputs": [],
   "source": [
    "quantity_outliers = df[(df[\"Quantity\"] < lower) | (df[\"Quantity\"] > upper)]"
   ]
  },
  {
   "cell_type": "code",
   "execution_count": 103,
   "id": "df080348",
   "metadata": {},
   "outputs": [],
   "source": [
    "quantity_outliers.to_csv(\"C:/Users/20114/OneDrive/Documents/GitHub/E-Commerce_EDA/quantity_outliers.csv\")"
   ]
  },
  {
   "cell_type": "code",
   "execution_count": 24,
   "id": "bec124b1",
   "metadata": {
    "scrolled": true
   },
   "outputs": [
    {
     "data": {
      "text/plain": [
       "M         244\n",
       "22423     183\n",
       "POST      126\n",
       "22960      87\n",
       "D          77\n",
       "         ... \n",
       "22821       1\n",
       "35966       1\n",
       "21319       1\n",
       "47591B      1\n",
       "23061       1\n",
       "Name: Stock_Code, Length: 2559, dtype: int64"
      ]
     },
     "execution_count": 24,
     "metadata": {},
     "output_type": "execute_result"
    }
   ],
   "source": [
    "quantity_outliers[\"Stock_Code\"].value_counts() # products and their outliers"
   ]
  },
  {
   "cell_type": "markdown",
   "id": "c87aca33",
   "metadata": {},
   "source": [
    "### after removing outliers"
   ]
  },
  {
   "cell_type": "code",
   "execution_count": 100,
   "id": "9aecde92",
   "metadata": {
    "scrolled": true
   },
   "outputs": [
    {
     "data": {
      "text/plain": [
       "count   522797.00\n",
       "mean         6.72\n",
       "std          8.82\n",
       "min        -33.00\n",
       "25%          1.00\n",
       "50%          3.00\n",
       "75%         10.00\n",
       "max         58.00\n",
       "Name: Quantity, dtype: float64"
      ]
     },
     "execution_count": 100,
     "metadata": {},
     "output_type": "execute_result"
    }
   ],
   "source": [
    "# Subset the data\n",
    "quantity_without_outliers = df[(df[\"Quantity\"] > lower) & (df[\"Quantity\"] < upper)]\n",
    "quantity_without_outliers.head()\n",
    "quantity_without_outliers[\"Quantity\"].describe()"
   ]
  },
  {
   "cell_type": "code",
   "execution_count": 101,
   "id": "a254c07a",
   "metadata": {
    "scrolled": false
   },
   "outputs": [
    {
     "data": {
      "image/png": "[encoded data removed]",
      "text/plain": [
       "<Figure size 640x480 with 1 Axes>"
      ]
     },
     "metadata": {},
     "output_type": "display_data"
    }
   ],
   "source": [
    "sns.boxplot(data=quantity_without_outliers,y=\"Quantity\")\n",
    "plt.show()"
   ]
  },
  {
   "cell_type": "markdown",
   "id": "5970b918",
   "metadata": {},
   "source": [
    "## 2- Unitprice_Outliers"
   ]
  },
  {
   "cell_type": "markdown",
   "id": "dee3f615",
   "metadata": {},
   "source": [
    "### before removing outliers"
   ]
  },
  {
   "cell_type": "code",
   "execution_count": 114,
   "id": "3bc4fdbf",
   "metadata": {},
   "outputs": [],
   "source": [
    "# Find the 75th and 25th percentiles\n",
    "Unit_Price_seventy_fifth = df[\"Unit_Price\"].quantile(0.80)\n",
    "Unit_Price_twenty_fifth = df[\"Unit_Price\"].quantile(0.25)\n",
    "\n",
    "# Calculate iqr\n",
    "Unit_Price_iqr = Unit_Price_seventy_fifth - Unit_Price_twenty_fifth\n",
    "\n",
    "# Calculate the thresholds\n",
    "upper = Unit_Price_seventy_fifth + (1.5 * Unit_Price_iqr)\n",
    "lower = Unit_Price_twenty_fifth - (1.5 * Unit_Price_iqr)"
   ]
  },
  {
   "cell_type": "code",
   "execution_count": 26,
   "id": "4523a5f3",
   "metadata": {
    "scrolled": false
   },
   "outputs": [
    {
     "data": {
      "image/png": "[encoded data removed]",
      "text/plain": [
       "<Figure size 600x1200 with 1 Axes>"
      ]
     },
     "metadata": {},
     "output_type": "display_data"
    }
   ],
   "source": [
    "plt.figure(figsize = (6,12))\n",
    "df.boxplot(\"Unit_Price\")\n",
    "plt.show()"
   ]
  },
  {
   "cell_type": "code",
   "execution_count": 128,
   "id": "baa19674",
   "metadata": {},
   "outputs": [],
   "source": [
    "unitprice_outliers = df[(df[\"Unit_Price\"] < lower) | (df[\"Unit_Price\"] > upper)]"
   ]
  },
  {
   "cell_type": "code",
   "execution_count": 129,
   "id": "4e2bacdb",
   "metadata": {},
   "outputs": [],
   "source": [
    "unitprice_outliers.to_csv(\"C:/Users/20114/OneDrive/Documents/GitHub/E-Commerce_EDA/unitprice_outliers.csv\")"
   ]
  },
  {
   "cell_type": "markdown",
   "id": "b6597254",
   "metadata": {},
   "source": [
    "### after removing outliers"
   ]
  },
  {
   "cell_type": "code",
   "execution_count": 126,
   "id": "9839b83c",
   "metadata": {
    "scrolled": false
   },
   "outputs": [
    {
     "data": {
      "text/plain": [
       "count   511479.00\n",
       "mean         2.72\n",
       "std          2.20\n",
       "min          0.00\n",
       "25%          1.25\n",
       "50%          2.08\n",
       "75%          3.75\n",
       "max         10.40\n",
       "Name: Unit_Price, dtype: float64"
      ]
     },
     "execution_count": 126,
     "metadata": {},
     "output_type": "execute_result"
    }
   ],
   "source": [
    "# Subset the data\n",
    "Unit_Price_without_outliers = df[(df[\"Unit_Price\"] > lower) & (df[\"Unit_Price\"] < upper)]\n",
    "Unit_Price_without_outliers.head()\n",
    "Unit_Price_without_outliers[\"Unit_Price\"].describe()"
   ]
  },
  {
   "cell_type": "code",
   "execution_count": 127,
   "id": "5763ce5b",
   "metadata": {
    "scrolled": false
   },
   "outputs": [
    {
     "data": {
      "image/png": "[encoded data removed]",
      "text/plain": [
       "<Figure size 640x480 with 1 Axes>"
      ]
     },
     "metadata": {},
     "output_type": "display_data"
    }
   ],
   "source": [
    "sns.boxplot(data=Unit_Price_without_outliers,y=\"Unit_Price\")\n",
    "plt.show()"
   ]
  },
  {
   "cell_type": "markdown",
   "id": "0c95b876",
   "metadata": {},
   "source": [
    "# creating clean dataframe"
   ]
  },
  {
   "cell_type": "code",
   "execution_count": 34,
   "id": "0fa2c414",
   "metadata": {},
   "outputs": [
    {
     "data": {
      "text/html": [
       "<div>\n",
       "<style scoped>\n",
       "    .dataframe tbody tr th:only-of-type {\n",
       "        vertical-align: middle;\n",
       "    }\n",
       "\n",
       "    .dataframe tbody tr th {\n",
       "        vertical-align: top;\n",
       "    }\n",
       "\n",
       "    .dataframe thead th {\n",
       "        text-align: right;\n",
       "    }\n",
       "</style>\n",
       "<table border=\"1\" class=\"dataframe\">\n",
       "  <thead>\n",
       "    <tr style=\"text-align: right;\">\n",
       "      <th></th>\n",
       "      <th>Stock_Code</th>\n",
       "      <th>Description</th>\n",
       "      <th>Quantity</th>\n",
       "      <th>Invoice_Date</th>\n",
       "      <th>Unit_Price</th>\n",
       "      <th>Customer_ID</th>\n",
       "      <th>Country</th>\n",
       "      <th>day</th>\n",
       "      <th>month</th>\n",
       "      <th>year</th>\n",
       "      <th>hour</th>\n",
       "    </tr>\n",
       "    <tr>\n",
       "      <th>InvoiceNo</th>\n",
       "      <th></th>\n",
       "      <th></th>\n",
       "      <th></th>\n",
       "      <th></th>\n",
       "      <th></th>\n",
       "      <th></th>\n",
       "      <th></th>\n",
       "      <th></th>\n",
       "      <th></th>\n",
       "      <th></th>\n",
       "      <th></th>\n",
       "    </tr>\n",
       "  </thead>\n",
       "  <tbody>\n",
       "    <tr>\n",
       "      <th>536365</th>\n",
       "      <td>85123A</td>\n",
       "      <td>WHITE HANGING HEART T-LIGHT HOLDER</td>\n",
       "      <td>6</td>\n",
       "      <td>2010-12-01 08:26:00</td>\n",
       "      <td>2.55</td>\n",
       "      <td>17850.0</td>\n",
       "      <td>United Kingdom</td>\n",
       "      <td>1</td>\n",
       "      <td>12</td>\n",
       "      <td>2010</td>\n",
       "      <td>8</td>\n",
       "    </tr>\n",
       "    <tr>\n",
       "      <th>536365</th>\n",
       "      <td>71053</td>\n",
       "      <td>WHITE METAL LANTERN</td>\n",
       "      <td>6</td>\n",
       "      <td>2010-12-01 08:26:00</td>\n",
       "      <td>3.39</td>\n",
       "      <td>17850.0</td>\n",
       "      <td>United Kingdom</td>\n",
       "      <td>1</td>\n",
       "      <td>12</td>\n",
       "      <td>2010</td>\n",
       "      <td>8</td>\n",
       "    </tr>\n",
       "    <tr>\n",
       "      <th>536365</th>\n",
       "      <td>84406B</td>\n",
       "      <td>CREAM CUPID HEARTS COAT HANGER</td>\n",
       "      <td>8</td>\n",
       "      <td>2010-12-01 08:26:00</td>\n",
       "      <td>2.75</td>\n",
       "      <td>17850.0</td>\n",
       "      <td>United Kingdom</td>\n",
       "      <td>1</td>\n",
       "      <td>12</td>\n",
       "      <td>2010</td>\n",
       "      <td>8</td>\n",
       "    </tr>\n",
       "    <tr>\n",
       "      <th>536365</th>\n",
       "      <td>84029G</td>\n",
       "      <td>KNITTED UNION FLAG HOT WATER BOTTLE</td>\n",
       "      <td>6</td>\n",
       "      <td>2010-12-01 08:26:00</td>\n",
       "      <td>3.39</td>\n",
       "      <td>17850.0</td>\n",
       "      <td>United Kingdom</td>\n",
       "      <td>1</td>\n",
       "      <td>12</td>\n",
       "      <td>2010</td>\n",
       "      <td>8</td>\n",
       "    </tr>\n",
       "    <tr>\n",
       "      <th>536365</th>\n",
       "      <td>84029E</td>\n",
       "      <td>RED WOOLLY HOTTIE WHITE HEART.</td>\n",
       "      <td>6</td>\n",
       "      <td>2010-12-01 08:26:00</td>\n",
       "      <td>3.39</td>\n",
       "      <td>17850.0</td>\n",
       "      <td>United Kingdom</td>\n",
       "      <td>1</td>\n",
       "      <td>12</td>\n",
       "      <td>2010</td>\n",
       "      <td>8</td>\n",
       "    </tr>\n",
       "  </tbody>\n",
       "</table>\n",
       "</div>"
      ],
      "text/plain": [
       "          Stock_Code                          Description  Quantity        Invoice_Date  \\\n",
       "InvoiceNo                                                                                 \n",
       "536365        85123A   WHITE HANGING HEART T-LIGHT HOLDER         6 2010-12-01 08:26:00   \n",
       "536365         71053                  WHITE METAL LANTERN         6 2010-12-01 08:26:00   \n",
       "536365        84406B       CREAM CUPID HEARTS COAT HANGER         8 2010-12-01 08:26:00   \n",
       "536365        84029G  KNITTED UNION FLAG HOT WATER BOTTLE         6 2010-12-01 08:26:00   \n",
       "536365        84029E       RED WOOLLY HOTTIE WHITE HEART.         6 2010-12-01 08:26:00   \n",
       "\n",
       "           Unit_Price Customer_ID         Country  day  month  year  hour  \n",
       "InvoiceNo                                                                  \n",
       "536365           2.55     17850.0  United Kingdom    1     12  2010     8  \n",
       "536365           3.39     17850.0  United Kingdom    1     12  2010     8  \n",
       "536365           2.75     17850.0  United Kingdom    1     12  2010     8  \n",
       "536365           3.39     17850.0  United Kingdom    1     12  2010     8  \n",
       "536365           3.39     17850.0  United Kingdom    1     12  2010     8  "
      ]
     },
     "execution_count": 34,
     "metadata": {},
     "output_type": "execute_result"
    }
   ],
   "source": [
    "df.head()"
   ]
  },
  {
   "cell_type": "code",
   "execution_count": 35,
   "id": "b6548f42",
   "metadata": {},
   "outputs": [
    {
     "ename": "NameError",
     "evalue": "name 'clean' is not defined",
     "output_type": "error",
     "traceback": [
      "\u001b[1;31m---------------------------------------------------------------------------\u001b[0m",
      "\u001b[1;31mNameError\u001b[0m                                 Traceback (most recent call last)",
      "Cell \u001b[1;32mIn[35], line 1\u001b[0m\n\u001b[1;32m----> 1\u001b[0m clean[\u001b[38;5;124m\"\u001b[39m\u001b[38;5;124mRevenue\u001b[39m\u001b[38;5;124m\"\u001b[39m]\u001b[38;5;241m=\u001b[39m\u001b[43mclean\u001b[49m[\u001b[38;5;124m\"\u001b[39m\u001b[38;5;124mQuantity\u001b[39m\u001b[38;5;124m\"\u001b[39m]\u001b[38;5;241m*\u001b[39mclean[\u001b[38;5;124m\"\u001b[39m\u001b[38;5;124mUnit_Price\u001b[39m\u001b[38;5;124m\"\u001b[39m]\n",
      "\u001b[1;31mNameError\u001b[0m: name 'clean' is not defined"
     ]
    }
   ],
   "source": [
    "clean[\"Revenue\"]=clean[\"Quantity\"]*clean[\"Unit_Price\"] # make anew column with revenue "
   ]
  },
  {
   "cell_type": "code",
   "execution_count": null,
   "id": "6af3a766",
   "metadata": {},
   "outputs": [],
   "source": [
    "clean.head()"
   ]
  },
  {
   "cell_type": "code",
   "execution_count": null,
   "id": "eb9df125",
   "metadata": {},
   "outputs": [],
   "source": [
    "clean.describe()"
   ]
  },
  {
   "cell_type": "markdown",
   "id": "ad52321b",
   "metadata": {},
   "source": [
    "## lets make some insights"
   ]
  },
  {
   "cell_type": "markdown",
   "id": "56fcaa7b",
   "metadata": {},
   "source": [
    "## what are sales revenue for years"
   ]
  },
  {
   "cell_type": "code",
   "execution_count": null,
   "id": "de7d244c",
   "metadata": {},
   "outputs": [],
   "source": [
    "clean.groupby([\"year\"])[[\"Revenue\"]].sum().sort_values(by=\"year\",ascending=True)"
   ]
  },
  {
   "cell_type": "markdown",
   "id": "ac97dbe9",
   "metadata": {},
   "source": [
    "### what are the top sales countries"
   ]
  },
  {
   "cell_type": "code",
   "execution_count": null,
   "id": "f34c3ab3",
   "metadata": {
    "scrolled": false
   },
   "outputs": [],
   "source": [
    "clean.groupby(\"Country\")[[\"Quantity\"]].sum().sort_values(by=[\"Quantity\"],ascending=False)"
   ]
  },
  {
   "cell_type": "markdown",
   "id": "0e3817f9",
   "metadata": {},
   "source": [
    "### what are the top revenue countries"
   ]
  },
  {
   "cell_type": "code",
   "execution_count": null,
   "id": "ea65cb0d",
   "metadata": {
    "scrolled": false
   },
   "outputs": [],
   "source": [
    "clean.groupby(\"Country\")[[\"Revenue\"]].sum().sort_values(by=[\"Revenue\"],ascending=False)"
   ]
  },
  {
   "cell_type": "markdown",
   "id": "145d2f1f",
   "metadata": {},
   "source": [
    "## what are the top sales products ( Quantity )"
   ]
  },
  {
   "cell_type": "code",
   "execution_count": null,
   "id": "24dc77f1",
   "metadata": {
    "scrolled": true
   },
   "outputs": [],
   "source": [
    "clean.groupby([\"Description\",\"Stock_Code\"])[[\"Quantity\"]].sum().sort_values(by=\"Quantity\",ascending=False)"
   ]
  },
  {
   "cell_type": "markdown",
   "id": "6799e397",
   "metadata": {},
   "source": [
    "## what are the top sales products ( Revenue )"
   ]
  },
  {
   "cell_type": "code",
   "execution_count": null,
   "id": "3a809c04",
   "metadata": {
    "scrolled": true
   },
   "outputs": [],
   "source": [
    "clean.groupby([\"Description\",\"Stock_Code\"])[[\"Revenue\"]].sum().sort_values(by=\"Revenue\",ascending=False)"
   ]
  },
  {
   "cell_type": "markdown",
   "id": "025dc7ea",
   "metadata": {},
   "source": [
    "## what are the lowest sales products ( Revenue )"
   ]
  },
  {
   "cell_type": "code",
   "execution_count": null,
   "id": "3df9b8fa",
   "metadata": {
    "scrolled": false
   },
   "outputs": [],
   "source": [
    "clean.groupby([\"Description\",\"Stock_Code\"])[[\"Revenue\"]].sum().sort_values(by=\"Revenue\",ascending=True)"
   ]
  },
  {
   "cell_type": "markdown",
   "id": "924b5a81",
   "metadata": {},
   "source": [
    "## what are the lowest sales products ( Quantity )"
   ]
  },
  {
   "cell_type": "code",
   "execution_count": null,
   "id": "8c99ae5e",
   "metadata": {
    "scrolled": false
   },
   "outputs": [],
   "source": [
    "clean.groupby([\"Description\",\"Stock_Code\"])[[\"Quantity\"]].sum().sort_values(by=\"Quantity\",ascending=True)"
   ]
  },
  {
   "cell_type": "markdown",
   "id": "411c9448",
   "metadata": {},
   "source": [
    "## which customers has the most (Quantity)"
   ]
  },
  {
   "cell_type": "code",
   "execution_count": null,
   "id": "b05dc3bc",
   "metadata": {
    "scrolled": true
   },
   "outputs": [],
   "source": [
    "clean.groupby([\"Customer_ID\"])[[\"Quantity\"]].sum().sort_values(by=\"Quantity\",ascending=False)"
   ]
  },
  {
   "cell_type": "markdown",
   "id": "68e708a8",
   "metadata": {},
   "source": [
    "## which customers has the most (Revenue)"
   ]
  },
  {
   "cell_type": "code",
   "execution_count": null,
   "id": "e4bd59b6",
   "metadata": {
    "scrolled": true
   },
   "outputs": [],
   "source": [
    "clean.groupby([\"Customer_ID\"])[[\"Revenue\"]].sum().sort_values(by=\"Revenue\",ascending=False)"
   ]
  },
  {
   "cell_type": "markdown",
   "id": "79f38930",
   "metadata": {},
   "source": [
    "# lets make some visualiztion"
   ]
  },
  {
   "cell_type": "markdown",
   "id": "e7090e95",
   "metadata": {},
   "source": [
    "## what is the distribution of hours ordering "
   ]
  },
  {
   "cell_type": "code",
   "execution_count": null,
   "id": "c41f1557",
   "metadata": {
    "scrolled": false
   },
   "outputs": [],
   "source": [
    "hours = [hour for hour , clean in clean.groupby(\"hour\")]\n",
    "hours2=range(1,25)\n",
    "plt.figure(figsize=(15,10))\n",
    "plt.plot(hours,clean.groupby(\"hour\")[\"Quantity\"].count())\n",
    "plt.xticks(hours2)\n",
    "plt.title(\"how many orders for each hour in the day\")\n",
    "plt.xlabel(\"order hours\")\n",
    "plt.ylabel(\" count of orders\")\n",
    "plt.grid(axis=\"y\")\n",
    "plt.show()"
   ]
  },
  {
   "cell_type": "markdown",
   "id": "a0b0172b",
   "metadata": {},
   "source": [
    "## what is the distribution of month days ordering "
   ]
  },
  {
   "cell_type": "code",
   "execution_count": null,
   "id": "e9748661",
   "metadata": {
    "scrolled": true
   },
   "outputs": [],
   "source": [
    "days = [day for day , clean in clean.groupby(\"day\")]\n",
    "\n",
    "plt.figure(figsize=(15,10))\n",
    "plt.plot(days,clean.groupby(\"day\")[\"Quantity\"].count())\n",
    "plt.xticks(days)\n",
    "plt.xlabel(\"order days\")\n",
    "plt.ylabel(\" count of orders\")\n",
    "plt.title(\"how many orders for each day in the month\")\n",
    "plt.grid(axis=\"y\")\n",
    "plt.show()"
   ]
  },
  {
   "cell_type": "code",
   "execution_count": null,
   "id": "7d175942",
   "metadata": {},
   "outputs": [],
   "source": []
  }
 ],
 "metadata": {
  "kernelspec": {
   "display_name": "Python 3 (ipykernel)",
   "language": "python",
   "name": "python3"
  },
  "language_info": {
   "codemirror_mode": {
    "name": "ipython",
    "version": 3
   },
   "file_extension": ".py",
   "mimetype": "text/x-python",
   "name": "python",
   "nbconvert_exporter": "python",
   "pygments_lexer": "ipython3",
   "version": "3.9.17"
  }
 },
 "nbformat": 4,
 "nbformat_minor": 5
}
